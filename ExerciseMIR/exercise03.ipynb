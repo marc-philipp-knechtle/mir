{
 "cells": [
  {
   "cell_type": "markdown",
   "metadata": {},
   "source": [
    "## Lecture: Music Information Retrieval\n",
    "\n",
    "Christof Weiß, Computational Humanities group, JMU\n",
    "\n",
    "# Exercise 3 - Audio Processing Basics\n",
    "\n",
    "Material by Meinard Müller, Stefan Balke, and Frank Zalkow, AudioLabs Erlangen"
   ]
  },
  {
   "cell_type": "markdown",
   "metadata": {},
   "source": [
    "In this exercise, we apply basic processing techniques using the Fourier transform and derive feature representations from audio recordings. The Fourier transform, which is used to convert a time-dependent signal\n",
    "to a frequency-dependent signal, is one of the most important mathematical tools\n",
    "in audio signal processing. Applying the Fourier transform to local sections\n",
    "of an audio signal, one obtains the __short-time Fourier transform (STFT)__.\n",
    "In this exercise, we study a discrete version of the STFT.\n",
    "To work with the discrete STFT in practice, one needs to correctly\n",
    "interpret the discrete time and frequency parameters.\n",
    "We compute a discrete STFT and visualize its magnitude in form of a\n",
    "__spectrogram representation__. Then, we derive from the STFT various audio features\n",
    "that are useful for analyzing music signals.\n",
    "In particular, we develop a __log-frequency spectrogram__, where the\n",
    "frequency axis is converted into an axis corresponding to musical pitches.\n",
    "From this, we derive a __chroma representation__, which is a useful tool\n",
    "for capturing harmonic information of music.\n",
    "\n",
    "### Preparation\n",
    "Please download the zip file _Exercise_03_data.zip_ and unpack its content into the subfolder _/data/_ of this notebook's directory."
   ]
  },
  {
   "cell_type": "markdown",
   "metadata": {},
   "source": [
    "## <a name=\"Introduction\"></a>  Introduction"
   ]
  },
  {
   "cell_type": "markdown",
   "metadata": {},
   "source": [
    "Audio signals are complex mixtures consisting of a multitude of different sound components.\n",
    "A first step in better understanding a given signal is to decompose it into building\n",
    "blocks that are better accessible for the subsequent processing steps.\n",
    "In the case that these building blocks consist of complex-valued sinusoidal\n",
    "functions, such a process is also called __Fourier analysis__.\n",
    "The Fourier transform maps a time-dependent signal\n",
    "to a frequency-dependent function which reveals the spectrum of\n",
    "frequency components that compose the original signal.\n",
    "Loosely speaking, a signal and its Fourier transform are two sides\n",
    "of the same coin.\n",
    "On the one side, the signal displays the time information and hides the\n",
    "information about frequencies.\n",
    "On the other side, the Fourier transform reveals information about\n",
    "frequencies and hides the time information.\n",
    "\n",
    "To obtain back the hidden time information, Dennis Gabor introduced\n",
    "in the year 1946 the modified Fourier transform, now known as\n",
    "__short-time Fourier transform* (STFT)__.\n",
    "This transform is a compromise between a time- and a frequency-based\n",
    "representation by determining the sinusoidal magnitude\n",
    "and phase content of local sections of a signal as it changes over time.\n",
    "In this way, the STFT does not only tell which frequencies\n",
    "are \"contained\" in the signal but also at which points of times or,\n",
    "to be more precise, in which time intervals these frequencies appear.\n",
    "\n",
    "<img src=\"./data/Feat_LogSpec_ChromaScale.png\" width=\"66%\" height=\"66%\">\n",
    "\n",
    "The figure shows various representations for a piano recording of the chromatic scale ranging from A0 ($p=21$) to C8 ($p=108$).\n",
    "**(a)** Piano keys representing the chromatic scale.\n",
    "**(b)** Spectrogram representation.\n",
    "**(c)** Pitch-based log-frequency spectrogram.\n",
    "**(d)** Chromagram representation.\n",
    "For visualization purposes, the values are color-coded using a logarithmic scale.\n",
    "The pitch C3 ($p=48$) played at time $t=30~{\\mathrm{sec}}$ has been highlighted\n",
    "by the rectangular frames.\n",
    "\n",
    "The main objective of this exercise is to acquire a good understanding\n",
    "of the STFT. To this end, we study a discrete version of the STFT\n",
    "using the __discrete Fourier transform (DFT)__, which can be efficiently\n",
    "computed using the fast Fourier transform (FFT).\n",
    "The discrete STFT yields a discrete set of Fourier coefficients\n",
    "that are indexed by time and frequency parameters.\n",
    "The correct physical interpretation of these parameters\n",
    "in terms of units such as seconds and Hertz\n",
    "depends on the sampling rate, the window size, and the\n",
    "hop size used in the STFT computation.\n",
    "In this exercise, we will compute a discrete STFT using Python\n",
    "and then visualize its magnitude by a spectrogram representation,\n",
    "see [the STFT-section](#STFT).\n",
    "By applying the STFT to different audio examples and\n",
    "by modifying the various parameters, one should get a\n",
    "better understanding on how the STFT works in practice.\n",
    "\n",
    "To make music data comparable and algorithmically accessible,\n",
    "the first step in basically all music processing tasks is to extract\n",
    "suitable __features__ that capture relevant aspects\n",
    "while suppressing irrelevant details.\n",
    "In the second part of this lab course, we study audio features and\n",
    "mid-level representations that are particularly useful for\n",
    "capturing pitch information of music signals.\n",
    "Assuming that we are dealing with music that is based on the __equal-tempered scale__\n",
    "(the scale that corresponds to the keys of a piano keyboard),\n",
    "we will convert an audio recording into a feature representation\n",
    "that reveals the distribution of the signal's energy across the different\n",
    "pitches, see [the  Log-Frequency-Spectrogram-section](#LFS).\n",
    "Technically, these features are obtained from a spectrogram by converting\n",
    "the linear frequency axis (measured in Hertz) into a logarithmic axis\n",
    "(measured in (MIDI) pitch numbers).\n",
    "From this log-frequency spectrogram, we then derive a __time-chroma representation__\n",
    "by suitably combining pitch bands that correspond to the same pitch class (chroma),\n",
    "see [the Chroma-Features-section](#Chroma).\n",
    "The resulting chroma features show a high degree of robustness to\n",
    "variations in timbre and instrumentation."
   ]
  },
  {
   "cell_type": "markdown",
   "metadata": {},
   "source": [
    "## <a name=\"STFT\"></a>  STFT"
   ]
  },
  {
   "cell_type": "markdown",
   "metadata": {},
   "source": [
    "The Fourier transform and in particular the discrete STFT serve as\n",
    "*front-end transform*, the first computing step,\n",
    "for deriving a large number of different musically relevant audio features, and as input representation for many deep-learning approaches.\n",
    "We now recall the definition of the discrete STFT while fixing some notation.\n",
    "Let $x:[0:L-1]:=\\{0,1,\\ldots,L-1\\}\\to{\\mathbb R}$ be a real-valued discrete-time signal of length $L$ obtained by\n",
    "equidistant sampling with respect to a fixed sampling rate $F_\\mathrm{s}$ given in Hertz ($\\mathrm{Hz}$).\n",
    "Furthermore, let $w:[0:N-1]:=\\{0,1,\\ldots,N-1\\}\\to{\\mathbb R}$ be a discrete-time window\n",
    "of length $N\\in{\\mathbb N}$ (usually a power of two) and let $H\\in{\\mathbb N}$ be a hop size parameter.\n",
    "With regards to these parameters, the discrete STFT ${\\mathcal X}$ of the signal $x$ is given by\n",
    "\n",
    "\\begin{eqnarray}\n",
    "   {\\mathcal X}(m,k):= \\sum_{n=0}^{N-1} x(n+mH)w(n)\\exp(-2\\pi ikn/N)\n",
    "\\end{eqnarray}\n",
    "\n",
    "with $m\\in[0:\\lfloor \\frac{L-N}{H} \\rfloor]$ and $k\\in[0:K]$. The complex number ${\\mathcal X}(m,k)$ denotes\n",
    "the $k^{\\mathrm{th}}$ Fourier coefficient for the $m^{\\mathrm{th}}$ time frame,\n",
    "where $K=N/2$ is the frequency index corresponding to the Nyquist frequency.\n",
    "Each Fourier coefficient ${\\mathcal X}(m,k)$ is associated with the physical time position\n",
    "(using the start position of the window as reference point)\n",
    "\n",
    "\\begin{equation}\n",
    "         {T_{\\mathrm{coef}}(m)} := \\frac{m\\cdot H}{F_\\mathrm{s}}\n",
    " \\end{equation}\n",
    " \n",
    " given in seconds (${\\mathrm{sec}}$) and with the physical frequency\n",
    " \n",
    " \\begin{equation}\n",
    "         F_{\\mathrm{coef}}(k) := \\frac{k\\cdot F_\\mathrm{s}}{N}\n",
    "\\end{equation}\n",
    "\n",
    "given in Hertz ($\\mathrm{Hz}$).\n",
    "For example, using $F_\\mathrm{s}=44100~\\mathrm{Hz}$ as for a CD recording,\n",
    "a window length of $N=4096$, and a hop size of $H=N/2$,\n",
    "we obtain a time resolution of $H/F_\\mathrm{s}\\approx 46.4~\\mathrm{ms}$\n",
    "and frequency resolution of $F_\\mathrm{s}/N\\approx 10.8~\\mathrm{Hz}$."
   ]
  },
  {
   "cell_type": "code",
   "execution_count": 2,
   "metadata": {
    "ExecuteTime": {
     "end_time": "2023-05-15T12:50:50.750898695Z",
     "start_time": "2023-05-15T12:50:48.118886820Z"
    }
   },
   "outputs": [
    {
     "name": "stdout",
     "output_type": "stream",
     "text": [
      "Requirement already satisfied: pysoundfile==0.9.0.post1 in /home/mpk/anaconda3/envs/FMP/lib/python3.7/site-packages (0.9.0.post1)\r\n",
      "Requirement already satisfied: librosa==0.8.* in /home/mpk/anaconda3/envs/FMP/lib/python3.7/site-packages (0.8.0)\r\n",
      "Requirement already satisfied: cffi>=0.6 in /home/mpk/anaconda3/envs/FMP/lib/python3.7/site-packages (from pysoundfile==0.9.0.post1) (1.15.1)\r\n",
      "Requirement already satisfied: soundfile>=0.9.0 in /home/mpk/anaconda3/envs/FMP/lib/python3.7/site-packages (from librosa==0.8.*) (0.9.0.post1)\r\n",
      "Requirement already satisfied: joblib>=0.14 in /home/mpk/anaconda3/envs/FMP/lib/python3.7/site-packages (from librosa==0.8.*) (1.1.1)\r\n",
      "Requirement already satisfied: scikit-learn!=0.19.0,>=0.14.0 in /home/mpk/anaconda3/envs/FMP/lib/python3.7/site-packages (from librosa==0.8.*) (0.21.3)\r\n",
      "Requirement already satisfied: decorator>=3.0.0 in /home/mpk/anaconda3/envs/FMP/lib/python3.7/site-packages (from librosa==0.8.*) (5.1.1)\r\n",
      "Requirement already satisfied: pooch>=1.0 in /home/mpk/anaconda3/envs/FMP/lib/python3.7/site-packages (from librosa==0.8.*) (1.7.0)\r\n",
      "Requirement already satisfied: scipy>=1.0.0 in /home/mpk/anaconda3/envs/FMP/lib/python3.7/site-packages (from librosa==0.8.*) (1.3.2)\r\n",
      "Requirement already satisfied: numpy>=1.15.0 in /home/mpk/anaconda3/envs/FMP/lib/python3.7/site-packages (from librosa==0.8.*) (1.17.4)\r\n",
      "Requirement already satisfied: numba>=0.43.0 in /home/mpk/anaconda3/envs/FMP/lib/python3.7/site-packages (from librosa==0.8.*) (0.51.2)\r\n",
      "Requirement already satisfied: resampy>=0.2.2 in /home/mpk/anaconda3/envs/FMP/lib/python3.7/site-packages (from librosa==0.8.*) (0.2.2)\r\n",
      "Requirement already satisfied: audioread>=2.0.0 in /home/mpk/anaconda3/envs/FMP/lib/python3.7/site-packages (from librosa==0.8.*) (3.0.0)\r\n",
      "Requirement already satisfied: pycparser in /home/mpk/anaconda3/envs/FMP/lib/python3.7/site-packages (from cffi>=0.6->pysoundfile==0.9.0.post1) (2.21)\r\n",
      "Requirement already satisfied: platformdirs>=2.5.0 in /home/mpk/anaconda3/envs/FMP/lib/python3.7/site-packages (from pooch>=1.0->librosa==0.8.*) (3.5.0)\r\n",
      "Requirement already satisfied: packaging>=20.0 in /home/mpk/anaconda3/envs/FMP/lib/python3.7/site-packages (from pooch>=1.0->librosa==0.8.*) (22.0)\r\n",
      "Requirement already satisfied: requests>=2.19.0 in /home/mpk/anaconda3/envs/FMP/lib/python3.7/site-packages (from pooch>=1.0->librosa==0.8.*) (2.28.1)\r\n",
      "Requirement already satisfied: llvmlite<0.35,>=0.34.0.dev0 in /home/mpk/anaconda3/envs/FMP/lib/python3.7/site-packages (from numba>=0.43.0->librosa==0.8.*) (0.34.0)\r\n",
      "Requirement already satisfied: setuptools in /home/mpk/anaconda3/envs/FMP/lib/python3.7/site-packages (from numba>=0.43.0->librosa==0.8.*) (65.6.3)\r\n",
      "Requirement already satisfied: six>=1.3 in /home/mpk/anaconda3/envs/FMP/lib/python3.7/site-packages (from resampy>=0.2.2->librosa==0.8.*) (1.16.0)\r\n",
      "Requirement already satisfied: typing-extensions>=4.5; python_version < \"3.8\" in /home/mpk/anaconda3/envs/FMP/lib/python3.7/site-packages (from platformdirs>=2.5.0->pooch>=1.0->librosa==0.8.*) (4.5.0)\r\n",
      "Requirement already satisfied: certifi>=2017.4.17 in /home/mpk/anaconda3/envs/FMP/lib/python3.7/site-packages (from requests>=2.19.0->pooch>=1.0->librosa==0.8.*) (2022.12.7)\r\n",
      "Requirement already satisfied: urllib3<1.27,>=1.21.1 in /home/mpk/anaconda3/envs/FMP/lib/python3.7/site-packages (from requests>=2.19.0->pooch>=1.0->librosa==0.8.*) (1.26.14)\r\n",
      "Requirement already satisfied: charset-normalizer<3,>=2 in /home/mpk/anaconda3/envs/FMP/lib/python3.7/site-packages (from requests>=2.19.0->pooch>=1.0->librosa==0.8.*) (2.0.4)\r\n",
      "Requirement already satisfied: idna<4,>=2.5 in /home/mpk/anaconda3/envs/FMP/lib/python3.7/site-packages (from requests>=2.19.0->pooch>=1.0->librosa==0.8.*) (3.4)\r\n"
     ]
    }
   ],
   "source": [
    "import math\n",
    "import os.path\n",
    "## Please execute this cell for preparation\n",
    "!pip install pysoundfile==0.9.0.post1 librosa==0.8.*"
   ]
  },
  {
   "cell_type": "markdown",
   "metadata": {},
   "source": [
    "## 1.  STFT Parameters\n",
    "\n",
    "### 1.1 STFT resolution\n",
    "\n",
    "Compute the time and frequency resolution of the resulting STFT when using the following parameters of $F_\\mathrm{s}$, $N$ and $H$. What are the Nyquist frequencies?\n"
   ]
  },
  {
   "cell_type": "code",
   "execution_count": 22,
   "metadata": {
    "ExecuteTime": {
     "end_time": "2023-05-16T22:15:07.092244426Z",
     "start_time": "2023-05-16T22:15:06.962605106Z"
    }
   },
   "outputs": [
    {
     "name": "stdout",
     "output_type": "stream",
     "text": [
      "Fs = 22050, N = 1024, H =  512: Tcoef =  23.22 msec, Fcoef = 21.53 Hz, Nyquist = 11025.00 Hz\n",
      "Fs = 48000, N = 1024, H =  256: Tcoef =   5.33 msec, Fcoef = 46.88 Hz, Nyquist = 24000.00 Hz\n",
      "Fs =  4000, N = 4096, H = 1024: Tcoef = 256.00 msec, Fcoef =  0.98 Hz, Nyquist = 2000.00 Hz\n"
     ]
    }
   ],
   "source": [
    "def T_coef(m, H, Fs):\n",
    "    return (m * H)/Fs\n",
    "\n",
    "def F_coef(k, N, Fs):\n",
    "    ### your code here...\n",
    "    return (k * Fs)/N\n",
    "    \n",
    "\n",
    "Fs, N, H = 22050, 1024, 512\n",
    "print('Fs = %5d, N = %d, H = %4d: Tcoef = %6.2f msec, Fcoef = %5.2f Hz, Nyquist = %.2f Hz' % (Fs, N, H, T_coef(1, H, Fs)*1000, F_coef(1, N, Fs), Fs/2))\n",
    "\n",
    "Fs, N, H = 48000, 1024, 256\n",
    "print('Fs = %5d, N = %d, H = %4d: Tcoef = %6.2f msec, Fcoef = %5.2f Hz, Nyquist = %.2f Hz' % (Fs, N, H, T_coef(1, H, Fs)*1000, F_coef(1, N, Fs), Fs/2))\n",
    "\n",
    "Fs, N, H = 4000, 4096, 1024\n",
    "print('Fs = %5d, N = %d, H = %4d: Tcoef = %6.2f msec, Fcoef = %5.2f Hz, Nyquist = %.2f Hz' % (Fs, N, H, T_coef(1, H, Fs)*1000, F_coef(1, N, Fs), Fs/2))"
   ]
  },
  {
   "cell_type": "markdown",
   "metadata": {},
   "source": [
    "### 1.2 Physical meaning\n",
    "\n",
    "Using $F_\\mathrm{s}=44100$, $N=2048$ and $H=1024$, what is the physical meaning of the Fourier coefficients\n",
    "     ${\\mathcal X}(1000,1000)$, ${\\mathcal X}(17,0)$, and ${\\mathcal X}(56,1024)$?"
   ]
  },
  {
   "cell_type": "code",
   "execution_count": 4,
   "metadata": {
    "ExecuteTime": {
     "end_time": "2023-05-15T12:51:16.155909121Z",
     "start_time": "2023-05-15T12:51:16.084416740Z"
    }
   },
   "outputs": [
    {
     "name": "stdout",
     "output_type": "stream",
     "text": [
      "X:(1000, 1000), Tcoef: 23, Fcoef: 21533\n",
      "X:(17, 0), Tcoef: 0, Fcoef: 0\n",
      "X:(56, 1024), Tcoef: 1, Fcoef: 22050\n"
     ]
    }
   ],
   "source": [
    "def ex1_2(Fs, N, H, k, m):\n",
    "    ## your code here\n",
    "    print(\"X:(%d, %d), Tcoef: %d, Fcoef: %d\" %(m, k, T_coef(m, H, Fs), F_coef(k, N, Fs)))\n",
    "    \n",
    "\n",
    "Fs, N, H = 44100, 2048, 1024\n",
    "\n",
    "m, k = 1000, 1000\n",
    "ex1_2(Fs, N, H, k, m)\n",
    "\n",
    "m, k = 17, 0\n",
    "ex1_2(Fs, N, H, k, m)\n",
    "\n",
    "m, k = 56, 1024\n",
    "ex1_2(Fs, N, H, k, m)"
   ]
  },
  {
   "cell_type": "markdown",
   "metadata": {},
   "source": [
    "The STFT is often visualized by means of a *spectrogram*,\n",
    "which is a two-dimensional representation of the squared magnitude:\n",
    "\n",
    "\\begin{equation}\n",
    "   {\\mathcal Y}(m,k) = |{\\mathcal X}(m,k)|^2.\n",
    "\\end{equation}\n",
    "\n",
    "When generating an image of a spectrogram, the horizontal axis represents time,\n",
    "the vertical axis is frequency, and the dimension indicating the spectrogram value\n",
    "of a particular frequency at a particular time is represented by the intensity or\n",
    "color in the image."
   ]
  },
  {
   "cell_type": "markdown",
   "metadata": {},
   "source": [
    "### 1.3 Load audio\n",
    "\n",
    "Use the function <samp>librosa.load</samp> to read the file <samp>Sound_TwoSineTwoImpulse.wav</samp>.\n",
    "  This defines a signal $x$ as well as the sampling rate $F_\\mathrm{s}$.\n",
    "  In the case that the signal is stereo, only use the first channel."
   ]
  },
  {
   "cell_type": "code",
   "execution_count": 30,
   "metadata": {
    "ExecuteTime": {
     "end_time": "2023-05-16T22:25:46.484256296Z",
     "start_time": "2023-05-16T22:25:46.278734617Z"
    }
   },
   "outputs": [
    {
     "data": {
      "text/plain": "<IPython.lib.display.Audio object>",
      "text/html": "\n                <audio  controls=\"controls\" >\n                    <source src=\"data:audio/wav;base64,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\" type=\"audio/wav\" />\n                    Your browser does not support the audio element.\n                </audio>\n              "
     },
     "execution_count": 30,
     "metadata": {},
     "output_type": "execute_result"
    }
   ],
   "source": [
    "import librosa\n",
    "from IPython.display import Audio\n",
    "\n",
    "## your code here...\n",
    "x, Fs = librosa.load(\"data/Sound_TwoSineTwoImpulse.wav\")\n",
    "\n",
    "Audio(x, rate=Fs)"
   ]
  },
  {
   "cell_type": "markdown",
   "metadata": {},
   "source": [
    "## 2. Window function\n",
    "\n",
    "### 2.1 Window size and hop size\n",
    "\n",
    "Initialize a length parameter $N=4096$ and a hop size parameter $H=2048$.\n"
   ]
  },
  {
   "cell_type": "code",
   "execution_count": 6,
   "metadata": {
    "ExecuteTime": {
     "end_time": "2023-05-15T13:28:05.282289258Z",
     "start_time": "2023-05-15T13:28:05.212969819Z"
    }
   },
   "outputs": [],
   "source": [
    "\"\"\"\n",
    "length\n",
    "\"\"\"\n",
    "N: int = 4096\n",
    "\"\"\"\n",
    "Hop size\n",
    "\"\"\"\n",
    "H: int = 2048"
   ]
  },
  {
   "cell_type": "markdown",
   "metadata": {},
   "source": [
    "### 2.2 Hann window\n",
    "\n",
    "Define a Hann window function $w$ of length $N$ (using <samp>scipy.signal.get_window</samp>)."
   ]
  },
  {
   "cell_type": "code",
   "execution_count": 7,
   "metadata": {
    "ExecuteTime": {
     "end_time": "2023-05-15T13:28:07.104073008Z",
     "start_time": "2023-05-15T13:28:07.087842981Z"
    }
   },
   "outputs": [],
   "source": [
    "from scipy import signal\n",
    "\n",
    "\n",
    "omega = signal.windows.hann(N)"
   ]
  },
  {
   "cell_type": "markdown",
   "metadata": {},
   "source": [
    "### 2.3 STFT computation\n",
    "\n",
    "Compute ${\\mathcal X}$ using the function <samp>librosa.stft</samp>.\n",
    "      The resulting matrix contains the complex-valued Fourier coefficients ${\\mathcal X}(m,k)$.\n",
    "\n"
   ]
  },
  {
   "cell_type": "code",
   "execution_count": 36,
   "metadata": {
    "ExecuteTime": {
     "end_time": "2023-05-16T22:28:33.018264583Z",
     "start_time": "2023-05-16T22:28:32.973103501Z"
    }
   },
   "outputs": [
    {
     "name": "stdout",
     "output_type": "stream",
     "text": [
      "shape of the stft array: (11026, 22)\n",
      "[[ 8.2768488e+00+0.0000000e+00j  4.1393404e+00+0.0000000e+00j\n",
      "  -5.0846086e-04+0.0000000e+00j ...  2.1083500e-04+0.0000000e+00j\n",
      "  -1.0555356e+00+0.0000000e+00j -6.8593688e+00+0.0000000e+00j]\n",
      " [-8.2768450e+00+4.1040423e-07j -3.9643421e+00-1.1910794e+00j\n",
      "   4.2376533e-04+9.1996153e-05j ... -1.7564264e-04+1.5710054e-04j\n",
      "   9.5172459e-01-4.5656076e-01j  6.7767935e+00-1.0609069e+00j]\n",
      " [ 8.2768488e+00-6.9547525e-07j  3.4541314e+00+2.2814567e+00j\n",
      "  -1.9787185e-04-1.5417188e-04j ...  8.1803766e-05-2.6251312e-04j\n",
      "  -6.6070646e-01+8.2332063e-01j -6.5310621e+00+2.0963733e+00j]\n",
      " ...\n",
      " [ 3.0586550e-02+1.7117639e-08j  1.2761883e-02-8.4361453e-03j\n",
      "  -2.4422204e-06+1.3791611e-06j ... -9.6800375e-07-2.6776061e-06j\n",
      "   2.4051666e-03+2.9946684e-03j  2.3696586e-02+7.6057967e-03j]\n",
      " [-3.0583344e-02-9.4688319e-09j -1.4647129e-02+4.4043809e-03j\n",
      "   4.0937070e-06-9.0789774e-07j ...  1.6438734e-06+1.7780151e-06j\n",
      "  -3.4611712e-03-1.6602584e-03j -2.4586666e-02-3.8495262e-03j]\n",
      " [ 3.0582180e-02+0.0000000e+00j  1.5293703e-02+0.0000000e+00j\n",
      "  -4.6698601e-06+0.0000000e+00j ... -1.8805680e-06+0.0000000e+00j\n",
      "   3.8378316e-03+0.0000000e+00j  2.4885699e-02+0.0000000e+00j]]\n"
     ]
    }
   ],
   "source": [
    "import numpy as np\n",
    "\n",
    "stft: np.ndarray = librosa.stft(x, window=omega, win_length=N, hop_length=H, n_fft=Fs)\n",
    "print('shape of the stft array: ' + str(stft.shape))\n",
    "# 11026 = number of dimensions = (i guess number of frames)\n",
    "# 22 = elements in this dimension = (i guess number of frequency bins at this frame)\n",
    "print(str(stft))"
   ]
  },
  {
   "cell_type": "markdown",
   "metadata": {},
   "source": [
    "### 2.4 Spectrogram computation\n",
    "\n",
    "Compute the spectrogram ${\\mathcal Y}(m,k)$.\n",
    "\n",
    "The STFT is often visualized by means of a *spectrogram*,\n",
    "which is a two-dimensional representation of the squared magnitude:\n",
    "\n",
    "Die STFT ist oft als Spektrogram visualisiert, das eine zweidimensionale representation des quadrierten Betrags ist.\n",
    "\n",
    "\\begin{equation}\n",
    "   {\\mathcal Y}(m,k) = |{\\mathcal X}(m,k)|^2.\n",
    "\\end{equation}\n",
    "\n",
    "When generating an image of a spectrogram, the horizontal axis represents time,\n",
    "the vertical axis is frequency, and the dimension indicating the spectrogram value\n",
    "of a particular frequency at a particular time is represented by the intensity or\n",
    "color in the image.\n"
   ]
  },
  {
   "cell_type": "code",
   "execution_count": 62,
   "outputs": [
    {
     "name": "stdout",
     "output_type": "stream",
     "text": [
      "[[8.2768488e+00 4.1393404e+00 5.0846086e-04 ... 2.1083500e-04\n",
      "  1.0555356e+00 6.8593688e+00]\n",
      " [8.2768450e+00 4.1394057e+00 4.3363619e-04 ... 2.3564999e-04\n",
      "  1.0555698e+00 6.8593335e+00]\n",
      " [8.2768488e+00 4.1395736e+00 2.5084306e-04 ... 2.7496362e-04\n",
      "  1.0556467e+00 6.8592677e+00]\n",
      " ...\n",
      " [3.0586550e-02 1.5298177e-02 2.8047327e-06 ... 2.8472102e-06\n",
      "  3.8409459e-03 2.4887273e-02]\n",
      " [3.0583344e-02 1.5294998e-02 4.1931748e-06 ... 2.4214989e-06\n",
      "  3.8387710e-03 2.4886202e-02]\n",
      " [3.0582180e-02 1.5293703e-02 4.6698601e-06 ... 1.8805680e-06\n",
      "  3.8378316e-03 2.4885699e-02]]\n"
     ]
    }
   ],
   "source": [
    "import numpy as np\n",
    "# todo here compute the spectrogram as two dimensional representation\n",
    "\n",
    "\"\"\"\n",
    "I think the goal here is more to compute the general function, not the visualization\n",
    "\"\"\"\n",
    "\n",
    "def squared_magnitude(stft_value):\n",
    "    return abs(stft_value)\n",
    "\n",
    "spectrogram_calc = np.vectorize(squared_magnitude)\n",
    "spectrogram = spectrogram_calc(stft)\n",
    "print(str(spectrogram))\n",
    "\n",
    "# assertion that the 'manual' computation above is equal to the automatic np computation (see B_PythonVisualization.ipynb)\n",
    "assert np.all(np.abs(stft) == spectrogram)"
   ],
   "metadata": {
    "collapsed": false,
    "ExecuteTime": {
     "end_time": "2023-05-17T09:24:16.112013577Z",
     "start_time": "2023-05-17T09:24:15.999383795Z"
    }
   }
  },
  {
   "cell_type": "code",
   "execution_count": 11,
   "metadata": {
    "ExecuteTime": {
     "end_time": "2023-05-15T13:50:12.248477163Z",
     "start_time": "2023-05-15T13:50:11.699340283Z"
    }
   },
   "outputs": [
    {
     "name": "stderr",
     "output_type": "stream",
     "text": [
      "/home/mpk/anaconda3/envs/FMP/lib/python3.7/site-packages/librosa/core/spectrum.py:1642: UserWarning: amplitude_to_db was called on complex input so phase information will be discarded. To suppress this warning, call amplitude_to_db(np.abs(S)) instead.\n",
      "  \"amplitude_to_db was called on complex input so phase \"\n"
     ]
    },
    {
     "data": {
      "text/plain": "<matplotlib.colorbar.Colorbar at 0x7fe0e1af7c90>"
     },
     "execution_count": 11,
     "metadata": {},
     "output_type": "execute_result"
    },
    {
     "data": {
      "text/plain": "<Figure size 432x288 with 2 Axes>",
      "image/png": "[encoded data removed]"
     },
     "metadata": {
      "needs_background": "light"
     },
     "output_type": "display_data"
    }
   ],
   "source": [
    "import numpy as np # This was added by default, I don't know how to handle the spectogram with numpy, instead I computed it using matplotlib\n",
    "\n",
    "import matplotlib.pyplot as plt\n",
    "from librosa import display\n",
    "\n",
    "fig, ax = plt.subplots()\n",
    "img = display.specshow(librosa.amplitude_to_db(stft, ref=np.max), y_axis='log', x_axis='time', ax=ax)\n",
    "\n",
    "ax.set_title('spectrogram')\n",
    "\n",
    "fig.colorbar(img, ax=ax)\n",
    "\n",
    "## your code here..."
   ]
  },
  {
   "cell_type": "markdown",
   "metadata": {},
   "source": [
    "## 3. Physical interpretation\n",
    "\n",
    "### 3.1 Physical time position\n",
    "\n",
    "Compute the vector <samp>t</samp> containing the physical time positions (in seconds) of the time indices."
   ]
  },
  {
   "cell_type": "code",
   "execution_count": 77,
   "metadata": {
    "ExecuteTime": {
     "end_time": "2023-05-17T09:47:33.593701097Z",
     "start_time": "2023-05-17T09:47:25.760598425Z"
    }
   },
   "outputs": [
    {
     "name": "stdout",
     "output_type": "stream",
     "text": [
      "This shows a tuple of the arrays dimensions. The first value shows the number of time frames, The last is the numer of Fourier Coefficients per time frame.\n",
      "(11026, 22)\n",
      "This is the result of the time indices array: 11026\n",
      "The first 5 elements of the time indices array: \n",
      "0.0\n",
      "5e-324\n",
      "1e-323\n",
      "1.5e-323\n",
      "2e-323\n",
      "The first 5 elements of the librosa xomputed time indices array:\n",
      "0.0\n",
      "4.5351473922902495e-05\n",
      "9.070294784580499e-05\n",
      "0.00013605442176870748\n",
      "0.00018140589569160998\n"
     ]
    },
    {
     "ename": "AssertionError",
     "evalue": "",
     "output_type": "error",
     "traceback": [
      "\u001B[0;31m---------------------------------------------------------------------------\u001B[0m",
      "\u001B[0;31mAssertionError\u001B[0m                            Traceback (most recent call last)",
      "\u001B[0;32m<ipython-input-77-6663f9536d38>\u001B[0m in \u001B[0;36m<module>\u001B[0;34m\u001B[0m\n\u001B[1;32m     30\u001B[0m     \u001B[0mprint\u001B[0m\u001B[0;34m(\u001B[0m\u001B[0mt_librosa\u001B[0m\u001B[0;34m[\u001B[0m\u001B[0mi\u001B[0m\u001B[0;34m]\u001B[0m\u001B[0;34m)\u001B[0m\u001B[0;34m\u001B[0m\u001B[0;34m\u001B[0m\u001B[0m\n\u001B[1;32m     31\u001B[0m \u001B[0;34m\u001B[0m\u001B[0m\n\u001B[0;32m---> 32\u001B[0;31m \u001B[0;32massert\u001B[0m \u001B[0mnp\u001B[0m\u001B[0;34m.\u001B[0m\u001B[0mall\u001B[0m\u001B[0;34m(\u001B[0m\u001B[0mt\u001B[0m \u001B[0;34m==\u001B[0m \u001B[0mt_librosa\u001B[0m\u001B[0;34m)\u001B[0m\u001B[0;34m\u001B[0m\u001B[0;34m\u001B[0m\u001B[0m\n\u001B[0m",
      "\u001B[0;31mAssertionError\u001B[0m: "
     ]
    }
   ],
   "source": [
    "## your code here, compute t...\n",
    "\"\"\"\n",
    "# what are the time indices? - multiple options?\n",
    "    * is time indices equal to time frame?\n",
    "        - X(m, k): is the k-th Fourier Coefficient for the m-th time frame\n",
    "        - we need just the number of time frames\n",
    "        - because the time frames are not associated with a physical unit, just and ordering, we need to compute T_coef(m) for each time frame\n",
    "        - then we have the 'time position in seconds' of the time indices m\n",
    "\"\"\"\n",
    "\n",
    "\n",
    "print('This shows a tuple of the arrays dimensions. The first value shows the number of time frames, The last is the numer of Fourier Coefficients per time frame.')\n",
    "print(str(stft.shape))\n",
    "\n",
    "t: np.ndarray = np.empty((stft.shape[0],))\n",
    "\n",
    "for m in np.nditer(stft):\n",
    "    np.append(t, T_coef(m, H, Fs))\n",
    "\n",
    "print('This is the result of the time indices array: ' + str(len(t)))\n",
    "print('The first 5 elements of the time indices array: ')\n",
    "for i in range(0, 5):\n",
    "    print(t[i])\n",
    "\n",
    "\n",
    "# This should be the same as above (currently not correct)\n",
    "t_librosa: np.ndarray = librosa.samples_to_time(np.arange(stft.shape[0]), sr=Fs)\n",
    "print('The first 5 elements of the librosa computed time indices array:')\n",
    "for i in range(0, 5):\n",
    "    print(t_librosa[i])\n",
    "\n",
    "assert np.all(t == t_librosa)"
   ]
  },
  {
   "cell_type": "markdown",
   "metadata": {},
   "source": [
    "### 3.2 Physical frequencies\n",
    "\n",
    "Compute the vector <samp>f</samp> containing the frequency values (in Hertz) of the frequency indices."
   ]
  },
  {
   "cell_type": "code",
   "execution_count": 78,
   "metadata": {
    "ExecuteTime": {
     "end_time": "2023-05-17T09:53:13.251780073Z",
     "start_time": "2023-05-17T09:52:30.283828190Z"
    }
   },
   "outputs": [
    {
     "name": "stdout",
     "output_type": "stream",
     "text": [
      "(11026, 22)\n"
     ]
    },
    {
     "ename": "AssertionError",
     "evalue": "",
     "output_type": "error",
     "traceback": [
      "\u001B[0;31m---------------------------------------------------------------------------\u001B[0m",
      "\u001B[0;31mAssertionError\u001B[0m                            Traceback (most recent call last)",
      "\u001B[0;32m<ipython-input-78-bdad676393cf>\u001B[0m in \u001B[0;36m<module>\u001B[0;34m\u001B[0m\n\u001B[1;32m     17\u001B[0m \u001B[0;34m\u001B[0m\u001B[0m\n\u001B[1;32m     18\u001B[0m \u001B[0mf_librosa\u001B[0m\u001B[0;34m:\u001B[0m \u001B[0mnp\u001B[0m\u001B[0;34m.\u001B[0m\u001B[0mndarray\u001B[0m \u001B[0;34m=\u001B[0m \u001B[0mlibrosa\u001B[0m\u001B[0;34m.\u001B[0m\u001B[0mframes_to_time\u001B[0m\u001B[0;34m(\u001B[0m\u001B[0mnp\u001B[0m\u001B[0;34m.\u001B[0m\u001B[0marange\u001B[0m\u001B[0;34m(\u001B[0m\u001B[0mstft\u001B[0m\u001B[0;34m.\u001B[0m\u001B[0mshape\u001B[0m\u001B[0;34m[\u001B[0m\u001B[0;36m1\u001B[0m\u001B[0;34m]\u001B[0m\u001B[0;34m)\u001B[0m\u001B[0;34m,\u001B[0m \u001B[0msr\u001B[0m\u001B[0;34m=\u001B[0m\u001B[0mFs\u001B[0m\u001B[0;34m,\u001B[0m \u001B[0mhop_length\u001B[0m\u001B[0;34m=\u001B[0m\u001B[0mH\u001B[0m\u001B[0;34m)\u001B[0m\u001B[0;34m\u001B[0m\u001B[0;34m\u001B[0m\u001B[0m\n\u001B[0;32m---> 19\u001B[0;31m \u001B[0;32massert\u001B[0m \u001B[0mnp\u001B[0m\u001B[0;34m.\u001B[0m\u001B[0mall\u001B[0m\u001B[0;34m(\u001B[0m\u001B[0mt\u001B[0m \u001B[0;34m==\u001B[0m \u001B[0mt_librosa\u001B[0m\u001B[0;34m)\u001B[0m\u001B[0;34m\u001B[0m\u001B[0;34m\u001B[0m\u001B[0m\n\u001B[0m",
      "\u001B[0;31mAssertionError\u001B[0m: "
     ]
    }
   ],
   "source": [
    "### your code here, compute f...\n",
    "\"\"\"\n",
    "This computation should result in a two-dimensional array with the frequency values for each fourier coefficient.\n",
    "The frequency indices are separated by the time frames.\n",
    "\"\"\"\n",
    "\n",
    "# f has the same shape as stft since the frequency values are also separated into time frames\n",
    "f: np.ndarray = np.empty(stft.shape)\n",
    "\n",
    "for m in np.nditer(stft):\n",
    "    frequencies_per_m: np.ndarray = np.empty(stft.shape[1],)\n",
    "    for k in np.nditer(m):\n",
    "        np.append(frequencies_per_m, F_coef(k, N, Fs))\n",
    "    np.append(f, frequencies_per_m)\n",
    "\n",
    "print(str(f.shape))\n",
    "\n",
    "f_librosa: np.ndarray = librosa.frames_to_time(np.arange(stft.shape[1]), sr=Fs, hop_length=H)\n",
    "assert np.all(t == t_librosa)"
   ]
  },
  {
   "cell_type": "markdown",
   "metadata": {},
   "source": [
    "### 3.3. Spectrogram visualization\n",
    "\n",
    "Visualize the spectrogram in various ways\n",
    " with the axis given in form of indices.\n",
    " Use an appropriate figure size with the <samp>figsize</samp> keyword of <samp>plt.figure</samp>.\n",
    " For visualizing $\\mathcal{Y}$, use the function <samp>plt.imshow</samp>.\n",
    "      Explore its parameters\n",
    "      <samp>aspect</samp>, <samp>origin</samp>, <samp>cmap</samp>.\n",
    "      Furthermore, use the functions <samp>plt.colorbar()</samp>, <samp>plt.xlabel()</samp> and <samp>plt.ylabel()</samp>.\n",
    "      Doing so, also get familiar with the various visualization parameters\n",
    "      and tools offered by Python."
   ]
  },
  {
   "cell_type": "code",
   "execution_count": 74,
   "metadata": {
    "ExecuteTime": {
     "end_time": "2023-05-17T09:36:13.041581914Z",
     "start_time": "2023-05-17T09:36:12.119913432Z"
    }
   },
   "outputs": [
    {
     "name": "stdout",
     "output_type": "stream",
     "text": [
      "The spectrogram Y has 11026 frequency bins and 22 frames.\n"
     ]
    },
    {
     "data": {
      "text/plain": "<Figure size 1440x720 with 2 Axes>",
      "image/png": "[encoded data removed]"
     },
     "metadata": {
      "needs_background": "light"
     },
     "output_type": "display_data"
    }
   ],
   "source": [
    "from matplotlib.pyplot import figure\n",
    "from matplotlib import pyplot as plt\n",
    "%matplotlib inline\n",
    "\n",
    "## your code here...\n",
    "\"\"\"\n",
    "* axis given in form of indices?\n",
    "* for Visualizing Y, use (...) plt.imshow\n",
    "    - Y is the spectrogram\n",
    "    - plt.imshow see below\n",
    "    - parameters:\n",
    "        # aspect = aspect ratio of the axes, options: auto and equal. equal (the default) ensures equal pixel aspect ratio, auto ensures that the data fits in the axes\n",
    "        # origin = where to place the [0, 0], available options are 'upper' or 'lower'\n",
    "        # cmap = colormap, viridis is the default\n",
    "* additional functions plt.colorbar(), plt.xlabel(), plt.ylabel()\n",
    "    - plt.colorbar()\n",
    "    - plt.xlabel() -> sets the label on the x axis\n",
    "    - plt.ylabel() -> sets the label on the y axis\n",
    "\"\"\"\n",
    "\n",
    "print('The spectrogram Y has %d frequency bins and %d frames.' % (spectrogram.shape[0], spectrogram.shape[1]))\n",
    "fig: figure = plt.figure(figsize=(20, 10))\n",
    "plt.imshow(spectrogram, cmap='viridis', aspect='auto', origin='lower')\n",
    "plt.xlabel('Time in frames')\n",
    "plt.ylabel('Frequency bins')\n",
    "plt.colorbar() # shows the right intensity colorbar\n",
    "plt.tight_layout() # matches the layout of the figure to the available screen estate"
   ]
  },
  {
   "cell_type": "markdown",
   "metadata": {},
   "source": [
    "### 3.4 Physical axes\n",
    "\n",
    "Plot the spectrogram with the axis given in seconds and Hertz. This should be done with the <samp>extent</samp> keyword, using <samp>t</samp> and <samp>f</samp>. Furthermore, do only visualize the lowest 2 kHz by using <samp>plt.ylim</samp>."
   ]
  },
  {
   "cell_type": "code",
   "execution_count": null,
   "metadata": {},
   "outputs": [],
   "source": [
    "## your code here..."
   ]
  },
  {
   "cell_type": "markdown",
   "metadata": {},
   "source": [
    "### 3.5 Decibel scale\n",
    "\n",
    "Next, use a logarithmic decibel-scale for visualizing the values ${\\mathcal Y}(m,k)$. (Recall that, given a value\n",
    "      $v \\in {\\mathbb R}$, the decibel value is $10 \\log_{10}(v)$.)"
   ]
  },
  {
   "cell_type": "code",
   "execution_count": null,
   "metadata": {},
   "outputs": [],
   "source": [
    "## your code here..."
   ]
  },
  {
   "cell_type": "markdown",
   "metadata": {},
   "source": [
    "### 3.6 Influence of window and hop size\n",
    "\n",
    "Compute spectrograms using different window sizes\n",
    "      (for example, $N\\in\\{256,1024,4096,8192\\}$) and\n",
    "      different hop sizes (for example, $H\\in\\{1,N/4,N/2\\}$) in the various combinations.\n",
    "      Do only visualize the lowest 2 kHz.\n",
    "      Discuss the trade-off between time resolution and frequency resolution."
   ]
  },
  {
   "cell_type": "code",
   "execution_count": null,
   "metadata": {},
   "outputs": [],
   "source": [
    "## your code here..."
   ]
  },
  {
   "cell_type": "markdown",
   "metadata": {},
   "source": [
    "## 4. Logarithmic compression\n",
    "\n",
    "The human sensation of the intensity of a sound is logarithmic in nature.\n",
    "In practice, sounds that have an extremely small intensity may still be\n",
    "relevant for human listeners.\n",
    "Therefore, one often uses a decibel scale, which  is a logarithmic unit expressing\n",
    "the ratio between two values.\n",
    "As an alternative to using a decibel scale, one often applies in audio processing\n",
    "a step also referred to as __logarithmic compression__,\n",
    "which works as follows. Let $\\gamma\\in{\\mathbb R}_{>0}$ be a positive constant\n",
    "and $\\Gamma_\\gamma:{\\mathbb R}_{>0} \\to {\\mathbb R}_{>0}$ a function defined by\n",
    "\n",
    "\\begin{equation}\n",
    "   \\Gamma_\\gamma(v):=\\log(1+ \\gamma \\cdot v).\n",
    "\\end{equation}\n",
    "\n",
    "for $v\\in{\\mathbb R}_{>0}$, where we use the natural logarithm.\n",
    "Note that the function $\\Gamma_\\gamma$ yields a positive\n",
    "value $\\Gamma_\\gamma(v)$ for any positive value $v\\in{\\mathbb R}_{>0}$.\n",
    "Now, for a representation with positive values such as a spectrogram,\n",
    "one obtains a compressed version by applying the function $\\Gamma_\\gamma$\n",
    "to each of the values:\n",
    "\n",
    "\\begin{equation}\n",
    "   (\\Gamma_\\gamma\\circ {\\mathcal Y})(m,k):=\\log(1+ \\gamma \\cdot {\\mathcal Y}(m,k)).\n",
    "\\end{equation}\n",
    "\n",
    "Why is this operation called *compression* and what is the role of\n",
    "the constant $\\gamma$? The problem with representations such as a spectrogram\n",
    "is that its values possess a large dynamic range. As a result,\n",
    "small, but still relevant values may be dominated by large values.\n",
    "Therefore, the idea of compression is to balance out this discrepancy\n",
    "by reducing the difference between large and small values with\n",
    "the effect to enhance the small values.\n",
    "This exactly is done by the function $\\Gamma_\\gamma$, where the degree of compression\n",
    "can be adjusted by the constant $\\gamma$. The larger $\\gamma$,\n",
    "the larger the resulting compression."
   ]
  },
  {
   "cell_type": "markdown",
   "metadata": {},
   "source": [
    "### 4.1 Spectrogram of a piano tone\n",
    "\n",
    "Use the file <samp>Tone_C4_Piano.wav</samp> to define a signal $x$. Compute the STFT and the spectrogram ${\\mathcal Y}$ as above using a Hann window\n",
    "    of size $N=4096$ and a hop size $H=2048$."
   ]
  },
  {
   "cell_type": "code",
   "execution_count": null,
   "metadata": {},
   "outputs": [],
   "source": [
    "## your code here..."
   ]
  },
  {
   "cell_type": "markdown",
   "metadata": {},
   "source": [
    "### 4.2 Compressed spectrogram\n",
    "\n",
    "Compute the compressed version $\\Gamma_\\gamma\\circ {\\mathcal Y}$ of the spectrogram using different constants $\\gamma\\in\\{1,10,100,1000,10000\\}$.\n",
    "Visualize the original spectrogram and its compressed versions.\n",
    "What do you see? Discuss the results."
   ]
  },
  {
   "cell_type": "code",
   "execution_count": null,
   "metadata": {},
   "outputs": [],
   "source": [
    "## your code here..."
   ]
  },
  {
   "cell_type": "markdown",
   "metadata": {},
   "source": [
    "## <a name=\"LFS\"></a> 5. Log-Frequency Spectrogram"
   ]
  },
  {
   "cell_type": "markdown",
   "metadata": {},
   "source": [
    "We now derive some audio features from the STFT by converting the\n",
    "frequency axis (given in Hertz) into an axis that corresponds to musical pitches.\n",
    "In Western music, the __equal-tempered scale__ is often used today,\n",
    "where the pitches of the scale correspond to the keys of a piano keyboard.\n",
    "In this scale, each octave (the interval between two tones, whose fundamental frequencies differ by a factor of two) is split up into twelve equal logarithmically spaced units.\n",
    "In MIDI notation, one considers $128$ pitches, which are serially\n",
    "numbered starting with $0$ and ending with $127$.\n",
    "The  MIDI pitch $p=69$ corresponds to the pitch $\\mathrm{A4}$\n",
    "(having a center frequency of $440~\\mathrm{Hz}$), which is often used as standard\n",
    "for tuning musical instruments.\n",
    "In general, the center frequency $F_{\\mathrm{pitch}}(p)$ of a pitch $p\\in[0:127]$ is\n",
    "given by the formula\n",
    "\n",
    "\\begin{equation}\n",
    "F_{\\mathrm{pitch}}(p) = 2^{(p-69)/12} \\cdot 440 ~ \\mathrm{Hz}.\n",
    "\\end{equation}\n",
    "\n",
    "The logarithmic perception of frequency motivates the use of a time-frequency\n",
    "representation with a logarithmic frequency axis labeled by the pitches of\n",
    "the equal-tempered scale.\n",
    "To derive such a representation from a given spectrogram representation,\n",
    "the basic idea is to assign each spectral coefficient ${\\mathcal X}(m,k)$ to the pitch\n",
    "with center frequency that is closest to the frequency $F_{\\mathrm{coef}}(k)$.\n",
    "More precisely, we define for each pitch $p\\in[0:127]$ the set\n",
    "\n",
    "\\begin{equation}\n",
    "    P(p) := \\{k\\in[0:K]:F_{\\mathrm{pitch}}(p - 0.5) \\leq   F_{\\mathrm{coef}}(k) <  F_{\\mathrm{pitch}}(p + 0.5)\\}.\n",
    "\\end{equation}\n",
    "\n",
    "From this, we obtain a log-frequency spectrogram\n",
    "${\\mathcal Y}_\\mathrm{LF}:{\\mathbb Z}\\times [0:127]\\to{\\mathbb R}_{\\geq 0}$ defined by\n",
    "\n",
    "\\begin{equation}\n",
    "      {\\mathcal Y}_\\mathrm{LF}(m,p) := \\sum_{k \\in P(p)}{|{\\mathcal X}(m,k)|^2}.\n",
    "\\end{equation}\n",
    "\n",
    "By this definition, the frequency axis is partitioned logarithmically and\n",
    "labeled linearly according to MIDI pitches."
   ]
  },
  {
   "cell_type": "markdown",
   "metadata": {},
   "source": [
    "### 5.1 Center frequencies\n",
    "\n",
    "Compute the center frequencies $F_{\\mathrm{pitch}}(p)$ for $p=68$, $p=69$, and $p=70$."
   ]
  },
  {
   "cell_type": "code",
   "execution_count": null,
   "metadata": {},
   "outputs": [],
   "source": [
    "def F_pitch(p):\n",
    "    ## your code here...\n",
    "\n",
    "print('Fpitch(%d) = %.2f Hz' % (68, F_pitch(68)))\n",
    "print('Fpitch(%d) = %.2f Hz' % (69, F_pitch(69)))\n",
    "print('Fpitch(%d) = %.2f Hz' % (70, F_pitch(70)))"
   ]
  },
  {
   "cell_type": "markdown",
   "metadata": {},
   "source": [
    "### 5.2 Cutoff frequencies\n",
    "\n",
    "Compute the cutoff frequencies $F_{\\mathrm{pitch}}(p - 0.5)$ and $F_{\\mathrm{pitch}}(p + 0.5)$\n",
    "           of the frequency band corresponding to pitch $p=69$."
   ]
  },
  {
   "cell_type": "code",
   "execution_count": null,
   "metadata": {},
   "outputs": [],
   "source": [
    "## your code here..."
   ]
  },
  {
   "cell_type": "markdown",
   "metadata": {},
   "source": [
    "### 5.3 Frequency index assignment\n",
    "\n",
    "Using $F_\\mathrm{s}=22050$ and $N=4096$, determine the set $P(p) \\subseteq [0:K]$ for $p=69$,  $p=57$, $p=45$, and $p=33$."
   ]
  },
  {
   "cell_type": "code",
   "execution_count": null,
   "metadata": {},
   "outputs": [],
   "source": [
    "def P(p, Fs, N):\n",
    "    ## your code here...\n",
    "    \n",
    "Fs, N = 22050, 4096\n",
    "print('P(%d) = %s' % (69, P(69, Fs, N)))\n",
    "print('P(%d) = %s' % (57, P(57, Fs, N)))\n",
    "print('P(%d) = %s' % (45, P(45, Fs, N)))\n",
    "print('P(%d) = %s' % (33, P(33, Fs, N)))"
   ]
  },
  {
   "cell_type": "markdown",
   "metadata": {},
   "source": [
    "### 5.4 Interpretation\n",
    "Please explain with your own words why the definition of\n",
    "           ${\\mathcal Y}_\\mathrm{LF}(m,p)$ may be\n",
    "           problematic for small values of pitch $p$? How is the size of the\n",
    "           set $P(p)$ influenced? Support your answer with a brief example."
   ]
  },
  {
   "cell_type": "code",
   "execution_count": null,
   "metadata": {},
   "outputs": [],
   "source": [
    "## your code here..."
   ]
  },
  {
   "cell_type": "markdown",
   "metadata": {},
   "source": [
    "## 6. Pitch and chroma features\n",
    "\n",
    "Use the file <samp>Scale_Cmajor_Piano.wav</samp> to define a signal $x$."
   ]
  },
  {
   "cell_type": "code",
   "execution_count": null,
   "metadata": {},
   "outputs": [],
   "source": [
    "## your code here...\n",
    "\n",
    "Audio(x, rate=Fs)"
   ]
  },
  {
   "cell_type": "markdown",
   "metadata": {},
   "source": [
    "### 6.1 Spectrogram of the C major scale\n",
    "\n",
    "Compute the STFT and the spectrogram as above using a Hann window\n",
    "    of size $N=4096$ and a hop size $H=2048$.\n",
    "    In the following you also need the information contained in the frequency vector <samp>f</samp>."
   ]
  },
  {
   "cell_type": "code",
   "execution_count": null,
   "metadata": {},
   "outputs": [],
   "source": [
    "# your code here..."
   ]
  },
  {
   "cell_type": "markdown",
   "metadata": {},
   "source": [
    "### 6.2 Log-frequency spectrogram\n",
    "\n",
    "Compute the log-frequency spectrogram  ${\\mathcal Y}_\\mathrm{LF}$. Visualize the log-frequency spectrogram with the axes given in seconds and MIDI pitch, respectively. Use log-compression to enhance the visualization."
   ]
  },
  {
   "cell_type": "code",
   "execution_count": null,
   "metadata": {},
   "outputs": [],
   "source": [
    "def compute_Y_lf(Y, Fs, N):\n",
    "    # your code here...\n",
    "\n",
    "Y_lf = compute_Y_lf(Y, Fs, N)\n",
    "\n",
    "# your code here...\n",
    "Y_lf_compr = \n",
    "\n",
    "plt.figure(figsize=(16.0, 5.33))\n",
    "img = plt.imshow(Y_lf_compr, aspect='auto', origin='lower', cmap='gray_r', extent=[min(t), max(t), 0, 127])\n",
    "cbar = plt.colorbar()\n",
    "xlbl = plt.xlabel('Time (seconds)')\n",
    "ylbl = plt.ylabel('Frequency (MIDI-Pitch)')"
   ]
  },
  {
   "cell_type": "markdown",
   "metadata": {},
   "source": [
    "### <a name=\"Chroma\"></a> 6.3 Chroma-Features"
   ]
  },
  {
   "cell_type": "markdown",
   "metadata": {},
   "source": [
    "The human perception of pitch is periodic in the sense that two pitches are\n",
    "perceived as similar in *color* (i.e., play a similar harmonic role) if they\n",
    "differ by one or several __octaves__ (where, in our scale, an octave is defined as the distance of $12$ pitches corresponding to a doubling of frequency).\n",
    "For example, the pitches $p=60$ and $p=72$ are one octave apart, and the pitches\n",
    "$p=57$ and $p=81$ are two octaves apart.\n",
    "A pitch can be separated into two components,\n",
    "which are referred to as __tone height__ and __chroma__ \n",
    "The tone height refers to the octave number and the chroma (or pitch class) to the respective pitch spelling attribute.\n",
    "In Western music notation, the $12$ pitch attributes are given by the\n",
    "set $\\{\\mathrm{C},\\mathrm{C}^{\\sharp},\\mathrm{D},\\ldots,\\mathrm{B}\\}$.\n",
    "Enumerating the chroma values, we identify this set with $[0:11]$\n",
    "where $c=0$ refers to chroma $\\mathrm{C}$, $c=1$ to $\\mathrm{C}^{\\sharp}$, and so on.\n",
    "\n",
    "The main idea of __chroma features__ is to aggregate all\n",
    "spectral information that relates to a given pitch class into a single coefficient.\n",
    "Given a pitch-based log-frequency spectrogram\n",
    "${\\mathcal Y}_\\mathrm{LF}:{\\mathbb Z}\\times[0:127]\\to {\\mathbb R}_{\\geq 0}$,\n",
    "a chroma representation or __chromagram__\n",
    "${\\mathbb Z}\\times[0:11]\\to {\\mathbb R}_{\\geq 0}$ can be derived\n",
    "by summing up all pitch coefficients that belong to the same chroma:\n",
    "\n",
    "\\begin{equation}\n",
    "      {\\mathcal C}(m,c) := \\sum_{\\{p \\in [0:127]\\,|\\,p\\,\\mathrm{mod}\\,12 = c\\}}{{\\mathcal Y}_\\mathrm{LF}(m,p)}\n",
    "\\end{equation}\n",
    "for $c\\in[0:11]$."
   ]
  },
  {
   "cell_type": "markdown",
   "metadata": {},
   "source": [
    "Derive the chroma representation ${\\mathcal C}$ from the log-frequency spectrogram\n",
    "      as computed in the last exercise."
   ]
  },
  {
   "cell_type": "code",
   "execution_count": null,
   "metadata": {},
   "outputs": [],
   "source": [
    "def compute_C(Y_lf):\n",
    "    ## your code here..."
   ]
  },
  {
   "cell_type": "markdown",
   "metadata": {},
   "source": [
    "### 6.4 Chroma visualization\n",
    "\n",
    "Visualize the chroma representation with the axes given in seconds and\n",
    "      chroma indices, respectively. Try to explain what you see in the chroma visualization."
   ]
  },
  {
   "cell_type": "code",
   "execution_count": null,
   "metadata": {},
   "outputs": [],
   "source": [
    "## your code here..."
   ]
  },
  {
   "cell_type": "markdown",
   "metadata": {},
   "source": [
    "Also play around with different parameter settings for $N$ and $H$\n",
    "      and try out some other audio files."
   ]
  },
  {
   "cell_type": "code",
   "execution_count": null,
   "metadata": {},
   "outputs": [],
   "source": [
    "## your code here..."
   ]
  },
  {
   "cell_type": "markdown",
   "metadata": {},
   "source": [
    "<h4>Reference</h4>\n",
    "<br/>\n",
    "\n",
    "<div>\n",
    "  <a href=\"http://www.springer.com/gp/book/9783319219448\">\n",
    "    <img src=\"./data/FMP_Cover.png\" alt=\"FMP_Cover\" width=\"80\"  style=\"float:right;\">\n",
    "  </a>\n",
    "</div>\n",
    "\n",
    "<div style=\"float:left;\">\n",
    "<a href=\"https://www.audiolabs-erlangen.de/fau/professor/mueller\">Meinard Müller</a> <br /> \n",
    "Fundamentals of Music Processing &ndash; Audio, Analysis, Algorithms, Applications  <br />\n",
    "ISBN: 978-3-319-21944-8<br />\n",
    "483 p., <a href=\"http://www.springer.com/gp/book/9783319219448\">Springer</a>, 2015  <br /> \n",
    "<a href=\"http://www.music-processing.de\">www.music-processing.de</a>    <br /> \n",
    "<a href=\"https://www.audiolabs-erlangen.de/fau/professor/mueller/bookFMP\">Accompanying Website</a>   \n",
    "</div>"
   ]
  },
  {
   "cell_type": "markdown",
   "metadata": {},
   "source": [
    "<h4>Acknowledgment</h4>\n",
    "<br/>\n",
    "The International Audio Laboratories Erlangen are a joint institution of the Friedrich-Alexander-Universität Erlangen-Nürnberg (FAU) and Fraunhofer Institute for Integrated Circuits IIS. "
   ]
  }
 ],
 "metadata": {
  "kernelspec": {
   "display_name": "Python 3",
   "language": "python",
   "name": "python3"
  },
  "language_info": {
   "codemirror_mode": {
    "name": "ipython",
    "version": 3
   },
   "file_extension": ".py",
   "mimetype": "text/x-python",
   "name": "python",
   "nbconvert_exporter": "python",
   "pygments_lexer": "ipython3",
   "version": "3.7.7"
  }
 },
 "nbformat": 4,
 "nbformat_minor": 2
}
