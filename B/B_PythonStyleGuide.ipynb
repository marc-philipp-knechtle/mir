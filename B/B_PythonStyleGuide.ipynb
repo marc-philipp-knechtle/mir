{
 "cells": [
  {
   "cell_type": "markdown",
   "metadata": {},
   "source": [
    "<div>\n",
    "<a href=\"http://www.music-processing.de/\"><img style=\"float:left;\" src=\"../data/FMP_Teaser_Cover.png\" width=40% alt=\"FMP\"></a>\n",
    "<a href=\"https://www.audiolabs-erlangen.de\"><img src=\"../data/Logo_AudioLabs_Long.png\" width=59% style=\"float: right;\" alt=\"AudioLabs\"></a>\n",
    "</div>"
   ]
  },
  {
   "cell_type": "markdown",
   "metadata": {},
   "source": [
    "<div> \n",
    "<div style=\"float:right;\"><a href=\"../B/B.html\"><img src=\"../data/B_nav.png\" width=\"100\" style=\"float:right;\" alt=\"B\"></a></div>\n",
    "<div><h1>Python Style Guide</h1> </div>\n",
    "</div>\n",
    "\n",
    "<p>\n",
    "This notebook makes some general recommendations for coding conventions as often used in Python.\n",
    "</p> "
   ]
  },
  {
   "cell_type": "markdown",
   "metadata": {},
   "source": [
    "Our recommendation closely follows the [PEP 8 Style Guide for Python Code](https://www.python.org/dev/peps/pep-0008/). Note that such coding conventions are only rough guidelines, and specific projects may follow other conventions. Use the guidelines only if there are no reasons to do something else. In the following, we list a couple of general conventions:"
   ]
  },
  {
   "cell_type": "markdown",
   "metadata": {},
   "source": [
    "Use `'` instead of `\"` for strings"
   ]
  },
  {
   "cell_type": "code",
   "execution_count": 1,
   "metadata": {
    "execution": {
     "iopub.execute_input": "2023-01-13T13:40:15.737898Z",
     "iopub.status.busy": "2023-01-13T13:40:15.737625Z",
     "iopub.status.idle": "2023-01-13T13:40:15.743118Z",
     "shell.execute_reply": "2023-01-13T13:40:15.741006Z"
    }
   },
   "outputs": [],
   "source": [
    "x = 'string'  # good\n",
    "x = \"string\"  # bad"
   ]
  },
  {
   "cell_type": "markdown",
   "metadata": {},
   "source": [
    "Use spaces after commas"
   ]
  },
  {
   "cell_type": "code",
   "execution_count": 2,
   "metadata": {
    "execution": {
     "iopub.execute_input": "2023-01-13T13:40:15.747220Z",
     "iopub.status.busy": "2023-01-13T13:40:15.746940Z",
     "iopub.status.idle": "2023-01-13T13:40:15.750319Z",
     "shell.execute_reply": "2023-01-13T13:40:15.749643Z"
    }
   },
   "outputs": [],
   "source": [
    "x = [1, 2, 3]  # good\n",
    "x = [1,2,3]    # bad"
   ]
  },
  {
   "cell_type": "markdown",
   "metadata": {},
   "source": [
    "Use no space before or after brackets"
   ]
  },
  {
   "cell_type": "code",
   "execution_count": 3,
   "metadata": {
    "execution": {
     "iopub.execute_input": "2023-01-13T13:40:15.753845Z",
     "iopub.status.busy": "2023-01-13T13:40:15.753600Z",
     "iopub.status.idle": "2023-01-13T13:40:15.757001Z",
     "shell.execute_reply": "2023-01-13T13:40:15.756119Z"
    }
   },
   "outputs": [],
   "source": [
    "x = range(1, 10, 2)    # good\n",
    "x = range( 1, 10, 2 )  # bad"
   ]
  },
  {
   "cell_type": "markdown",
   "metadata": {},
   "source": [
    "Use `under_score` instead of `CamelCase` or `mixedCase` for variable names and function names."
   ]
  },
  {
   "cell_type": "code",
   "execution_count": 4,
   "metadata": {
    "execution": {
     "iopub.execute_input": "2023-01-13T13:40:15.760647Z",
     "iopub.status.busy": "2023-01-13T13:40:15.760388Z",
     "iopub.status.idle": "2023-01-13T13:40:15.763671Z",
     "shell.execute_reply": "2023-01-13T13:40:15.762925Z"
    }
   },
   "outputs": [],
   "source": [
    "my_variable = 1  # good\n",
    "myVariable = 1   # bad"
   ]
  },
  {
   "cell_type": "markdown",
   "metadata": {},
   "source": [
    "Use spaces around `=` in assignments of variables."
   ]
  },
  {
   "cell_type": "code",
   "execution_count": 5,
   "metadata": {
    "execution": {
     "iopub.execute_input": "2023-01-13T13:40:15.766966Z",
     "iopub.status.busy": "2023-01-13T13:40:15.766686Z",
     "iopub.status.idle": "2023-01-13T13:40:15.770011Z",
     "shell.execute_reply": "2023-01-13T13:40:15.769289Z"
    }
   },
   "outputs": [],
   "source": [
    "x = 1  # good\n",
    "x=1    # bad"
   ]
  },
  {
   "cell_type": "markdown",
   "metadata": {},
   "source": [
    "Don't use spaces around `=` in assignments of parameters."
   ]
  },
  {
   "cell_type": "code",
   "execution_count": 6,
   "metadata": {
    "execution": {
     "iopub.execute_input": "2023-01-13T13:40:15.773993Z",
     "iopub.status.busy": "2023-01-13T13:40:15.773624Z",
     "iopub.status.idle": "2023-01-13T13:40:15.777600Z",
     "shell.execute_reply": "2023-01-13T13:40:15.776716Z"
    }
   },
   "outputs": [],
   "source": [
    "x = dict(a=1)    # good\n",
    "x = dict(a = 1)  # bad"
   ]
  },
  {
   "cell_type": "markdown",
   "metadata": {},
   "source": [
    "Use spaces around operators like `+`, `-`, `*`, `/`, etc."
   ]
  },
  {
   "cell_type": "code",
   "execution_count": 7,
   "metadata": {
    "execution": {
     "iopub.execute_input": "2023-01-13T13:40:15.780698Z",
     "iopub.status.busy": "2023-01-13T13:40:15.780457Z",
     "iopub.status.idle": "2023-01-13T13:40:15.783493Z",
     "shell.execute_reply": "2023-01-13T13:40:15.782917Z"
    }
   },
   "outputs": [],
   "source": [
    "x = 1 + 2  # good\n",
    "x = 1+2    # bad"
   ]
  },
  {
   "cell_type": "markdown",
   "metadata": {},
   "source": [
    "<div class=\"alert\" style=\"background-color:#F5F5F5; border-color:#C8C8C8\">\n",
    "<strong>Acknowledgment:</strong> This notebook was created by <a href=\"https://www.audiolabs-erlangen.de/fau/assistant/zalkow\">Frank Zalkow</a> and <a href=\"https://www.audiolabs-erlangen.de/fau/professor/mueller\">Meinard Müller</a>.\n",
    "</div>"
   ]
  },
  {
   "cell_type": "markdown",
   "metadata": {},
   "source": [
    "<table style=\"border:none\">\n",
    "<tr style=\"border:none\">\n",
    "    <td style=\"min-width:50px; border:none\" bgcolor=\"white\"><a href=\"../C0/C0.html\"><img src=\"../data/C0_nav.png\" style=\"height:50px\" alt=\"C0\"></a></td>\n",
    "    <td style=\"min-width:50px; border:none\" bgcolor=\"white\"><a href=\"../C1/C1.html\"><img src=\"../data/C1_nav.png\" style=\"height:50px\" alt=\"C1\"></a></td>\n",
    "    <td style=\"min-width:50px; border:none\" bgcolor=\"white\"><a href=\"../C2/C2.html\"><img src=\"../data/C2_nav.png\" style=\"height:50px\" alt=\"C2\"></a></td>\n",
    "    <td style=\"min-width:50px; border:none\" bgcolor=\"white\"><a href=\"../C3/C3.html\"><img src=\"../data/C3_nav.png\" style=\"height:50px\" alt=\"C3\"></a></td>\n",
    "    <td style=\"min-width:50px; border:none\" bgcolor=\"white\"><a href=\"../C4/C4.html\"><img src=\"../data/C4_nav.png\" style=\"height:50px\" alt=\"C4\"></a></td>\n",
    "    <td style=\"min-width:50px; border:none\" bgcolor=\"white\"><a href=\"../C5/C5.html\"><img src=\"../data/C5_nav.png\" style=\"height:50px\" alt=\"C5\"></a></td>\n",
    "    <td style=\"min-width:50px; border:none\" bgcolor=\"white\"><a href=\"../C6/C6.html\"><img src=\"../data/C6_nav.png\" style=\"height:50px\" alt=\"C6\"></a></td>\n",
    "    <td style=\"min-width:50px; border:none\" bgcolor=\"white\"><a href=\"../C7/C7.html\"><img src=\"../data/C7_nav.png\" style=\"height:50px\" alt=\"C7\"></a></td>\n",
    "    <td style=\"min-width:50px; border:none\" bgcolor=\"white\"><a href=\"../C8/C8.html\"><img src=\"../data/C8_nav.png\" style=\"height:50px\" alt=\"C8\"></a></td>\n",
    "</tr>\n",
    "</table>"
   ]
  }
 ],
 "metadata": {
  "kernelspec": {
   "display_name": "Python 3",
   "language": "python",
   "name": "python3"
  },
  "language_info": {
   "codemirror_mode": {
    "name": "ipython",
    "version": 3
   },
   "file_extension": ".py",
   "mimetype": "text/x-python",
   "name": "python",
   "nbconvert_exporter": "python",
   "pygments_lexer": "ipython3",
   "version": "3.7.15"
  }
 },
 "nbformat": 4,
 "nbformat_minor": 1
}
