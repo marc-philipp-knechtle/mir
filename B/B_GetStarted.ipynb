{
 "cells": [
  {
   "cell_type": "markdown",
   "metadata": {},
   "source": [
    "<div>\n",
    "<a href=\"http://www.music-processing.de/\"><img style=\"float:left;\" src=\"../data/FMP_Teaser_Cover.png\" width=40% alt=\"FMP\"></a>\n",
    "<a href=\"https://www.audiolabs-erlangen.de\"><img src=\"../data/Logo_AudioLabs_Long.png\" width=59% style=\"float: right;\" alt=\"AudioLabs\"></a>\n",
    "</div>"
   ]
  },
  {
   "cell_type": "markdown",
   "metadata": {},
   "source": [
    "<div>\n",
    "<a href=\"../B/B.html\"><img src=\"../data/B_nav.png\" width=\"100\"  style=\"float:right;\" alt=\"B\"></a>\n",
    "<h1> Get Started</h1> \n",
    "</div>\n",
    "\n",
    "<br/>\n",
    "\n",
    "<p>\n",
    "This notebook gives a short introduction on how to start interacting with the FMP notebooks. \n",
    "</p> "
   ]
  },
  {
   "cell_type": "markdown",
   "metadata": {},
   "source": [
    "## HTML and IPYNB Links\n",
    "\n",
    "If a static view of the FMP notebooks is enough for you, the exported HTML versions can be used right away without any installation. All material including the explanations, the figures, and the audio examples can be accessed by just following the **HTML links**. If you want to **execute** the Python code cells, you have to download the notebooks (along with the data), create an environment, and start a Jupyter server. You then need to follow the **IPYNB links** within the Jupyter session. In the following, we explain the following four steps in detail:\n",
    "\n",
    "* Downloading the FMP notebooks as well as the data\n",
    "* Installing Miniconda\n",
    "* Creating a conda environment\n",
    "* Starting the Jupyter server\n",
    "\n",
    "Further information can also be found in the <a href=\"../B/B_Installation.html\">FMP notebook on installing Python packages and using environment files.</a>"
   ]
  },
  {
   "cell_type": "markdown",
   "metadata": {},
   "source": [
    "## Downloading the FMP Notebooks\n",
    "\n",
    "The FMP notebooks along with all data are contained in a single zip-compressed archive. You can find this archive at \n",
    "\n",
    "<div class=\"alert alert-block alert-warning\">\n",
    "     <a href=\"https://www.audiolabs-erlangen.de/resources/MIR/FMP/FMP_1.2.4.zip\">https://www.audiolabs-erlangen.de/resources/MIR/FMP/FMP_1.2.4.zip</a>\n",
    "</div>   \n",
    "\n",
    "Decompress the archive and store it on your local computer."
   ]
  },
  {
   "cell_type": "markdown",
   "metadata": {},
   "source": [
    "## Installing Miniconda\n",
    "\n",
    "[Conda](https://conda.io/docs/) is an open source package manager that helps finding and installing packages. It runs on Windows, macOS and Linux. The Conda package and environment manager is included in **Anaconda** and its slim version **Miniconda**, which are free and open-source distributions of Python. Miniconda can make installing Python quick and easy even for new users. Download and install Miniconda for your platform from the following website:\n",
    "\n",
    "<div class=\"alert alert-block alert-warning\">\n",
    "     <a href=\"https://docs.conda.io/en/latest/miniconda.html\">https://docs.conda.io/en/latest/miniconda.html</a>\n",
    "</div> \n",
    "\n"
   ]
  },
  {
   "cell_type": "markdown",
   "metadata": {},
   "source": [
    "## Creating the Conda Environment\n",
    "\n",
    "We provide an environment file with all packages needed for interacting with the FMP notebooks. Open the Anaconda Prompt on Windows or your default shell on Linux/macOS. Then change to the directory that contains the file `environment.yml`. Create the environment with the following command: \n",
    "\n",
    "<div class=\"alert alert-block alert-warning\">\n",
    "    <tt>conda env create -f environment.yml</tt>\n",
    "</div> \n"
   ]
  },
  {
   "cell_type": "markdown",
   "metadata": {},
   "source": [
    "## Starting a Jupyter Server\n",
    "\n",
    "After creating the FMP environment, you need to activate the environment using the following command:\n",
    "\n",
    "<div class=\"alert alert-block alert-warning\">\n",
    "    <tt>conda activate FMP</tt>\n",
    "</div> \n",
    "\n",
    "Finally, one needs to change to the directory containing the FMP notebooks and to start the Jupyter server by using the following command:\n",
    "\n",
    "<div class=\"alert alert-block alert-warning\">\n",
    "    <tt>jupyter notebook</tt>\n",
    "</div> \n",
    "\n",
    "This should open a browser, displaying the folder structure of the FMP notebooks. You then can open the overview notebook by selecting the file `C0/C0.ipynb`. You can also directly open any FMP notebook by selecting a file in any subdirectory with the file extension `.ipynb`. Within the Jupyter session you need to follow the **IPYNB links** to keep the code cells executable. Furthermore note that, within the Jupyter session, you can only access files that are contained in the directory you used for launching the Jupyter server or in any **subdirectory**."
   ]
  },
  {
   "cell_type": "markdown",
   "metadata": {},
   "source": [
    "## Further Useful Commands\n",
    "\n",
    "Here is a list of useful commands, which may be helpful when updating and starting the environment. The command will be explained in more detail in subsequent notebooks. \n",
    "\n",
    "<div class=\"alert alert-block alert-warning\">\n",
    "\n",
    "<b>Updating, removing, and creating Python environments:</b><br>\n",
    "    \n",
    "<tt>\n",
    "conda update conda <br>     \n",
    "conda env update -f environment.yml <br>\n",
    "conda env remove -n FMP <br> \n",
    "conda env create -f environment.yml <br>  \n",
    "</tt>\n",
    "<br>  \n",
    "    \n",
    "<b>Install package to strip output from IPython notebooks:</b><br>\n",
    "\n",
    "<tt>\n",
    "conda activate FMP <br>\n",
    "nbstripout --install <br>\n",
    "</tt>   \n",
    "<br>      \n",
    "    \n",
    "<b>Install spell checker:</b><br>\n",
    "    \n",
    "<tt>\n",
    "jupyter notebook<br> \n",
    "jupyter contrib nbextension install --user <br>\n",
    "jupyter nbextension enable spellchecker/main<br>\n",
    "</tt>\n",
    "<br>      \n",
    "\n",
    "<b>Export Notebooks as HTML using classical style:</b><br>    \n",
    "\n",
    "<tt>\n",
    "jupyter nbconvert --to html --template classic B_GetStarted.ipynb<br> \n",
    "</tt>\n",
    "<br>     \n",
    "    \n",
    "<b>Configure notebook to disable cross-site-request-forgery protection:</b><br>\n",
    "    \n",
    "<tt>\n",
    "jupyter notebook --NotebookApp.disable_check_xsrf=True    \n",
    "</tt>\n",
    "    \n",
    "</div> "
   ]
  },
  {
   "cell_type": "markdown",
   "metadata": {},
   "source": [
    "<div class=\"alert\" style=\"background-color:#F5F5F5; border-color:#C8C8C8\">\n",
    "<strong>Acknowledgment:</strong> This notebook was created by <a href=\"https://www.audiolabs-erlangen.de/fau/assistant/zalkow\">Frank Zalkow</a> and <a href=\"https://www.audiolabs-erlangen.de/fau/professor/mueller\">Meinard Müller</a>.\n",
    "</div>"
   ]
  },
  {
   "cell_type": "markdown",
   "metadata": {},
   "source": [
    "<table style=\"border:none\">\n",
    "<tr style=\"border:none\">\n",
    "    <td style=\"min-width:50px; border:none\" bgcolor=\"white\"><a href=\"../C0/C0.html\"><img src=\"../data/C0_nav.png\" style=\"height:50px\" alt=\"C0\"></a></td>\n",
    "    <td style=\"min-width:50px; border:none\" bgcolor=\"white\"><a href=\"../C1/C1.html\"><img src=\"../data/C1_nav.png\" style=\"height:50px\" alt=\"C1\"></a></td>\n",
    "    <td style=\"min-width:50px; border:none\" bgcolor=\"white\"><a href=\"../C2/C2.html\"><img src=\"../data/C2_nav.png\" style=\"height:50px\" alt=\"C2\"></a></td>\n",
    "    <td style=\"min-width:50px; border:none\" bgcolor=\"white\"><a href=\"../C3/C3.html\"><img src=\"../data/C3_nav.png\" style=\"height:50px\" alt=\"C3\"></a></td>\n",
    "    <td style=\"min-width:50px; border:none\" bgcolor=\"white\"><a href=\"../C4/C4.html\"><img src=\"../data/C4_nav.png\" style=\"height:50px\" alt=\"C4\"></a></td>\n",
    "    <td style=\"min-width:50px; border:none\" bgcolor=\"white\"><a href=\"../C5/C5.html\"><img src=\"../data/C5_nav.png\" style=\"height:50px\" alt=\"C5\"></a></td>\n",
    "    <td style=\"min-width:50px; border:none\" bgcolor=\"white\"><a href=\"../C6/C6.html\"><img src=\"../data/C6_nav.png\" style=\"height:50px\" alt=\"C6\"></a></td>\n",
    "    <td style=\"min-width:50px; border:none\" bgcolor=\"white\"><a href=\"../C7/C7.html\"><img src=\"../data/C7_nav.png\" style=\"height:50px\" alt=\"C7\"></a></td>\n",
    "    <td style=\"min-width:50px; border:none\" bgcolor=\"white\"><a href=\"../C8/C8.html\"><img src=\"../data/C8_nav.png\" style=\"height:50px\" alt=\"C8\"></a></td>\n",
    "</tr>\n",
    "</table>"
   ]
  }
 ],
 "metadata": {
  "kernelspec": {
   "display_name": "Python 3",
   "language": "python",
   "name": "python3"
  },
  "language_info": {
   "codemirror_mode": {
    "name": "ipython",
    "version": 3
   },
   "file_extension": ".py",
   "mimetype": "text/x-python",
   "name": "python",
   "nbconvert_exporter": "python",
   "pygments_lexer": "ipython3",
   "version": "3.7.15"
  }
 },
 "nbformat": 4,
 "nbformat_minor": 2
}
