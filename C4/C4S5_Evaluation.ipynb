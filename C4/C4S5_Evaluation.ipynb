{
 "cells": [
  {
   "cell_type": "markdown",
   "metadata": {},
   "source": [
    "<div>\n",
    "<a href=\"http://www.music-processing.de/\"><img style=\"float:left;\" src=\"../data/FMP_Teaser_Cover.png\" width=40% alt=\"FMP\"></a>\n",
    "<a href=\"https://www.audiolabs-erlangen.de\"><img src=\"../data/Logo_AudioLabs_Long.png\" width=59% style=\"float: right;\" alt=\"AudioLabs\"></a>\n",
    "</div>"
   ]
  },
  {
   "cell_type": "markdown",
   "metadata": {},
   "source": [
    "<div>\n",
    "<a href=\"../C4/C4.html\"><img src=\"../data/C4_nav.png\" width=\"100\"  style=\"float:right;\" alt=\"C4\"></a>\n",
    "<h1>Evaluation</h1> \n",
    "</div>\n",
    "\n",
    "\n",
    "<p>\n",
    "Following Section 4.5 of <a href=\"http://www.music-processing.de/\">[Müller, FMP, Springer 2015]</a>, we discuss some general evaluation metrics that are the basis for evaluating music processing tasks. A comprehensive Python library that provides implementations for measures to evaluate Music Information Retrieval systems is provided by the <code>mir_eval</code> toolbox:\n",
    "\n",
    "<ul>\n",
    "<li><span style=\"color:black\">\n",
    "Colin Raffel, Brian McFee, Eric J. Humphrey, Justin Salamon, Oriol Nieto, Dawen Liang, Daniel P. W. Ellis:<a href=\"https://colinraffel.com/publications/ismir2014mir_eval.pdf\"><strong> MIR_EVAL: A Transparent Implementation of Common MIR Metrics.</strong></a> Proceedings of the International Society for Music Information Retrieval Conference (ISMIR), Taipei, Taiwan, 2014, pp. 367&ndash;372.\n",
    "<br>\n",
    "    <a href=\"https://craffel.github.io/mir_eval/\">Documentation</a>\n",
    "<br>    \n",
    "<a type=\"button\" class=\"btn btn-default btn-xs\" target=\"_blank\" href=\"../data/bibtex/FMP_bibtex_RaffelMHSNLE14_MIReval_ISMIR.txt\"> Bibtex </a>\n",
    "</span></li>\n",
    "</ul>    \n",
    "</p> "
   ]
  },
  {
   "cell_type": "markdown",
   "metadata": {},
   "source": [
    "## Introduction\n",
    "\n",
    "We have described various procedures for extracting structural information from a given music recording. However, we have not yet discussed the issue of measuring **how well** a given procedure performs the task at hand. The problem of of (automatically) evaluating music processing algorithms goes far beyond structure analysis and itself constitutes a nontrivial task. A general evaluation approach is to compare an **estimated result** obtained by some automated procedure against some **reference result**. To realize such a general approach, one needs to find answers to the following questions: \n",
    "\n",
    "* How is a given analysis result actually modeled?\n",
    "* How should the estimated result be compared against the reference result? \n",
    "* Where does the reference result come from and is it reliable?\n",
    "\n",
    "In particular the last question easily leads to philosophical considerations on the nature and meaning of musical descriptions. For example, music structure analysis is an ill-posed problem that depends on many different factors, not to mention the musical and acoustic variations that occur in real-world music recordings. Since analysis results largely depend on the musical context and the considered temporal level, even two human experts may disagree in their analysis of a given piece of music. In the case of our Brahms example, one expert may annotate the structure on a larger scale resulting in the musical structure $A_1A_2B_1B_2CA_3B_3B_4D$, while another expert may consider a  smaller scale, where the parts are further subdivided. In the following code cell, we give examples of annotations on three different scales.\n",
    "\n",
    "<!--<img src=\"../data/C4/FMP_C4_F28.png\" width=\"300px\" align=\"middle\" alt=\"FMP_C4_F28\">-->\n",
    "\n",
    "In practice, one typically assumes that a valid reference structure annotation has been provided by a human expert, even though this is a simplistic and sometimes problematic assumption. Such an annotation is also often referred to as **ground truth**. The objective of the automated procedure is to estimate an annotation that is as close to the reference as possible. "
   ]
  },
  {
   "cell_type": "code",
   "execution_count": 1,
   "metadata": {
    "execution": {
     "iopub.execute_input": "2023-01-13T13:32:28.236785Z",
     "iopub.status.busy": "2023-01-13T13:32:28.236424Z",
     "iopub.status.idle": "2023-01-13T13:32:31.098766Z",
     "shell.execute_reply": "2023-01-13T13:32:31.097594Z"
    }
   },
   "outputs": [
    {
     "data": {
      "image/png": "[encoded data removed]",
      "text/plain": [
       "<Figure size 432x72 with 1 Axes>"
      ]
     },
     "metadata": {
      "needs_background": "light"
     },
     "output_type": "display_data"
    },
    {
     "data": {
      "image/png": "[encoded data removed]",
      "text/plain": [
       "<Figure size 432x72 with 1 Axes>"
      ]
     },
     "metadata": {
      "needs_background": "light"
     },
     "output_type": "display_data"
    },
    {
     "data": {
      "image/png": "[encoded data removed]",
      "text/plain": [
       "<Figure size 432x72 with 1 Axes>"
      ]
     },
     "metadata": {
      "needs_background": "light"
     },
     "output_type": "display_data"
    }
   ],
   "source": [
    "import os, sys, librosa\n",
    "import numpy as np\n",
    "import matplotlib.pyplot as plt\n",
    "from matplotlib.colors import ListedColormap\n",
    "sys.path.append('..')\n",
    "import libfmp.b\n",
    "from libfmp.b import FloatingBox\n",
    "import libfmp.c4\n",
    "%matplotlib inline\n",
    "\n",
    "ann_Brahms = {}\n",
    "ann_Brahms[0] = [[0, 16, 'G major'], [16, 28, 'G minor'], [28, 40, 'G major']]\n",
    "\n",
    "ann_Brahms[1] = [[0, 4, 'A'], [4, 8, 'A'],  [8, 12, 'B'], [12, 16, 'B'],\n",
    "                [16, 27, 'C'], [27, 32, 'A'], [32, 36, 'B'], [36, 39, 'B'], [39, 40, '']]\n",
    "\n",
    "ann_Brahms[2] = [[0, 2, 'a'], [2, 4, 'a'], [4, 6, 'a'], [6, 8, 'a'],\n",
    "                [8, 10, 'b'], [10, 12, 'c'], [12, 13, 'b'], [13, 15, 'c'],\n",
    "                [15, 18, 'd'], [18, 20, 'd'], \n",
    "                [20, 22, 'e'], [22, 24, 'e'], [24, 26, 'e'], [26, 28, 'e'],\n",
    "                [28, 30, 'a'], [30, 32, 'a'], \n",
    "                [32,34, 'b'], [34, 36, 'c'], [36, 37, 'b'], [37, 39, 'c'], [39, 40, '']]\n",
    "\n",
    "color_ann_Brahms = {'G major': [1, 0.8, 0, 0.3], 'G minor': [0, 0, 1, 0.3],\n",
    "    'A': [1, 0, 0, 0.3], 'B': [0, 1, 0, 0.3], 'C': [0, 0, 1, 0.3], '': [1, 1, 1, 0.3],\n",
    "    'a': [1, 0, 0, 0.3], 'b': [0, 1, 0, 0.2], 'c': [0.3, 0.5, 0, 0.6], \n",
    "    'd': [0, 0, 1, 0.2], 'e': [0.2, 0, 0.5, 0.6],  '': [1, 1, 1, 1]}                    \n",
    "\n",
    "figsize = (6,1)\n",
    "for k in range(3):\n",
    "    libfmp.b.plot_segments(ann_Brahms[k], figsize = figsize, colors=color_ann_Brahms); "
   ]
  },
  {
   "cell_type": "markdown",
   "metadata": {},
   "source": [
    "## Precision, Recall, F-Measure\n",
    "\n",
    "Many evaluation measures are based on some notion of precision, recall, and F-measure&mdash;a concept that has been borrowed from the fields of information retrieval and pattern recognition. We now introduce this general concept in the context of binary classification. First, let $\\mathcal{I}$ be a finite set of so-called **items**. For this set, one has a reference annotation that is the result of a binary classification. Each item $i\\in \\mathcal{I}$ is assigned either a label '$+$' (item is **positive** or **relevant**) or a label '$-$'  (item is **negative** or **not relevant**). Let $\\mathcal{I}^\\mathrm{Ref}_+$ be the set of positive items, and $\\mathcal{I}^\\mathrm{Ref}_-$ be the set of negative items. Furthermore, one has an automated procedure that estimates the annotation for each item. Let $\\mathcal{I}^\\mathrm{Est}_+$ be the set of items being estimated as positive, and $\\mathcal{I}^\\mathrm{Est}_-$ be the set of items being estimated as negative. An item $i\\in\\mathcal{I}^\\mathrm{Est}_+$ estimated as positive is called a **true positive** (TP) if it belongs to $\\mathcal{I}^\\mathrm{Ref}_+$, i.e., if $i\\in\\mathcal{I}^\\mathrm{Est}_+\\cap\\mathcal{I}^\\mathrm{Ref}_+$. Otherwise, if $i\\in\\mathcal{I}^\\mathrm{Est}_+\\cap\\mathcal{I}^\\mathrm{Ref}_-$, it is called a **false positive** (FP). Similarly, an item $i\\in\\mathcal{I}^\\mathrm{Est}_-$ estimated as negative is called a **false negative** (FN) if it belongs to $\\mathcal{I}^\\mathrm{Ref}_+$, and **true negative** (TN) otherwise.\n",
    "\n",
    "The **precision** $\\mathrm{P}$ of the estimation is defined as the number of true positives divided by the total number of items estimated as positive:\n",
    "\n",
    "\\begin{equation}\n",
    "   \\mathrm{P} = \\frac{|\\mathcal{I}^\\mathrm{Est}_+\\cap\\mathcal{I}^\\mathrm{Ref}_+|}{|\\mathcal{I}^\\mathrm{Est}_+|} = \\frac{\\#\\mathrm{TP}}{\\#\\mathrm{TP}+\\#\\mathrm{FP}}.  \n",
    "\\end{equation}\n",
    "\n",
    "In contrast, the **recall** $\\mathrm{R}$ is defined as the number of true positives divided by the total number of positive items:\n",
    "\n",
    "\\begin{equation}\n",
    "   \\mathrm{R} = \\frac{|\\mathcal{I}^\\mathrm{Est}_+\\cap\\mathcal{I}^\\mathrm{Ref}_+|}{|\\mathcal{I}^\\mathrm{Ref}_+|} = \\frac{\\#\\mathrm{TP}}{\\#\\mathrm{TP}+\\#\\mathrm{FN}}.  \n",
    "\\end{equation}\n",
    "\n",
    "Note that both precision and recall have values in the interval $[0,1]$. A perfect precision $\\mathrm{P}=1$ means that every item estimated as positive is indeed positive. In this case, there is no false positive, but there may exist some false negatives. In contrast, a perfect recall $\\mathrm{R}=1$ means that every positive item was also estimated as positive. In this case, there is no false negative, but there may exist some false positives. Only in the case $\\mathrm{P}=1$ and $\\mathrm{R}=1$ does the estimated annotation coincide with the reference annotation. Precision and recall are often combined by taking their **harmonic mean** to form a single measure, often referred to as the **F-measure**:\n",
    "\n",
    "\\begin{equation}\n",
    "   \\mathrm{F} = \\frac{2\\cdot \\mathrm{P}\\cdot \\mathrm{R}}{\\mathrm{P} + \\mathrm{R}}.  \n",
    "\\end{equation}\n",
    "\n",
    "One main property is that $\\mathrm{F}\\in[0,1]$ with $\\mathrm{F}=1$ if and only if $\\mathrm{P}=1$ and $\\mathrm{R}=1$. The following figure illustrates the definitions:\n",
    "\n",
    "<img src=\"../data/C4/FMP_C4_F29.png\" width=\"500px\" align=\"middle\" alt=\"FMP_C4_F29\">\n",
    "\n",
    "\n",
    "Given the sets $\\mathcal{I}$, $\\mathcal{I}^\\mathrm{Ref}_+$, and $\\mathcal{I}^\\mathrm{Est}_+$, we provide in the following code cell a function for computing the various measures and give some examples. "
   ]
  },
  {
   "cell_type": "code",
   "execution_count": 2,
   "metadata": {
    "execution": {
     "iopub.execute_input": "2023-01-13T13:32:31.102571Z",
     "iopub.status.busy": "2023-01-13T13:32:31.102205Z",
     "iopub.status.idle": "2023-01-13T13:32:31.168396Z",
     "shell.execute_reply": "2023-01-13T13:32:31.167320Z"
    }
   },
   "outputs": [
    {
     "name": "stdout",
     "output_type": "stream",
     "text": [
      "Example 1\n",
      "TP =  {0, 1, 2} ;  FN =  {3} ;  FP =  {4, 5}\n",
      "P = 0.600;  R = 0.750;  F = 0.667\n"
     ]
    }
   ],
   "source": [
    "def measure_prf(num_TP, num_FN, num_FP):\n",
    "    \"\"\"Compute P, R, and F from size of TP, FN, and FP [FMP, Section 4.5.1]\n",
    "\n",
    "    Notebook: C4/C4S5_Evaluation.ipynb\n",
    "\n",
    "    Args:\n",
    "        num_TP (int): True positives\n",
    "        num_FN (int): False negative\n",
    "        num_FP (int): False positives\n",
    "\n",
    "    Returns:\n",
    "        P (float): Precision\n",
    "        R (float): Recall\n",
    "        F (float): F-measure\n",
    "    \"\"\"\n",
    "    P = num_TP / (num_TP + num_FP)\n",
    "    R = num_TP / (num_TP + num_FN)\n",
    "    if (P + R) > 0:\n",
    "        F = 2 * P * R / (P + R)\n",
    "    else:\n",
    "        F = 0\n",
    "    return P, R, F\n",
    "    \n",
    "\n",
    "def measure_prf_sets(I, I_ref_pos, I_est_pos, details=False):\n",
    "    \"\"\"Compute P, R, and F from sets I, I_ref_pos, I_est_pos [FMP, Section 4.5.1]\n",
    "\n",
    "    Notebook: C4/C4S5_Evaluation.ipynb\n",
    "\n",
    "    Args:\n",
    "        I: Set of items\n",
    "        I_ref_pos: Reference set of positive items\n",
    "        I_est_pos: Set of items being estimated as positive\n",
    "        details: Print details (Default value = False)\n",
    "\n",
    "    Returns:\n",
    "        P (float): Precision\n",
    "        R (float): Recall\n",
    "        F (float): F-measure\n",
    "    \"\"\"\n",
    "    I_ref_neg = I.difference(I_ref_pos)\n",
    "    I_est_neg = I.difference(I_est_pos)\n",
    "    TP = I_est_pos.intersection(I_ref_pos)\n",
    "    FN = I_est_neg.intersection(I_ref_pos)\n",
    "    FP = I_est_pos.intersection(I_ref_neg)\n",
    "    P, R, F = measure_prf(len(TP), len(FN), len(FP))\n",
    "    if details:\n",
    "        print('TP = ', TP, ';  FN = ', FN, ';  FP = ', FP)\n",
    "        print('P = %0.3f;  R = %0.3f;  F = %0.3f' % (P, R, F))\n",
    "    return P, R, F\n",
    "\n",
    "print('Example 1')\n",
    "I = {0,1,2,3,4,5,6,7,8,9}\n",
    "I_ref_pos = {0,1,2,3}\n",
    "I_est_pos = {0,1,2,4,5}\n",
    "P, R, F = measure_prf_sets(I, I_ref_pos, I_est_pos, details=True)"
   ]
  },
  {
   "cell_type": "code",
   "execution_count": 3,
   "metadata": {
    "execution": {
     "iopub.execute_input": "2023-01-13T13:32:31.172774Z",
     "iopub.status.busy": "2023-01-13T13:32:31.172352Z",
     "iopub.status.idle": "2023-01-13T13:32:31.177849Z",
     "shell.execute_reply": "2023-01-13T13:32:31.176929Z"
    }
   },
   "outputs": [
    {
     "name": "stdout",
     "output_type": "stream",
     "text": [
      "Example 2\n",
      "TP =  {0, 1, 2} ;  FN =  {3, 4, 5, 6} ;  FP =  {8, 9, 7}\n",
      "P = 0.500;  R = 0.429;  F = 0.462\n"
     ]
    }
   ],
   "source": [
    "print('Example 2')\n",
    "I = {0,1,2,3,4,5,6,7,8,9}\n",
    "I_ref_pos = {0,1,2,3,4,5,6}\n",
    "I_est_pos = {0,1,2,7,8,9}\n",
    "P, R, F = measure_prf_sets(I, I_ref_pos, I_est_pos, details=True)"
   ]
  },
  {
   "cell_type": "code",
   "execution_count": 4,
   "metadata": {
    "execution": {
     "iopub.execute_input": "2023-01-13T13:32:31.181617Z",
     "iopub.status.busy": "2023-01-13T13:32:31.181298Z",
     "iopub.status.idle": "2023-01-13T13:32:31.186383Z",
     "shell.execute_reply": "2023-01-13T13:32:31.185570Z"
    }
   },
   "outputs": [
    {
     "name": "stdout",
     "output_type": "stream",
     "text": [
      "Example 3\n",
      "TP =  {0, 1, 2} ;  FN =  {3, 4, 5, 6, 7, 8, 9} ;  FP =  set()\n",
      "P = 1.000;  R = 0.300;  F = 0.462\n"
     ]
    }
   ],
   "source": [
    "print('Example 3')\n",
    "I = {0,1,2,3,4,5,6,7,8,9}\n",
    "I_ref_pos = I\n",
    "I_est_pos = {0,1,2}\n",
    "P, R, F = measure_prf_sets(I, I_ref_pos, I_est_pos, details=True)"
   ]
  },
  {
   "cell_type": "markdown",
   "metadata": {},
   "source": [
    "## Labeling Evaluation\n",
    "\n",
    "In the following scenario, we consider a frame-level music analysis task. Let $\\varphi:[1:N]$ be the time axis given in frames and let $\\Lambda$ a set of possible labels. We define a **label function** to be a function $\\varphi:[1:N] \\to \\Lambda$ that assigns for each frame index $n\\in[1:N]$ a label $\\varphi(n)\\in\\Lambda$. We now introduce some frame-based evaluation measures, which are referred to as **pairwise precision**, **pairwise recall**, and **pairwise F-measure**. \n",
    "\n",
    "Let $\\varphi^\\mathrm{Ref}$ and $\\varphi^\\mathrm{Est}$ be the label functions for the reference and estimated structure annotation, respectively. In order to become independent of the actual label naming, the main idea is to not directly look at the labels, but to look for label co-occurrences. To this end, we consider pairs of frames that are assigned to the same label. More precisely, we define the set\n",
    "\n",
    "\\begin{equation}\n",
    "   \\mathcal{I}=\\{(n,m)\\in[1:N]\\times[1:N]\\mid m<n\\},\n",
    "\\end{equation}\n",
    "\n",
    "which serves as a set of items. For the reference and estimated annotations, we define the positive items by \n",
    "\n",
    "\\begin{eqnarray}\n",
    "   \\mathcal{I}^\\mathrm{Ref}_+&=&\\{(n,m)\\in\\mathcal{I}\\mid \\varphi^\\mathrm{Ref}(n)=\\varphi^\\mathrm{Ref}(m)\\},\\\\\n",
    "   \\mathcal{I}^\\mathrm{Est}_+&=&\\{(n,m)\\in\\mathcal{I}\\mid \\varphi^\\mathrm{Est}(n)=\\varphi^\\mathrm{Est}(m)\\},\n",
    "\\end{eqnarray}\n",
    "\n",
    "whereas $\\mathcal{I}^\\mathrm{Ref}_-=\\mathcal{I}\\setminus\\mathcal{I}^\\mathrm{Ref}_+$ and $\\mathcal{I}^\\mathrm{Est}_-=\\mathcal{I}\\setminus\\mathcal{I}^\\mathrm{Est}_+$. In other words, an item $(n,m)$ is considered to be **positive** with regard to an annotation if the frames $n$ and $m$ have the same label. Now, the **pairwise precision** is defined to be the precision of this binary classification scheme. Similarly, the **pairwise recall** is the recall and the **pairwise F-measure** is the F-measure of this scheme. \n",
    "\n",
    "The definitions are illustrated by the following figures. We start with a function that converts a given segment-based structure annotation into a **frame-based label sequence** (encoding a label function $\\varphi$). In the following two examples, the sampled time interval consists of $N=10$ samples.\n",
    "\n",
    "<!--<img src=\"../data/C4/FMP_C4_F30.png\" width=\"600px\" align=\"middle\" alt=\"FMP_C4_F30\">-->"
   ]
  },
  {
   "cell_type": "code",
   "execution_count": 5,
   "metadata": {
    "execution": {
     "iopub.execute_input": "2023-01-13T13:32:31.190095Z",
     "iopub.status.busy": "2023-01-13T13:32:31.189830Z",
     "iopub.status.idle": "2023-01-13T13:32:31.534467Z",
     "shell.execute_reply": "2023-01-13T13:32:31.533666Z"
    }
   },
   "outputs": [
    {
     "name": "stdout",
     "output_type": "stream",
     "text": [
      "Segment-based structure annotation:\n"
     ]
    },
    {
     "data": {
      "image/png": "[encoded data removed]",
      "text/plain": [
       "<Figure size 360x144 with 2 Axes>"
      ]
     },
     "metadata": {
      "needs_background": "light"
     },
     "output_type": "display_data"
    },
    {
     "name": "stdout",
     "output_type": "stream",
     "text": [
      "Frame-based label sequence:\n"
     ]
    },
    {
     "data": {
      "image/png": "[encoded data removed]",
      "text/plain": [
       "<Figure size 360x144 with 2 Axes>"
      ]
     },
     "metadata": {
      "needs_background": "light"
     },
     "output_type": "display_data"
    }
   ],
   "source": [
    "def convert_ann_to_seq_label(ann):\n",
    "    \"\"\"Convert structure annotation with integer time positions (given in indices)\n",
    "    into label sequence\n",
    "\n",
    "    Notebook: C4/C4S5_Evaluation.ipynb\n",
    "\n",
    "    Args:\n",
    "        ann (list): Annotation (list ``[[s, t, 'label'], ...]``, with ``s``, ``t`` being integers)\n",
    "\n",
    "    Returns:\n",
    "        X (list): Sequencs of labels\n",
    "    \"\"\"\n",
    "    X = []\n",
    "    for seg in ann:\n",
    "        K = seg[1] - seg[0]\n",
    "        for k in range(K):\n",
    "            X.append(seg[2])\n",
    "    return X\n",
    "\n",
    "def plot_seq_label(ax, X, Fs=1, color_label=[], direction='horizontal',\n",
    "                   fontsize=10, time_axis=False, print_labels=True):\n",
    "    \"\"\"Plot label sequence in the style of annotations\n",
    "\n",
    "    Notebook: C4/C4S5_Evaluation.ipynb\n",
    "\n",
    "    Args:\n",
    "        ax: Axis used for plotting\n",
    "        X: Label sequence\n",
    "        Fs: Sampling rate (Default value = 1)\n",
    "        color_label: List of colors for labels (Default value = [])\n",
    "        direction: Parameter used for :func:`libfmp.b.b_plot.plot_segments` (Default value = 'horizontal')\n",
    "        fontsize: Parameter used for :func:`libfmp.b.b_plot.plot_segments` (Default value = 10)\n",
    "        time_axis: Parameter used for :func:`libfmp.b.b_plot.plot_segments` (Default value = False)\n",
    "        print_labels: Parameter used for :func:`libfmp.b.b_plot.plot_segments` (Default value = True)\n",
    "\n",
    "    Returns:\n",
    "         ann_X: Structure annotation for label sequence\n",
    "    \"\"\"\n",
    "    ann_X = []\n",
    "    for m, cur_x in enumerate(X):\n",
    "        ann_X.append([(m-0.5)/Fs, (m+0.5)/Fs, cur_x])\n",
    "    libfmp.b.plot_segments(ann_X, ax=ax, time_axis=time_axis, fontsize=fontsize,\n",
    "                           direction=direction, colors=color_label, print_labels=print_labels)\n",
    "    return ann_X\n",
    "\n",
    "color_label = {'A': [1, 0, 0, 0.2], 'B': [0, 0, 1, 0.2], 'C': [0, 1, 0, 0.2],\n",
    "             'X': [1, 0, 0, 0.2], 'Y': [0, 0, 1, 0.2], 'Z': [0, 1, 0, 0.2]}\n",
    "\n",
    "ann_ref = [[0, 4, 'A'], [4, 7, 'B'], [7, 10, 'A']]\n",
    "ann_est = [[0, 1, 'X'], [1, 3, 'Y'], [3, 7, 'Z'], [7, 9, 'Y'], [9, 10, 'X']]\n",
    "\n",
    "X_ref = convert_ann_to_seq_label(ann_ref)\n",
    "X_est = convert_ann_to_seq_label(ann_est)\n",
    "\n",
    "print('Segment-based structure annotation:')\n",
    "plt.figure(figsize=(5,2))\n",
    "ax = plt.subplot(211)\n",
    "libfmp.b.plot_segments(ann_ref, ax=ax, colors=color_label); \n",
    "#ax.set_xticks([])\n",
    "ax = plt.subplot(212)\n",
    "libfmp.b.plot_segments(ann_est, ax=ax, colors=color_label); \n",
    "#ax.set_xticks([])\n",
    "plt.tight_layout()\n",
    "plt.show()\n",
    "\n",
    "print('Frame-based label sequence:')\n",
    "plt.figure(figsize=(5,2))\n",
    "ax = plt.subplot(211)\n",
    "plot_seq_label(ax, X_ref, color_label=color_label, time_axis=True);\n",
    "ax = plt.subplot(212)\n",
    "plot_seq_label(ax, X_est, color_label=color_label, time_axis=True);\n",
    "plt.tight_layout()"
   ]
  },
  {
   "cell_type": "markdown",
   "metadata": {},
   "source": [
    "Using the first sequence as reference $\\varphi^\\mathrm{Est}$ and the second one as estimation $\\varphi^\\mathrm{Est}$, we now illustrate the pairwise precision, recall, and F-measure. In particular, we show the positive items (indicated by gray entries) of the reference and estimated annotations. Furthermore, we visualize true positive (TP), false negative (FN), and false positive (FP) items. "
   ]
  },
  {
   "cell_type": "code",
   "execution_count": 6,
   "metadata": {
    "execution": {
     "iopub.execute_input": "2023-01-13T13:32:31.537607Z",
     "iopub.status.busy": "2023-01-13T13:32:31.537384Z",
     "iopub.status.idle": "2023-01-13T13:32:31.763422Z",
     "shell.execute_reply": "2023-01-13T13:32:31.762812Z"
    }
   },
   "outputs": [
    {
     "data": {
      "text/html": [
       "\n",
       "        <style>\n",
       "        .floating-box-fmp-9173f22b-1a3f-41f8-afc5-45e37fb883f4 {\n",
       "        display: inline-block;\n",
       "        margin: 10px;\n",
       "        vertical-align: top;\n",
       "        }\n",
       "        </style>\n",
       "        <div class=\"floating-box-fmp-9173f22b-1a3f-41f8-afc5-45e37fb883f4\"><img src=\"data:image/png;base64,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\n",
       "\"></div><div class=\"floating-box-fmp-9173f22b-1a3f-41f8-afc5-45e37fb883f4\"><img src=\"data:image/png;base64,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\n",
       "\"></div><div class=\"floating-box-fmp-9173f22b-1a3f-41f8-afc5-45e37fb883f4\"><img src=\"data:image/png;base64,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\n",
       "\"></div>"
      ],
      "text/plain": [
       "<IPython.core.display.HTML object>"
      ]
     },
     "metadata": {},
     "output_type": "display_data"
    },
    {
     "name": "stdout",
     "output_type": "stream",
     "text": [
      "#TP =  10 ;  #FN =  14 ;  #FP =  3\n",
      "P = 0.769;  R = 0.417;  F = 0.541\n"
     ]
    }
   ],
   "source": [
    "def compare_pairwise(X):\n",
    "    \"\"\"Compute set of positive items from label sequence [FMP, Section 4.5.3]\n",
    "\n",
    "    Notebook: C4/C4S5_Evaluation.ipynb\n",
    "\n",
    "    Args:\n",
    "        X (list or np.ndarray): Label sequence\n",
    "\n",
    "    Returns:\n",
    "        I_pos (np.ndarray): Set of positive items\n",
    "    \"\"\"\n",
    "    N = len(X)\n",
    "    I_pos = np.zeros((N, N))\n",
    "    for n in range(1, N):\n",
    "        for m in range(n):\n",
    "            if X[n] is X[m]:\n",
    "                I_pos[n, m] = 1\n",
    "    return I_pos\n",
    "\n",
    "def evaluate_pairwise(I_ref_pos, I_est_pos):\n",
    "    \"\"\"Compute pairwise evaluation measures [FMP, Section 4.5.3]\n",
    "\n",
    "    Notebook: C4/C4S5_Evaluation.ipynb\n",
    "\n",
    "    Args:\n",
    "        I_ref_pos (np.ndarray): Referenence set of positive items\n",
    "        I_est_pos (np.ndarray): Set of items being estimated as positive\n",
    "\n",
    "    Returns:\n",
    "        P (float): Precision\n",
    "        R (float): Recall\n",
    "        F (float): F-measure\n",
    "        num_TP (int): Number of true positives\n",
    "        num_FN (int): Number of false negatives\n",
    "        num_FP (int): Number of false positives\n",
    "        I_eval (np.ndarray): Data structure encoding TP, FN, FP\n",
    "    \"\"\"\n",
    "    I_eval = np.zeros(I_ref_pos.shape)\n",
    "    TP = (I_ref_pos + I_est_pos) > 1\n",
    "    FN = (I_ref_pos - I_est_pos) > 0\n",
    "    FP = (I_ref_pos - I_est_pos) < 0\n",
    "    I_eval[TP] = 1\n",
    "    I_eval[FN] = 2\n",
    "    I_eval[FP] = 3\n",
    "    num_TP = np.sum(TP)\n",
    "    num_FN = np.sum(FN)\n",
    "    num_FP = np.sum(FP)\n",
    "    P, R, F = measure_prf(num_TP, num_FN, num_FP)\n",
    "    return P, R, F, num_TP, num_FN, num_FP, I_eval\n",
    "\n",
    "def plot_matrix_label(M, X, color_label=None, figsize=(3, 3), cmap='gray_r', fontsize=8, print_labels=True):\n",
    "    \"\"\"Plot matrix and label sequence\n",
    "\n",
    "    Notebook: C4/C4S5_Evaluation.ipynb\n",
    "\n",
    "    Args:\n",
    "        M: Matrix\n",
    "        X: Label sequence\n",
    "        color_label: List of colors for labels (Default value = None)\n",
    "        figsize: Figure size (Default value = (3, 3))\n",
    "        cmap: Colormap for imshow (Default value = 'gray_r')\n",
    "        fontsize: Font size (Default value = 8)\n",
    "        print_labels: Display labels inside Rectangles (Default value = True)\n",
    "\n",
    "    Returns:\n",
    "        fig: Handle for figure\n",
    "        ax: Handle for axes\n",
    "    \"\"\"\n",
    "    fig, ax = plt.subplots(2, 3, gridspec_kw={'width_ratios': [0.1, 1, 0.05],\n",
    "                                              'wspace': 0.2, 'height_ratios': [1, 0.1]},\n",
    "                           figsize=figsize)\n",
    "\n",
    "    colorList = np.array([[1, 1, 1, 1],  [0, 0, 0, 0.7]])\n",
    "    cmap = ListedColormap(colorList)\n",
    "    im = ax[0, 1].imshow(M, aspect='auto', cmap=cmap,  origin='lower', interpolation='nearest')\n",
    "    im.set_clim(vmin=-0.5, vmax=1.5)\n",
    "    ax_cb = plt.colorbar(im, cax=ax[0, 2])\n",
    "    ax_cb.set_ticks(np.arange(0, 2, 1))\n",
    "    ax_cb.set_ticklabels(np.arange(0, 2, 1))\n",
    "    ax[0, 1].set_xticks([])\n",
    "    ax[0, 1].set_yticks([])\n",
    "    plot_seq_label(ax[1, 1], X, color_label=color_label, fontsize=fontsize, print_labels=print_labels)\n",
    "    ax[1, 2].axis('off')\n",
    "    ax[1, 0].axis('off')\n",
    "    plot_seq_label(ax[0, 0], X, color_label=color_label, fontsize=fontsize, print_labels=print_labels,\n",
    "                   direction='vertical')\n",
    "    return fig, ax\n",
    "\n",
    "def plot_matrix_pairwise(I_eval, figsize=(3, 2.5)):\n",
    "    \"\"\"Plot matrix I_eval encoding TP, FN, FP (see :func:`libfmp.c4.c4s5_evaluation.evaluate_pairwise`)\n",
    "\n",
    "    Notebook: C4/C4S5_Evaluation.ipynb\n",
    "\n",
    "    Args:\n",
    "        I_eval: Data structure encoding TP, FN, FP\n",
    "        figsize: Figure size (Default value = (3, 2.5))\n",
    "\n",
    "    Returns:\n",
    "        fig: Handle for figure\n",
    "        im: Handle for imshow\n",
    "    \"\"\"\n",
    "    fig = plt.figure(figsize=figsize)\n",
    "    colorList = np.array([[1, 1, 1, 1], [0, 0.7, 0, 1], [1, 0, 0, 1], [1, 0.5, 0.5, 1]])\n",
    "    cmap = ListedColormap(colorList)\n",
    "    im = plt.imshow(I_eval, aspect='auto', cmap=cmap,  origin='lower', interpolation='nearest')\n",
    "    im.set_clim(vmin=-0.5, vmax=3.5)\n",
    "    plt.xticks([])\n",
    "    plt.yticks([])\n",
    "    ax_cb = plt.colorbar(im)\n",
    "    ax_cb.set_ticks(np.arange(0, 4, 1))\n",
    "    ax_cb.set_ticklabels(['', 'TP', 'FN', 'FP'])\n",
    "    return fig, im\n",
    "\n",
    "float_box = libfmp.b.FloatingBox(align='top')\n",
    "I_ref_pos = compare_pairwise(X_ref)\n",
    "fig, ax = plot_matrix_label(I_ref_pos, X_ref, color_label=color_label)\n",
    "ax[0,1].set_title('Reference')\n",
    "float_box.add_fig(fig)\n",
    "\n",
    "I_est_pos = compare_pairwise(X_est)\n",
    "fig, ax = plot_matrix_label(I_est_pos, X_est, color_label=color_label)\n",
    "ax[0,1].set_title('Estimation')\n",
    "float_box.add_fig(fig)\n",
    "\n",
    "P, R, F, num_TP, num_FN, num_FP, I_eval =  evaluate_pairwise(I_ref_pos, I_est_pos)\n",
    "fig, im = plot_matrix_pairwise(I_eval)\n",
    "plt.title('Pairwise TP, FN, FP')\n",
    "float_box.add_fig(fig)\n",
    "float_box.show()\n",
    "\n",
    "print('#TP = ', num_TP, ';  #FN = ', num_FN, ';  #FP = ', num_FP)\n",
    "print('P = %0.3f;  R = %0.3f;  F = %0.3f' % (P, R, F))"
   ]
  },
  {
   "cell_type": "markdown",
   "metadata": {},
   "source": [
    "In the first plot, the reference annotations are indicated. Note that $24$ out of the $45$ items are positive (indicated by gray boxes) with regard to this annotation. In the second plot, which indicates the estimated annotations, there are $13$ positive items (indicated by gray boxes). In the third plot, the true positives ($\\#\\mathrm{TP}=10$), false positives ($\\#\\mathrm{FP}=3$), and false negatives ($\\#\\mathrm{FN}=14$) are indicated. From this, one obtains\n",
    "\n",
    "\\begin{eqnarray}\n",
    "\\mathrm{P} &=& \\#\\mathrm{TP}/(\\#\\mathrm{TP}+\\#\\mathrm{FP})=10/13\\approx 0.769,\\\\\n",
    "\\mathrm{R} &=& \\#\\mathrm{TP}/(\\#\\mathrm{TP}+\\#\\mathrm{FN})=10/24\\approx 0.417,\\\\\n",
    "\\mathrm{F} &=& 2\\mathrm{P}\\mathrm{R}/(\\mathrm{P} + \\mathrm{R})\\approx 0.541. \n",
    "\\end{eqnarray}\n",
    "\n",
    "In this example, the precision of nearly $77\\%$ is relatively high, whereas the recall of $42\\%$ is relatively low. The F-measure is between these two values with a bias towards the smaller one. As further examples, we now compare the three Brahms annotations, which we introduced at the beginning of this notebook. "
   ]
  },
  {
   "cell_type": "code",
   "execution_count": 7,
   "metadata": {
    "execution": {
     "iopub.execute_input": "2023-01-13T13:32:31.766062Z",
     "iopub.status.busy": "2023-01-13T13:32:31.765863Z",
     "iopub.status.idle": "2023-01-13T13:32:32.683268Z",
     "shell.execute_reply": "2023-01-13T13:32:32.682617Z"
    }
   },
   "outputs": [
    {
     "data": {
      "text/html": [
       "\n",
       "        <style>\n",
       "        .floating-box-fmp-f0673d3f-85b0-4abe-9cc6-7fe865f8ee9e {\n",
       "        display: inline-block;\n",
       "        margin: 10px;\n",
       "        vertical-align: top;\n",
       "        }\n",
       "        </style>\n",
       "        <div class=\"floating-box-fmp-f0673d3f-85b0-4abe-9cc6-7fe865f8ee9e\"><img src=\"data:image/png;base64,iVBORw0KGgoAAAANSUhEUgAAANgAAADYCAYAAACJIC3tAAAABHNCSVQICAgIfAhkiAAAAAlwSFlzAAALEgAACxIB0t1+/AAAADh0RVh0U29mdHdhcmUAbWF0cGxvdGxpYiB2ZXJzaW9uMy4xLjMsIGh0dHA6Ly9tYXRwbG90bGliLm9yZy+AADFEAAAK9ElEQVR4nO3daYxdZR3H8e+/U7YWhGJblFbQMCIEE9HUBRXsCytgZCQhKEqM2wuX8MolKlFJcDeKNRGFGkkDJpL4QjJUoHEJoCIJaOKCSzJqaxvWYSni1uA8vjhPm9Nhljvt/O+9c+/3k0xyzznP89xzTs//nN9z27mNUgqScizr9Q5Ig8wCkxJZYFIiC0xKZIFJiSwwKZEFJiWywKREFpiUyAJbgIj4QEQ8FBFPRcSze70/6n9DVWARsSMi/l0L5MGI2BoRR3fY9zDgKuANpZSjSymP5u5t90TE2yPi3npeHoiIWyPitb3er0EwVAVWXVBKORo4E3gp8IkO+50AHAncdzBvGhEjB9MvW0R8CNgMfJ7mGE8Cvgm8eZHfJyJi+K63UsrQ/AA7gNe3lr8M/LC1fATwFeDvwEPANcBRwKnAP4ECPAX8tLY/DfgR8BjwZ+AtrbG2At8Cbql9Xz/b+LX9RmA38GHgYeAB4N2t8Y4CvgrsBPYAP2/1fRVwF/AE8BtgY4fn49h6PBfP0eYImgK8v/5sBo6o21YB24BHgMfr6/WtvrcDnwN+AfwbGAXeBfwV+AfwN+DSVvv3AH+sY20HTu71NXPI11yvd6CrB9sqMGA98Dvg663tm4Fx4HjgGOBm4At12/NrgS2vyyuBXcC7geXAy4BJ4Iy6fWsthNfQJIUj5xl/I/A0cCVwGPBG4F/Aqrr96nrBrgNGgFfXi38d8GhtvwzYVJfX1H4fB7bNcj7Oq++5fI5zdiVwN7AWWFML+TN127OBi4AV9Xi+D9zU6ns7zc3kjHqOjgWeBF5Utz+3db4uBCaA02vbTwJ39fqaOeRrrtc70NWDbQrsqXr3LMBPgOPqtqB50pzSan8W8Lf6enqBvRX42bTxrwWuqK+3Ate3ts03/kaau/zy1vaHaZ5Oy+q2l8xwTB8Dbpi2bjvwzg7Ox6XAg/O0+QvwxtbyucCOWdqeCTzeWr4duLK1vJLmKXsR9enb2nYr8N7W8jKaG8zJvb5uDuVn+DIxXFhKOYbmgj4NWF3Xr6G5E/8qIp6IiCeA2+r6mZwMvHJf29r+UuA5rTa7Wq87Gf/RUsrTreV/AUfXfTyS5mKfaT8unrYfr6V5OsznUWB1RCyfo82JNLF0n511HRGxIiKujYidEfEkcCdw3LT55v5zUEr5J82N6f3AAxHxw4g4rXUcX28dw2M0N6V1HRxH3xrGAgOglHIHzVPmK3XVJM1T4oxSynH159jSfCAyk13AHa22x5Xm08UPtN+m9Xqh47dNAv8BTpllP26Yth8rSylf7GDcX9ZxL5yjzf00F/8+J9V10MwXXwS8spTyLOCcuj5a7Q/4jd5SyvZSyiaaG8CfgG+3juN9047jqFLKXR0cR98a2gKrNgObIuLMUsoUzR/21yJiLUBErIuIc2fpuw04NSLeERGH1Z+XR8TpMzU+iPGn970OuCoiToyIkYg4KyKOAL4LXBAR59b1R0bExohY38G4e4BPA1dHxIX1iXRYRJwfEV+uzb4HfDIi1kTE6tr+u3XbMTQ3jSci4njgirneLyJOiIixiFgJ/Jcmrv+vbr4G+EREnFHbHhsRF893DP1uqAuslPIIcD3wqbrqYzQT7btr5PkxzR16pr7/AN4AXEJzR38Q+BLNBw+z6Xj8GXyE5kOZe2ji05eAZaWUXTQfqV9O82neLuCj1D/biLg8Im6dbdBSylXAh2g+VNjX/zLgptrks8C9wG/r+/+6roPmBnUUzRP2bprIO5dlNE+9++sxvA74YN2PH9RjurGem98D588zXt+LOqGUlGCon2BSNgtMSmSBSYksMCmRBSYlmutv8BfdyMhImZqaWmi3yVLKbP+aYr/DDz+8rFix4uB2rA+Njo72ehdmNDEx0etdOMC+87Rjxw4mJydjnuasXbu27N279xnr9+zZs72Uct5i719XC2xqaory+PiC+sSqsZ3zt4IVK1ZwzjnnzN9wiRgfX9h56paxsbFe78IB9p2nDRs2dNR+7969nH322c9Yv23bttUzND9kRkQpUVefYBEQq/rrDqilp1+f7jPpaoGVwsFExKS9kfIZEaVEFpiUyDmY+t5SmnNN5xxMSmRElBIZEdWXlnIsbDMiSomMiFIiI6KUyIiovjEo8642I6KUyAKTEjkHU08NYixscw4mJTIiSomMiOqqQY+E0xkRpURGRCmRBSYlcg6mdMM272pzDiYlMiJKiYyISjHMsbDNiCglMiJKiYyIWjSDHgsj4jrgTcDDpZQXd9LHiCh1bivwDeD6TjsYEaUOlVLuBB5bSB8LTErkHEyHZIDmXasj4t7W8pZSypZDHdQ5mNSYLKV09t9kLoARUUpkRNSCDFAkXLCI+B6wkSZO7gauKKV8Z64+RkSpQ6WUty20jxFRSmRElBJ1PSKOj5cF9Rkbi47ajY6ODtT8YGysf25Eg3Reu82IKCWywKREXY2IEB1HPvWWsXBxdLnAStocTOpHRkQpkRFR+xkLF58RUUpkRJQSGRGlREbEIeacK58RUUpkgUmJnIMNGWNhdzkHkxIZEaVERsQhYCzsHSOilMiIKCWywKREzsEGlPOu/uAcTEpkRJQSGREHhJGwPxkRpURGRCmREVFKZERcwpx3Ldzo6Cg333zzM9ZH5FxnRkQpkQUmJXIOtsQYC5cW52BSIiOilMiIuAQYC5cuI6KUyIgoJTIiSomMiH3KeddgMCJKiSwwKdHAzMEmJiYYGxtLGbsbjISDqetzsPL4wi6kWLV0i0YyIkqJuvoEi/CJ1GYsHHxdLbBSMCJqqBgRpUQWmJTIOViXOe8aLs7BpERGRCmREbELjIXDy4goJTIiSomMiFIiI2IC51zax4goJbLApA5FxHkR8eeImIiIj3fSxznYIjEWDraIGAGuBjYBu4F7ImK8lPKHufo5B5M68wpgopTyV4CIuBF4MzBngRkRpc6sA3a1lnfXdXMyIh4CY+FAWR0R97aWt5RStrSWZ/oymXm/g9CIKDUmSykb5ti+G3hea3k9cP98gxoRpc7cA7wwIl4QEYcDlwDzPi2MiFIHSilPR8RlwHZgBLiulHLffP2MiAvkvGt4lVJuAW5ZSB8jopTIApMSOQfrgLFQB8s5mJTIiCglMiLOwEioxWJElBIZEaVERkQpkRGxct6lDEZEKZEFJiUa6jmYsVDZnINJiYyIUqKhjohStqGLiM671E1GRCmRBSYlGvg5mJFQvTR0czCpm4yIUqKBjIjGQvULI6KUyIgoJRrIiCj1i4GJiKOjo8691HeMiFIiC0xKFKXM+5/0Ld6bRTwC7Fxgt5NLKWuSxtbg6PQ6uQ1YPcOmyVLKeYu9U10tMGnYGBGlRBaYlMgCkxJZYFIiC0xKZIFJiSwwKZEFJiWywKREFpiUyAKTEllgUiILTErU1d9ozjQyMlKmpqaA5qsJ9v2SwGyvO23Xi/4QQJnndaftDrXPgf3795wx2cmvq3TbwBTY1NTU/q8jiFVj877utF2v+o+PN1fO2FjM+HqubYvZZ6b+fXrO+vJ3AY2IUiILTEpkgUmJLDApkQUmJbLApEQWmJTIApMSWWBSIgtMSmSBSYkG5quz/W76odfRd9N328AUmNSPjIhSIgtMSmSBSYksMCmRBSYlssCkRBaYlMgCkxJZYFIiC0xKZIFJiSwwKZEFJiWywKREFpiUyAKTEllgUiILTEpkgUmJLDApkQUmJbLApEQWmJTIApMSWWBSov8DTQkNp8MFPCgAAAAASUVORK5CYII=\n",
       "\"></div><div class=\"floating-box-fmp-f0673d3f-85b0-4abe-9cc6-7fe865f8ee9e\"><img src=\"data:image/png;base64,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\n",
       "\"></div><div class=\"floating-box-fmp-f0673d3f-85b0-4abe-9cc6-7fe865f8ee9e\"><img src=\"data:image/png;base64,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\n",
       "\"></div>"
      ],
      "text/plain": [
       "<IPython.core.display.HTML object>"
      ]
     },
     "metadata": {},
     "output_type": "display_data"
    },
    {
     "name": "stdout",
     "output_type": "stream",
     "text": [
      "#TP =  226 ;  #FN =  218 ;  #FP =  12\n",
      "P = 0.950;  R = 0.509;  F = 0.663\n"
     ]
    },
    {
     "data": {
      "text/html": [
       "\n",
       "        <style>\n",
       "        .floating-box-fmp-dafcfe6f-bf7f-4229-9c09-4c340586803b {\n",
       "        display: inline-block;\n",
       "        margin: 10px;\n",
       "        vertical-align: top;\n",
       "        }\n",
       "        </style>\n",
       "        <div class=\"floating-box-fmp-dafcfe6f-bf7f-4229-9c09-4c340586803b\"><img src=\"data:image/png;base64,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\n",
       "\"></div><div class=\"floating-box-fmp-dafcfe6f-bf7f-4229-9c09-4c340586803b\"><img src=\"data:image/png;base64,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\n",
       "\"></div><div class=\"floating-box-fmp-dafcfe6f-bf7f-4229-9c09-4c340586803b\"><img src=\"data:image/png;base64,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\n",
       "\"></div>"
      ],
      "text/plain": [
       "<IPython.core.display.HTML object>"
      ]
     },
     "metadata": {},
     "output_type": "display_data"
    },
    {
     "name": "stdout",
     "output_type": "stream",
     "text": [
      "#TP =  143 ;  #FN =  301 ;  #FP =  4\n",
      "P = 0.973;  R = 0.322;  F = 0.484\n"
     ]
    },
    {
     "data": {
      "text/html": [
       "\n",
       "        <style>\n",
       "        .floating-box-fmp-532fb7ce-7aae-4f8c-9def-4ef23ec334fd {\n",
       "        display: inline-block;\n",
       "        margin: 10px;\n",
       "        vertical-align: top;\n",
       "        }\n",
       "        </style>\n",
       "        <div class=\"floating-box-fmp-532fb7ce-7aae-4f8c-9def-4ef23ec334fd\"><img src=\"data:image/png;base64,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\n",
       "\"></div><div class=\"floating-box-fmp-532fb7ce-7aae-4f8c-9def-4ef23ec334fd\"><img src=\"data:image/png;base64,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\n",
       "\"></div><div class=\"floating-box-fmp-532fb7ce-7aae-4f8c-9def-4ef23ec334fd\"><img src=\"data:image/png;base64,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\n",
       "\"></div>"
      ],
      "text/plain": [
       "<IPython.core.display.HTML object>"
      ]
     },
     "metadata": {},
     "output_type": "display_data"
    },
    {
     "name": "stdout",
     "output_type": "stream",
     "text": [
      "#TP =  136 ;  #FN =  102 ;  #FP =  11\n",
      "P = 0.925;  R = 0.571;  F = 0.706\n"
     ]
    }
   ],
   "source": [
    "X_0 = convert_ann_to_seq_label(ann_Brahms[0])\n",
    "X_1 = convert_ann_to_seq_label(ann_Brahms[1])\n",
    "X_2 = convert_ann_to_seq_label(ann_Brahms[2])\n",
    "\n",
    "X_set = [X_0, X_1, X_2]\n",
    "combinations = [(0,1), (0,2), (1,2)]\n",
    "case_label = ['Coarse', 'Medium', 'Fine']\n",
    "\n",
    "for c in combinations:\n",
    "    X_ref = X_set[c[0]]\n",
    "    X_est = X_set[c[1]]\n",
    "    \n",
    "    float_box = libfmp.b.FloatingBox(align='top')\n",
    "    I_ref_pos = compare_pairwise(X_ref)\n",
    "    fig, ax = plot_matrix_label(I_ref_pos, X_ref, color_label=color_ann_Brahms, print_labels=False)\n",
    "    ax[0,1].set_title('Reference: '+case_label[c[0]])\n",
    "    float_box.add_fig(fig)\n",
    "\n",
    "    I_est_pos = compare_pairwise(X_est)\n",
    "    fig, ax = plot_matrix_label(I_est_pos, X_est, color_label=color_ann_Brahms, print_labels=False)\n",
    "    ax[0,1].set_title('Estimation: '+case_label[c[1]])\n",
    "    float_box.add_fig(fig)\n",
    "\n",
    "    P, R, F, num_TP, num_FN, num_FP, I_eval =  evaluate_pairwise(I_ref_pos, I_est_pos)\n",
    "    fig, im = plot_matrix_pairwise(I_eval)\n",
    "    plt.title('Pairwise TP, FN, FP')\n",
    "    float_box.add_fig(fig)\n",
    "\n",
    "    float_box.show()\n",
    "\n",
    "    print('#TP = ', num_TP, ';  #FN = ', num_FN, ';  #FP = ', num_FP)\n",
    "    print('P = %0.3f;  R = %0.3f;  F = %0.3f' % (P, R, F))"
   ]
  },
  {
   "cell_type": "markdown",
   "metadata": {},
   "source": [
    "## Boundary Evaluation\n",
    "\n",
    "The pairwise precision, recall, and F-measure are solely based on label information, whereas segment boundaries are treated implicitly by the presence of label changes. For other structure analysis tasks such as novelty-based segmentation, the precise detection of boundaries is the focus. To evaluate such procedures, one measures the deviation of the estimated segment boundaries from the boundaries of a reference annotation. To mathematically model this scenario, we introduce the notion of a **boundary annotation**, which is given by a sequence \n",
    "\n",
    "$$B=(b_1,b_2,\\ldots,b_K)$$ \n",
    "\n",
    "of increasing indices $b_k\\in[1:N]$, $k\\in[1:K]$. For example, such a boundary annotation may be derived from a structure annotation by taking the start and possibly the end indices of the annotated segments. In the following, let $B^\\mathrm{Ref}$ be the reference boundary annotation and $B^\\mathrm{Est}$ the estimated boundary annotation. There are many ways to compare $B^\\mathrm{Est}$ against $B^\\mathrm{Ref}$. For example, using $\\mathcal{I}=[1:N]$ as a set of items, one can define $\\mathcal{I}^\\mathrm{Ref}_+:=B^\\mathrm{Ref}$ and $\\mathcal{I}^\\mathrm{Est}_+:=B^\\mathrm{Est}$. From this, the precision, recall, and F-measure can be computed in the usual way. In this case, an estimated boundary is considered correct only if it agrees with a reference boundary. \n",
    "\n",
    "For certain applications small deviations in the boundary positions are acceptable. Therefore, one generalizes the previous measures by introducing a tolerance parameter $\\tau\\geq 0$ for the maximal acceptable deviation. An estimated boundary $b^\\mathrm{Est}\\in B^\\mathrm{Est}$ is then considered **correct** if it lies within the $\\tau$-neighborhood of a reference boundary $b^\\mathrm{Ref}\\in B^\\mathrm{Ref}$:\n",
    "\n",
    "\\begin{equation}\n",
    "   |b^\\mathrm{Est}-b^\\mathrm{Ref}|\\leq \\tau.\n",
    "\\end{equation}\n",
    "\n",
    "In this case, the sets $\\mathcal{I}^\\mathrm{Ref}_+$ and $\\mathcal{I}^\\mathrm{Est}_+$ can no longer be used for defining precision and recall. Instead, we generalize the notions of true positives, false positives, and false negatives. The **true positives** (TP) are defined to be the items $b^\\mathrm{Est}\\in B^\\mathrm{Est}$ that are correct, and the **false positives** (FP) are the items $b^\\mathrm{Est}\\in B^\\mathrm{Est}$ that are not correct. Furthermore, the **false negatives** (FN) are defined to be the items $b^\\mathrm{Ref}\\in B^\\mathrm{Ref}$ with no estimated item in a $\\tau$-neighborhood. Based on these definitions, one can compute precision, recall, and F-measure from $\\#\\mathrm{TP}$, $\\#\\mathrm{FP}$, and $\\#\\mathrm{FN}$ as before.\n",
    "\n",
    "However, this generalization needs to be taken with care. Because of the tolerance parameter $\\tau$, several estimated boundaries may be contained in the $\\tau$-neighborhood of a single reference boundary. Conversely, a single estimated boundary may be contained in the $\\tau$-neighborhood of several reference boundaries. As a result, one may obtain a perfect F-measure even in the case that the sets $B^\\mathrm{Est}$ and $B^\\mathrm{Ref}$ contain a different number of boundaries. From a semantic point of view, this is not meaningful. To avoid such anomalies, one may introduce an additional assumption in the definition of a boundary annotation by requiring\n",
    "\n",
    "\\begin{equation}\n",
    "   |b_{k+1}-b_k| > 2\\tau\n",
    "\\end{equation}\n",
    "\n",
    "for $k\\in[1:N-1]$. This is also a meaningful requirement from a musical point of view: a musical section (determined by two subsequent boundaries) should be much longer than the size of the tolerance parameter. The following figure illustrates the boundary evaluation measures by means of a simple example. \n",
    "\n",
    "<!--\n",
    "<ol type=\"a\">\n",
    "  <li type=\"a\">Reference boundary annotation.</li>\n",
    "  <li type=\"a\">Estimated boundary annotation.</li>\n",
    "  <li type=\"a\">Evaluation of (b) with regard to (a).</li>\n",
    "  <li type=\"a\">$\\tau$-Neighborhood of (a) using the tolerance parameter $\\tau=1$.</li>\n",
    "  <li type=\"a\">Evaluation of (b) with regard to (d).</li>\n",
    "  <li type=\"a\">$\\tau$-Neighborhood of (a) using the tolerance parameter $\\tau=2$.</li>\n",
    "  <li type=\"a\">Evaluation of (b) with regard to (f).</li>    \n",
    "</ol> \n",
    "-->\n",
    "\n",
    "<img src=\"../data/C4/FMP_C4_F31_text.png\" width=\"700px\" align=\"middle\" alt=\"FMP_C4_F31_text\">\n",
    "\n",
    "* Using the tolerance parameter $\\tau=0$ (see (c)), one obtains $\\#\\mathrm{TP}=1$, $\\#\\mathrm{FP}=3$, and $\\#\\mathrm{FN}=2$. This yields $\\mathrm{P}=1/4$, $\\mathrm{R}=1/3$, and $\\mathrm{F}=2/7$. \n",
    "\n",
    "* In the case $\\tau=1$ (see (e)), one obtains $\\#\\mathrm{TP}=2$, $\\#\\mathrm{FP}=2$, and $\\#\\mathrm{FN}=1$, which results in $\\mathrm{P}=1/2$, $\\mathrm{R}=2/3$, and $\\mathrm{F}=4/7$.\n",
    "\n",
    "* Finally, when using $\\tau=2$ (see (g)), one obtains a perfect F-measure. However, in this case the minimal distance condition is violated and the meaning of the evaluation measure is questionable."
   ]
  },
  {
   "cell_type": "code",
   "execution_count": 8,
   "metadata": {
    "execution": {
     "iopub.execute_input": "2023-01-13T13:32:32.686123Z",
     "iopub.status.busy": "2023-01-13T13:32:32.685930Z",
     "iopub.status.idle": "2023-01-13T13:32:33.307299Z",
     "shell.execute_reply": "2023-01-13T13:32:33.306610Z"
    }
   },
   "outputs": [
    {
     "name": "stdout",
     "output_type": "stream",
     "text": [
      "====== Evaluation using tau = 0 ======\n",
      "#TP =  1 ;  #FN =  2 ;  #FP =  3\n",
      "P = 0.250;  R = 0.333;  F = 0.286\n"
     ]
    },
    {
     "data": {
      "image/png": "[encoded data removed]",
      "text/plain": [
       "<Figure size 576x180 with 6 Axes>"
      ]
     },
     "metadata": {
      "needs_background": "light"
     },
     "output_type": "display_data"
    },
    {
     "name": "stdout",
     "output_type": "stream",
     "text": [
      "====== Evaluation using tau = 1 ======\n",
      "#TP =  2 ;  #FN =  1 ;  #FP =  2\n",
      "P = 0.500;  R = 0.667;  F = 0.571\n"
     ]
    },
    {
     "data": {
      "image/png": "[encoded data removed]",
      "text/plain": [
       "<Figure size 576x180 with 6 Axes>"
      ]
     },
     "metadata": {
      "needs_background": "light"
     },
     "output_type": "display_data"
    },
    {
     "name": "stdout",
     "output_type": "stream",
     "text": [
      "====== Evaluation using tau = 2 ======\n",
      "#TP =  4 ;  #FN =  0 ;  #FP =  0\n",
      "P = 1.000;  R = 1.000;  F = 1.000\n"
     ]
    },
    {
     "data": {
      "image/png": "[encoded data removed]",
      "text/plain": [
       "<Figure size 576x180 with 6 Axes>"
      ]
     },
     "metadata": {
      "needs_background": "light"
     },
     "output_type": "display_data"
    }
   ],
   "source": [
    "def evaluate_boundary(B_ref, B_est, tau):\n",
    "    \"\"\"Compute boundary evaluation measures [FMP, Section 4.5.4]\n",
    "\n",
    "    Notebook: C4/C4S5_Evaluation.ipynb\n",
    "\n",
    "    Args:\n",
    "        B_ref (np.ndarray): Reference boundary annotations\n",
    "        B_est (np.ndarray): Estimated boundary annotations\n",
    "        tau (int): Tolerance parameter.\n",
    "            Note: Condition ``|b_{k+1}-b_k|>2tau`` should be fulfilled [FMP, Eq. 4.58]\n",
    "\n",
    "    Returns:\n",
    "        P (float): Precision\n",
    "        R (float): Recall\n",
    "        F (float): F-measure\n",
    "        num_TP (int): Number of true positives\n",
    "        num_FN (int): Number of false negatives\n",
    "        num_FP (int): Number of false positives\n",
    "        B_tol (np.ndarray): Data structure encoding B_ref with tolerance\n",
    "        I_eval (np.ndarray): Data structure encoding TP, FN, FP\n",
    "    \"\"\"\n",
    "    N = len(B_ref)\n",
    "    num_TP = 0\n",
    "    num_FN = 0\n",
    "    num_FP = 0\n",
    "    B_tol = np.zeros((np.array([B_ref])).shape)\n",
    "    B_eval = np.zeros((np.array([B_ref])).shape)\n",
    "    for n in range(N):\n",
    "        min_idx = max(0, n - tau)\n",
    "        max_idx = min(N - 1, n + tau)\n",
    "        if B_ref[n] == 1:\n",
    "            B_tol[:, min_idx:max_idx+1] = 2\n",
    "            B_tol[:, n] = 1\n",
    "            temp = sum(B_est[min_idx:max_idx+1])\n",
    "            if temp > 0:\n",
    "                num_TP += temp\n",
    "            else:\n",
    "                num_FN += 1\n",
    "                B_eval[:, n] = 2\n",
    "        if B_est[n] == 1:\n",
    "            if sum(B_ref[min_idx:max_idx+1]) == 0:\n",
    "                num_FP += 1\n",
    "                B_eval[:, n] = 3\n",
    "            else:\n",
    "                B_eval[:, n] = 1\n",
    "    P, R, F = measure_prf(num_TP, num_FN, num_FP)\n",
    "    return P, R, F, num_TP, num_FN, num_FP, B_tol, B_eval\n",
    "\n",
    "def plot_boundary_measures(B_ref, B_est, tau, figsize=(8, 2.5)):\n",
    "    \"\"\"Plot B_ref and B_est (see :func:`libfmp.c4.c4s5_evaluation.evaluate_boundary`)\n",
    "\n",
    "    Notebook: C4/C4S5_Evaluation.ipynb\n",
    "\n",
    "    Args:\n",
    "        B_ref: Reference boundary annotations\n",
    "        B_est: Estimated boundary annotations\n",
    "        tau: Tolerance parameter\n",
    "        figsize: Figure size (Default value = (8, 2.5))\n",
    "\n",
    "    Returns:\n",
    "        fig: Handle for figure\n",
    "        ax: Handle for axes\n",
    "    \"\"\"\n",
    "    P, R, F, num_TP, num_FN, num_FP, B_tol, B_eval = evaluate_boundary(B_ref, B_est, tau)\n",
    "\n",
    "    colorList = np.array([[1., 1., 1., 1.], [0., 0., 0., 1.], [0.7, 0.7, 0.7, 1.]])\n",
    "    cmap_tol = ListedColormap(colorList)\n",
    "    colorList = np.array([[1, 1, 1, 1], [0, 0.7, 0, 1], [1, 0, 0, 1], [1, 0.5, 0.5, 1]])\n",
    "    cmap_measures = ListedColormap(colorList)\n",
    "\n",
    "    fig, ax = plt.subplots(3, 2, gridspec_kw={'width_ratios': [1, 0.02],\n",
    "                                              'wspace': 0.2, 'height_ratios': [1, 1, 1]},\n",
    "                           figsize=figsize)\n",
    "\n",
    "    im = ax[0, 0].imshow(B_tol, cmap=cmap_tol, interpolation='nearest')\n",
    "    ax[0, 0].set_title('Reference boundaries (with tolerance)')\n",
    "    im.set_clim(vmin=-0.5, vmax=2.5)\n",
    "    ax[0, 0].set_xticks([])\n",
    "    ax[0, 0].set_yticks([])\n",
    "    ax_cb = plt.colorbar(im, cax=ax[0, 1])\n",
    "    ax_cb.set_ticks(np.arange(0, 3, 1))\n",
    "    ax_cb.set_ticklabels(['', 'Positive', 'Tolerance'])\n",
    "\n",
    "    im = ax[1, 0].imshow(np.array([B_est]), cmap=cmap_tol, interpolation='nearest')\n",
    "    ax[1, 0].set_title('Estimated boundaries')\n",
    "    im.set_clim(vmin=-0.5, vmax=2.5)\n",
    "    ax[1, 0].set_xticks([])\n",
    "    ax[1, 0].set_yticks([])\n",
    "    ax_cb = plt.colorbar(im, cax=ax[1, 1])\n",
    "    ax_cb.set_ticks(np.arange(0, 3, 1))\n",
    "    ax_cb.set_ticklabels(['', 'Positive', 'Tolerance'])\n",
    "\n",
    "    im = ax[2, 0].imshow(B_eval, cmap=cmap_measures, interpolation='nearest')\n",
    "    ax[2, 0].set_title('Evaluation')\n",
    "    im.set_clim(vmin=-0.5, vmax=3.5)\n",
    "    ax[2, 0].set_xticks([])\n",
    "    ax[2, 0].set_yticks([])\n",
    "    ax_cb = plt.colorbar(im, cax=ax[2, 1])\n",
    "    ax_cb.set_ticks(np.arange(0, 4, 1))\n",
    "    ax_cb.set_ticklabels(['', 'TP', 'FN', 'FP'])\n",
    "    plt.show()\n",
    "    return fig, ax\n",
    "\n",
    "\n",
    "B_ref = [0, 0, 0, 1, 0, 0, 0, 0, 0, 0, 1, 0, 0, 0, 0, 0, 1, 0, 0, 0]\n",
    "B_est = [0, 0, 0, 0, 1, 0, 0, 0, 0, 0, 1, 0, 0, 0, 1, 0, 0, 0, 1, 0]\n",
    "tau_list = [0,1,2]\n",
    "\n",
    "for tau in tau_list:\n",
    "    print('====== Evaluation using tau = %d ======'%tau)\n",
    "    P, R, F, num_TP, num_FN, num_FP, B_tol, B_eval = evaluate_boundary(B_ref, B_est, tau)    \n",
    "    print('#TP = ', num_TP, ';  #FN = ', num_FN, ';  #FP = ', num_FP)\n",
    "    print('P = %0.3f;  R = %0.3f;  F = %0.3f' % (P, R, F))\n",
    "    fig, ax = plot_boundary_measures(B_ref, B_est, tau=tau)\n",
    "\n"
   ]
  },
  {
   "cell_type": "markdown",
   "metadata": {},
   "source": [
    "## Further Notes\n",
    "\n",
    "Many evaluation measures involve some sort of precision and recall rate. We have seen some typical examples in this notebook. Here are some further links:\n",
    "\n",
    "*  The [Python library `mir_eval`](https://craffel.github.io/mir_eval/) provides various standardized evaluation measures used in Music Information Retrieval (MIR). Additionally, the library also contains methods for the [visualization](../B/B_Annotations.html) and [sonification](../B/B_Sonification.html) of evaluation results.\n",
    "\n",
    "* Systematic evaluations of different structure analysis methods have been performed over recent years within the [Music Information Retrieval Evaluation eXchange (MIREX) campaign](https://www.music-ir.org/mirex/wiki/MIREX_HOME), which provides a framework for evaluating various kinds of music processing algorithms. On the MIREX websites, one finds not only the evaluation results of numerous procedures, but also links to information on datasets, annotations, evaluation measures, and relevant literature. \n"
   ]
  },
  {
   "cell_type": "markdown",
   "metadata": {},
   "source": [
    "<div class=\"alert\" style=\"background-color:#F5F5F5; border-color:#C8C8C8\">\n",
    "<strong>Acknowledgment:</strong> This notebook was created by <a href=\"https://www.audiolabs-erlangen.de/fau/professor/mueller\">Meinard Müller</a> and Tim Zunner.\n",
    "</div> "
   ]
  },
  {
   "cell_type": "markdown",
   "metadata": {},
   "source": [
    "<table style=\"border:none\">\n",
    "<tr style=\"border:none\">\n",
    "    <td style=\"min-width:50px; border:none\" bgcolor=\"white\"><a href=\"../C0/C0.html\"><img src=\"../data/C0_nav.png\" style=\"height:50px\" alt=\"C0\"></a></td>\n",
    "    <td style=\"min-width:50px; border:none\" bgcolor=\"white\"><a href=\"../C1/C1.html\"><img src=\"../data/C1_nav.png\" style=\"height:50px\" alt=\"C1\"></a></td>\n",
    "    <td style=\"min-width:50px; border:none\" bgcolor=\"white\"><a href=\"../C2/C2.html\"><img src=\"../data/C2_nav.png\" style=\"height:50px\" alt=\"C2\"></a></td>\n",
    "    <td style=\"min-width:50px; border:none\" bgcolor=\"white\"><a href=\"../C3/C3.html\"><img src=\"../data/C3_nav.png\" style=\"height:50px\" alt=\"C3\"></a></td>\n",
    "    <td style=\"min-width:50px; border:none\" bgcolor=\"white\"><a href=\"../C4/C4.html\"><img src=\"../data/C4_nav.png\" style=\"height:50px\" alt=\"C4\"></a></td>\n",
    "    <td style=\"min-width:50px; border:none\" bgcolor=\"white\"><a href=\"../C5/C5.html\"><img src=\"../data/C5_nav.png\" style=\"height:50px\" alt=\"C5\"></a></td>\n",
    "    <td style=\"min-width:50px; border:none\" bgcolor=\"white\"><a href=\"../C6/C6.html\"><img src=\"../data/C6_nav.png\" style=\"height:50px\" alt=\"C6\"></a></td>\n",
    "    <td style=\"min-width:50px; border:none\" bgcolor=\"white\"><a href=\"../C7/C7.html\"><img src=\"../data/C7_nav.png\" style=\"height:50px\" alt=\"C7\"></a></td>\n",
    "    <td style=\"min-width:50px; border:none\" bgcolor=\"white\"><a href=\"../C8/C8.html\"><img src=\"../data/C8_nav.png\" style=\"height:50px\" alt=\"C8\"></a></td>\n",
    "</tr>\n",
    "</table>"
   ]
  }
 ],
 "metadata": {
  "anaconda-cloud": {},
  "kernelspec": {
   "display_name": "Python 3",
   "language": "python",
   "name": "python3"
  },
  "language_info": {
   "codemirror_mode": {
    "name": "ipython",
    "version": 3
   },
   "file_extension": ".py",
   "mimetype": "text/x-python",
   "name": "python",
   "nbconvert_exporter": "python",
   "pygments_lexer": "ipython3",
   "version": "3.7.15"
  }
 },
 "nbformat": 4,
 "nbformat_minor": 1
}
