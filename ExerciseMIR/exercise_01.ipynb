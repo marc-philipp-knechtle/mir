{
 "cells": [
  {
   "cell_type": "markdown",
   "metadata": {},
   "source": [
    "## Lecture: Digitale Musikanalyse\n",
    "\n",
    "Christof Weiß, Computational Humanities group\n",
    "\n",
    "# Exercise 1 - Music Representations\n",
    "\n",
    "In this exercise, we apply our knowledge from the first lecture on music representations. We search for different types of music data on the web, conduct simple calculations on pitch and frequency, and write first functions in Python. The following FMP notebooks provide useful code snippets and can be helpful:\n",
    "* [Musical Notes and Pitches](../C1/C1S1_MusicalNotesPitches.ipynb)\n",
    "* [Frequency and Pitch](../C1/C1S3_FrequencyPitch.ipynb)\n",
    "* [Pythagorean Tuning](../C1/C1E10_PythagoreanTuning.ipynb)"
   ]
  },
  {
   "cell_type": "markdown",
   "metadata": {},
   "source": [
    "## 0. Preparation\n",
    "\n",
    "If not yet done, please create a subfolder named __\"ExerciseMIR\"__ within the __\"FMP\"__ folder. Download and save this notebook in the ExerciseDMA folder. Inside this folder, create another subfolder named __\"data\"__."
   ]
  },
  {
   "cell_type": "markdown",
   "metadata": {},
   "source": [
    "## 1. Music data search\n",
    "\n",
    "### 1.1 Search terms\n",
    "\n",
    "Let's work with Jupy(i)ter! Please search for freely available music data on Wolfgang Amadeus Mozart's \"Jupiter\" symphony. First, find out, which index and search terms could be suitable for finding and identifying this work. Then, find out which archives and websites provide freely available data on this musical piece."
   ]
  },
  {
   "cell_type": "markdown",
   "metadata": {},
   "source": [
    "### 1.2 Music representations\n",
    "\n",
    "Now, search the [Petrucci Music Library](https://www.imslp.org) (International Music Score Library Project, IMSLP) on the Mozart symphony. What types of music representations can you find, and in which data format (file endings) are those? How do the different versions of each representations differ from each other (e.g., different types of score)? Which kind of licenses are specified for using the different files?"
   ]
  },
  {
   "cell_type": "markdown",
   "metadata": {},
   "source": [
    "### 1.3 Metadata\n",
    "\n",
    "What kind of information (metadata) on the work can be found on the IMSLP?"
   ]
  },
  {
   "cell_type": "markdown",
   "metadata": {},
   "source": [
    "### 1.4 Audio\n",
    "\n",
    "Download one of the _Public Domain_ audio files from the IMSLP, rename it to _jupiter.mp3_. and move the file to the __data__ subfolder. Load the audio file into the notebook, retrieve the sample rate, and compute the full length in seconds (hint: the notebook [../B/B_PythonAudio.ipynb](../B/B_PythonAudio.ipynb) provides useful code). Extract the first 15 seconds and add a player for this excerpt here in the notebook."
   ]
  },
  {
   "cell_type": "code",
   "execution_count": null,
   "metadata": {},
   "outputs": [],
   "source": [
    "import os\n",
    "import numpy as np\n",
    "from matplotlib import pyplot as plt\n",
    "import IPython.display as ipd\n",
    "import librosa\n",
    "import pandas as pd\n",
    "%matplotlib inline\n",
    "\n",
    "### your code here\n",
    "\n",
    "# load audio\n",
    "filepath_mp3 = \n",
    "x, Fs = \n",
    "length_in_seconds = \n",
    "\n",
    "print('Sample rate: Fs =  %0.0f' % (Fs))\n",
    "print('Length: %1d:%02d minutes' % (length_in_seconds//60, np.remainder(length_in_seconds, 60)))\n",
    "\n",
    "# create audio player"
   ]
  },
  {
   "cell_type": "markdown",
   "metadata": {},
   "source": [
    "## 2. Pitches and center frequencies\n",
    "\n",
    "Using the [MIDI note numbers](../notebooks/C1/C1S2_MIDI.ipynb) as pitch identifiers, we can associate to each pitch $p\\in[0:127]$ a **center frequency** $F_\\mathrm{pitch}(p)$ (measured in Hz) defined as follows:\n",
    "\n",
    "$$\n",
    "F_\\mathrm{pitch}(p) = 2^{(p-69)/12} \\cdot 440\\mathrm{Hz}.\n",
    "$$\n",
    "\n",
    "#### 2.1 Frequency ratio of subsequent pitches\n",
    "\n",
    "Using this formula, compute the frequency ratio $F_\\mathrm{pitch}(p+1)/F_\\mathrm{pitch}(p)$ of two subsequent pitches $p+1$ and $p$. This can be done with __pen and paper!__\n",
    "\n",
    "\n",
    "#### 2.2 Frequency ratio of pitches with distance $k$\n",
    "\n",
    "How does the frequency $F_\\mathrm{pitch}(p+k)$ for some $k\\in\\mathbb{Z}$ relate to $F_\\mathrm{pitch}(p)$? \n",
    "\n",
    "\n",
    "#### 2.3 Semitone distance for arbitrary frequencies\n",
    "\n",
    "Derive a formula for the distance (in semitones) for two arbitrary frequencies $\\omega_1$ and $\\omega_2$.\n"
   ]
  },
  {
   "cell_type": "markdown",
   "metadata": {},
   "source": [
    "## 3. Frequencies, global tuning, and concert pitch\n",
    "\n",
    "In the formula for $F_\\mathrm{pitch}(p)$ given above, the MIDI note number $p=69$ serves as reference and corresponds to the __concert pitch__ $\\mathrm{A4}$. In __standard tuning__, this pitch has a frequency of $\\mathrm{440~Hz}$.\n",
    "\n",
    "#### 3.1 Computation of center frequencies\n",
    "\n",
    "Implement a function _F\\_pitch(p)_ for computing the center frequencies using the formula for $F_\\mathrm{pitch}(p)$ given above."
   ]
  },
  {
   "cell_type": "code",
   "execution_count": null,
   "metadata": {},
   "outputs": [],
   "source": [
    "def F_pitch(p):\n",
    "    \n",
    "    ### your code here\n",
    "    \n",
    "    return frequency"
   ]
  },
  {
   "cell_type": "markdown",
   "metadata": {},
   "source": [
    "#### 3.2 Compute center frequencies\n",
    "\n",
    "Use the function to print the center frequencies for the pitches $\\mathrm{G\\sharp}4$, $\\mathrm{A4}$, and $\\mathrm{B\\flat4}$."
   ]
  },
  {
   "cell_type": "code",
   "execution_count": null,
   "metadata": {},
   "outputs": [],
   "source": [
    "### your code here"
   ]
  },
  {
   "cell_type": "markdown",
   "metadata": {},
   "source": [
    "#### 3.3 Parameterization of the concert pitch\n",
    "\n",
    "Extend your function from above, now also parameterizing the concert pitch _F\\_pitch\\_tuned(p, F_concert)_."
   ]
  },
  {
   "cell_type": "code",
   "execution_count": null,
   "metadata": {},
   "outputs": [],
   "source": [
    "def F_pitch_tuned(p, F_concert):\n",
    "    \n",
    "    ### your code here\n",
    "    \n",
    "    return frequency"
   ]
  },
  {
   "cell_type": "markdown",
   "metadata": {},
   "source": [
    "#### 3.4 Compute center frequencies using different global tuning\n",
    "\n",
    "When performing Early Music (e.g., from the Baroque era) in __historical performance practice__, a lower global tuning is typically used. A common concert pitch is $\\mathrm{415~Hz}$.  \n",
    "Using the function _F\\_pitch\\_tuned(p, F\\_concert)_, print the center frequencies for the pitches $\\mathrm{G\\sharp}4$, $\\mathrm{A4}$, and $\\mathrm{B\\flat4}$ with a concert pitch of $\\mathrm{415~Hz}$."
   ]
  },
  {
   "cell_type": "code",
   "execution_count": null,
   "metadata": {},
   "outputs": [],
   "source": [
    "### your code here"
   ]
  },
  {
   "cell_type": "markdown",
   "metadata": {},
   "source": [
    "#### 3.5 Comparison\n",
    "\n",
    "Compare the frequency values from __3.2__ and __3.4__. What can you observe? Compute the frequency difference in __Cents__ between pitch $\\mathrm{A4}$ in historical tuning and $\\mathrm{G\\sharp}4$ in standard tuning. How does this compare to the frequency difference of a semitone?"
   ]
  },
  {
   "cell_type": "code",
   "execution_count": null,
   "metadata": {},
   "outputs": [],
   "source": [
    "### your code here\n",
    "\n",
    "diff_cents = \n",
    "print('Difference in Cents: %0.1f' % diff_cents)"
   ]
  },
  {
   "cell_type": "markdown",
   "metadata": {},
   "source": [
    "## EXTRA TASK: Syntonic Comma\n",
    "\n",
    "When using __pure intervals__ with mathematically exact frequency ratios, one can compute the frequencies of intervals in a different way than in the equal temperament used above. In the notebook [Pythagorean Tuning](../notebooks/C1/C1E10_PythagoreanTuning.ipynb), this is shown for the __Pythagorean Temperament__ based on the ratio of the __pure perfect fifths__ (3:2).\n",
    "\n",
    "#### 4.1 Interval computation in semitones\n",
    "\n",
    "What are the MIDI pitch numbers $p$ of the pitches $\\mathrm{C4}$ and $\\mathrm{E4}$? Compute and print their distance in semitones $\\Delta$. What is the specific interval formed by these two pitches?"
   ]
  },
  {
   "cell_type": "code",
   "execution_count": null,
   "metadata": {},
   "outputs": [],
   "source": [
    "### your code here"
   ]
  },
  {
   "cell_type": "markdown",
   "metadata": {},
   "source": [
    "#### 4.2 Interval computation from the harmonic series\n",
    "The pitches $\\mathrm{C4}$ and $\\mathrm{E4}$ also occur in the harmonic series constructed above the pitch $\\mathrm{C2}$ (see lecture slides). Which partial numbers do they have? What is the frequency relationship (in integers) between $\\mathrm{E4}$ and $\\mathrm{C2}$, and between $\\mathrm{E4}$ and $\\mathrm{C4}$?"
   ]
  },
  {
   "cell_type": "markdown",
   "metadata": {},
   "source": [
    "#### 4.3 Compute the syntonic comma\n",
    "\n",
    "In __Pythagorean tuning__, the frequency of $\\mathrm{E4}$ can be constructed by concatenating the frequency ratio of a pure perfect fifth (3:2) __four times__.  \n",
    "The __Pythagorean comma__ (see the notebook [Pythagorean Tuning](../notebooks/C1/C1E10_PythagoreanTuning.ipynb)) denotes the fine frequency difference between twelve pure perfect fifths and seven octaves. In a similar fashion, the __syntonic comma__ denotes the frequency difference between a __Pythagorean major third__ (four concatenated fifths) and a __pure major third__ (as occurring in the harmonic series). Compute the ratio and the difference in Cent for the syntonic comma by filling the code cell below."
   ]
  },
  {
   "cell_type": "code",
   "execution_count": null,
   "metadata": {},
   "outputs": [],
   "source": [
    "### your code here:\n",
    "\n",
    "# ratio of four concatenated pure perfect fifths:\n",
    "ratio_third_pyth = \n",
    "\n",
    "# integer ratio of pitches E4 and C2 in the harmonic series (pure third):\n",
    "ratio_third_pure = \n",
    "\n",
    "# syntonic comma: \"ratio of ratios\"\n",
    "ratio_syntonic_comma = \n",
    "\n",
    "# syntonic comma: difference in Cents:\n",
    "syntonic_comma_cents = \n",
    "\n",
    "print('Syntonic comma, frequency ratio: %0.3f' % ratio_syntonic_comma)\n",
    "print('Syntonic comma, difference in Cents: %0.1f' % syntonic_comma_cents)"
   ]
  },
  {
   "cell_type": "markdown",
   "metadata": {},
   "source": [
    "#### 4.4 Listen to two frequencies a syntonic comma apart\n",
    "\n",
    "Now, use all your implemented functions together to listen to the syntonic comma difference (you only have to execute the following cell if everything above is implemented correctly.)"
   ]
  },
  {
   "cell_type": "code",
   "execution_count": null,
   "metadata": {},
   "outputs": [],
   "source": [
    "def generate_sinusoid(duration=5, Fs=1000, amplitude=1, omega=1, phase=0):\n",
    "    num_samples = int(Fs * duration)\n",
    "    t = np.arange(num_samples) / Fs\n",
    "    x = amplitude * np.sin(2*np.pi*(omega*t-phase))\n",
    "    return x, t\n",
    "\n",
    "duration = 2\n",
    "Fs = 4000\n",
    "\n",
    "freq_C4 = ref = F_pitch(p=60)\n",
    "freq_C2 = ref = F_pitch(p=36)\n",
    "\n",
    "freq_E4_pyth = freq_C2 * ratio_third_pyth\n",
    "freq_E4_pure = freq_C2 * ratio_third_pure\n",
    "\n",
    "x_C4, t = generate_sinusoid(duration=duration, Fs=Fs, omega=freq_C4)\n",
    "x_E4_pyth, t = generate_sinusoid(duration=duration, Fs=Fs, omega=freq_E4_pyth)\n",
    "x_E4_pure, t = generate_sinusoid(duration=duration, Fs=Fs, omega=freq_E4_pure)\n",
    "x_E4_both = 0.5 * (x_E4_pyth+x_E4_pure)\n",
    "\n",
    "print('Pythagorean major third: f_C4 = %0.1f Hz, f_E4 = %0.1f Hz' % (freq_C4, freq_E4_pyth))\n",
    "ipd.display(ipd.Audio(data=(np.concatenate([x_C4, x_E4_pyth, 0.5*(x_C4+x_E4_pyth)]), np.concatenate([t, t, t])), rate=Fs))\n",
    "\n",
    "print('Pure major third: f_C4 = %0.1f Hz, f_E4 = %0.1f Hz' % (freq_C4, freq_E4_pure))\n",
    "ipd.display(ipd.Audio(data=(np.concatenate([x_C4, x_E4_pure, 0.5*(x_C4+x_E4_pure)]), np.concatenate([t, t, t])), rate=Fs))\n",
    "\n",
    "print('Both thirds simultaneously:')\n",
    "ipd.display(ipd.Audio(data=(np.concatenate([x_C4, x_E4_both, 0.5*(x_C4+x_E4_both)]), np.concatenate([t, t, t])), rate=Fs))\n",
    "\n",
    "print('E4 pythagorean (%0.1f Hz) vs. E4 harmonic (%0.1f Hz)' % (freq_E4_pyth, freq_E4_pure))\n",
    "ipd.display(ipd.Audio(data=(np.concatenate([x_E4_pyth, x_E4_pure, x_E4_both]), np.concatenate([t, t, t])), rate=Fs))"
   ]
  }
 ],
 "metadata": {
  "kernelspec": {
   "display_name": "Python 3",
   "language": "python",
   "name": "python3"
  },
  "language_info": {
   "codemirror_mode": {
    "name": "ipython",
    "version": 3
   },
   "file_extension": ".py",
   "mimetype": "text/x-python",
   "name": "python",
   "nbconvert_exporter": "python",
   "pygments_lexer": "ipython3",
   "version": "3.7.7"
  }
 },
 "nbformat": 4,
 "nbformat_minor": 4
}

