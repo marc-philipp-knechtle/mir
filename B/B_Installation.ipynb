{
 "cells": [
  {
   "cell_type": "markdown",
   "metadata": {},
   "source": [
    "<div>\n",
    "<a href=\"http://www.music-processing.de/\"><img style=\"float:left;\" src=\"../data/FMP_Teaser_Cover.png\" width=40% alt=\"FMP\"></a>\n",
    "<a href=\"https://www.audiolabs-erlangen.de\"><img src=\"../data/Logo_AudioLabs_Long.png\" width=59% style=\"float: right;\" alt=\"AudioLabs\"></a>\n",
    "</div>"
   ]
  },
  {
   "cell_type": "markdown",
   "metadata": {},
   "source": [
    "<div>\n",
    "<a href=\"../B/B.html\"><img src=\"../data/B_nav.png\" width=\"100\"  style=\"float:right;\" alt=\"B\"></a>\n",
    "<h1> Installation</h1> \n",
    "</div>\n",
    "\n",
    "<br/>\n",
    "\n",
    "<p>\n",
    "In this notebook, we summarize some of the most important concepts that are helpful for installing Python and Jupyter using a package management system. For a <a href=\"../B/B_GetStarted.html\">quick start</a> to install the environment underlying the FMP notebooks, please look at the <a href=\"../B/B_GetStarted.html\">FMP notebook on how to get started</a>.\n",
    "</p>  "
   ]
  },
  {
   "cell_type": "markdown",
   "metadata": {},
   "source": [
    "## Package Management System\n",
    "\n",
    "[Conda](https://conda.io/docs/) is an open source package management system and environment management system that runs on Windows, macOS and Linux. Conda quickly installs, runs and updates packages and their dependencies. Conda easily creates, saves, loads and switches between environments on a local computer. It was created for Python programs, but it can package and distribute software for any language. [Anaconda](https://anaconda.org/) is a Python distribution with a package management system optimized for Python. It includes conda as well as standard scientific Python packages such as SciPy, NumPy and many others. The following steps and commands may be useful to get started:\n",
    "\n",
    "* Installation of Anaconda or [Miniconda](https://conda.io/miniconda.html) (slim version of Anaconda). \n",
    "* On Windows: Start with opening the terminal `Anaconda Prompt`. <br> \n",
    "  On Linux/MacOS: You can use a usual shell.\n",
    "* Verify that conda is installed: `conda --version`\n",
    "* Update conda (it is recommended to always keep conda updated to the latest version): `conda update conda` \n",
    "* Default environment is named `base`\n",
    "* Create a new environment and install a package in it. For example:    \n",
    "  `conda create --name FMP python=3 numpy scipy matplotlib jupyter`  \n",
    "  creates a Python environment including the packages `numpy`, `scipy`,  `matplotlib`,  and `jupyter`\n",
    "* List of all environments: `conda env list`\n",
    "* Activate environment: `conda activate FMP`\n",
    "* Python version in current environment: `python --version`\n",
    "* List packages contained in environment: `conda list`\n",
    "* Remove environment: `conda env remove --name FMP`\n",
    "\n",
    "<div class=\"alert alert-block alert-warning\">For a more detailed summary of important conda commands, we refer to the <a href=\"https://docs.conda.io/projects/conda/en/latest/user-guide/cheatsheet.html\">Conda Cheat Sheet</a>.\n",
    "</div> "
   ]
  },
  {
   "cell_type": "markdown",
   "metadata": {},
   "source": [
    "## Python Environment Files\n",
    "\n",
    "To simplify the installation of Python and Jupyter, we recommend to create an environment from an `environment.yml` file, which exactly specifies the packages (along with specific versions). For example, such a file may look like this:\n",
    "\n",
    "<div class=\"alert alert-warning\" style=\"background-color:#eff0f1; border-color:#969696\">\n",
    "<code style=\"background-color: #eff0f1\">name: FMP\n",
    "channels:\n",
    "    - defaults\n",
    "    - conda-forge\n",
    "dependencies:\n",
    "  - python==3.7.*\n",
    "  - numpy==1.17.*\n",
    "  - ...\n",
    "</code>         \n",
    "</div>"
   ]
  },
  {
   "cell_type": "markdown",
   "metadata": {},
   "source": [
    "To create the environment named `FMP`, you need to call  \n",
    "`conda env create -f environment.yml` \n",
    "\n",
    "To update the environmen, you can call  \n",
    "`conda env update -f environment.yml`\n",
    "\n",
    "Sometimes it may be easier to first remove the environment and than install it again:   \n",
    "`conda env remove -n FMP`  \n",
    "`conda env create -f environment.yml` \n",
    "\n",
    "\n",
    "Once the environment has been installed, you need to activate it using:  \n",
    "`conda activate FMP` \n",
    "\n",
    "The current `FMP` environment can be listed as follows:"
   ]
  },
  {
   "cell_type": "code",
   "execution_count": 1,
   "metadata": {
    "execution": {
     "iopub.execute_input": "2023-01-13T13:39:56.449003Z",
     "iopub.status.busy": "2023-01-13T13:39:56.448670Z",
     "iopub.status.idle": "2023-01-13T13:39:56.455239Z",
     "shell.execute_reply": "2023-01-13T13:39:56.454498Z"
    }
   },
   "outputs": [
    {
     "name": "stdout",
     "output_type": "stream",
     "text": [
      "name: FMP\n",
      "\n",
      "channels:\n",
      "  - defaults\n",
      "  - conda-forge\n",
      "\n",
      "dependencies:\n",
      "  - python=3.7.*\n",
      "  - pip=19.2.*\n",
      "  - numpy=1.17.*\n",
      "  - scipy=1.3.*\n",
      "  - matplotlib=3.1.*\n",
      "  - ipython=7.8.*\n",
      "  - jupyter=1.0.*\n",
      "  - pandas=1.0.*\n",
      "  - scikit-learn=0.21.*\n",
      "  - ffmpeg=4.2.*\n",
      "  - numba=0.51.*\n",
      "  - jupyter_contrib_nbextensions=0.5.*\n",
      "  - jupyter_client=6.1.*\n",
      "  - pip:\n",
      "    - mir-eval==0.5.*\n",
      "    - nbstripout==0.3.*\n",
      "    - music21==5.7.*\n",
      "    - pretty_midi==0.2.*\n",
      "    - librosa==0.8.*\n",
      "    - soundfile==0.9.*\n",
      "    - resampy==0.2.*\n",
      "\n"
     ]
    }
   ],
   "source": [
    "import os\n",
    "\n",
    "fn = os.path.join('..', 'environment.yml')\n",
    "with open(fn, 'r', encoding='utf-8') as stream:\n",
    "    env = stream.read()\n",
    "\n",
    "print(env)"
   ]
  },
  {
   "cell_type": "markdown",
   "metadata": {},
   "source": [
    "## Spell Checker\n",
    "\n",
    "The package `jupyter_contrib_nbextensions` contains various extension including a spell checker for markdown cells. To activate the spell checker, one needs to type the following commands (when having activated the environment):\n",
    "\n",
    "```\n",
    "jupyter contrib nbextension install --user\n",
    "jupyter nbextension enable spellchecker/main\n",
    "```"
   ]
  },
  {
   "cell_type": "markdown",
   "metadata": {},
   "source": [
    "<div class=\"alert\" style=\"background-color:#F5F5F5; border-color:#C8C8C8\">\n",
    "<strong>Acknowledgment:</strong> This notebook was created by <a href=\"https://www.audiolabs-erlangen.de/fau/assistant/zalkow\">Frank Zalkow</a> and <a href=\"https://www.audiolabs-erlangen.de/fau/professor/mueller\">Meinard Müller</a>.\n",
    "</div>"
   ]
  },
  {
   "cell_type": "markdown",
   "metadata": {},
   "source": [
    "<table style=\"border:none\">\n",
    "<tr style=\"border:none\">\n",
    "    <td style=\"min-width:50px; border:none\" bgcolor=\"white\"><a href=\"../C0/C0.html\"><img src=\"../data/C0_nav.png\" style=\"height:50px\" alt=\"C0\"></a></td>\n",
    "    <td style=\"min-width:50px; border:none\" bgcolor=\"white\"><a href=\"../C1/C1.html\"><img src=\"../data/C1_nav.png\" style=\"height:50px\" alt=\"C1\"></a></td>\n",
    "    <td style=\"min-width:50px; border:none\" bgcolor=\"white\"><a href=\"../C2/C2.html\"><img src=\"../data/C2_nav.png\" style=\"height:50px\" alt=\"C2\"></a></td>\n",
    "    <td style=\"min-width:50px; border:none\" bgcolor=\"white\"><a href=\"../C3/C3.html\"><img src=\"../data/C3_nav.png\" style=\"height:50px\" alt=\"C3\"></a></td>\n",
    "    <td style=\"min-width:50px; border:none\" bgcolor=\"white\"><a href=\"../C4/C4.html\"><img src=\"../data/C4_nav.png\" style=\"height:50px\" alt=\"C4\"></a></td>\n",
    "    <td style=\"min-width:50px; border:none\" bgcolor=\"white\"><a href=\"../C5/C5.html\"><img src=\"../data/C5_nav.png\" style=\"height:50px\" alt=\"C5\"></a></td>\n",
    "    <td style=\"min-width:50px; border:none\" bgcolor=\"white\"><a href=\"../C6/C6.html\"><img src=\"../data/C6_nav.png\" style=\"height:50px\" alt=\"C6\"></a></td>\n",
    "    <td style=\"min-width:50px; border:none\" bgcolor=\"white\"><a href=\"../C7/C7.html\"><img src=\"../data/C7_nav.png\" style=\"height:50px\" alt=\"C7\"></a></td>\n",
    "    <td style=\"min-width:50px; border:none\" bgcolor=\"white\"><a href=\"../C8/C8.html\"><img src=\"../data/C8_nav.png\" style=\"height:50px\" alt=\"C8\"></a></td>\n",
    "</tr>\n",
    "</table>"
   ]
  }
 ],
 "metadata": {
  "kernelspec": {
   "display_name": "Python 3",
   "language": "python",
   "name": "python3"
  },
  "language_info": {
   "codemirror_mode": {
    "name": "ipython",
    "version": 3
   },
   "file_extension": ".py",
   "mimetype": "text/x-python",
   "name": "python",
   "nbconvert_exporter": "python",
   "pygments_lexer": "ipython3",
   "version": "3.7.15"
  }
 },
 "nbformat": 4,
 "nbformat_minor": 1
}
