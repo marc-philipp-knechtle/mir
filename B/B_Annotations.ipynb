{
 "cells": [
  {
   "cell_type": "markdown",
   "metadata": {},
   "source": [
    "<div>\n",
    "<a href=\"http://www.music-processing.de/\"><img style=\"float:left;\" src=\"../data/FMP_Teaser_Cover.png\" width=40% alt=\"FMP\"></a>\n",
    "<a href=\"https://www.audiolabs-erlangen.de\"><img src=\"../data/Logo_AudioLabs_Long.png\" width=59% style=\"float: right;\" alt=\"AudioLabs\"></a>\n",
    "</div>"
   ]
  },
  {
   "cell_type": "markdown",
   "metadata": {},
   "source": [
    "<div>\n",
    "<a href=\"../B/B.html\"><img src=\"../data/B_nav.png\" width=\"100\"  style=\"float:right;\" alt=\"B\"></a>\n",
    "<h1>Annotation Visualization</h1> \n",
    "</div>\n",
    "\n",
    "<br/>\n",
    "\n",
    "<p>\n",
    "In this notebook, we introduce some <code>libfmp</code>-functions that can be used for visualizing various kinds of annotations as encountered in music processing. In particular, we consider <strong>single-value annotations</strong> and <strong>segment annotations</strong> that consist of pairs of values.\n",
    "</p> "
   ]
  },
  {
   "cell_type": "markdown",
   "metadata": {},
   "source": [
    "## Conventions and Formats\n",
    "\n",
    "In the FMP notebooks, we encounter various types of annotations that can be expressed as list of **instances**. Typically, an instance consists of one or several **numerical values** (e.g., time positions, durations, frequency values, pitches, and so on) and a **label** given as text string. In this notebook, we consider **single-value annotations** (one numerical value and a label) and **segment annotations** (two numerical values and a label). For more complex examples, we refer to [FMP notebook on symbolic music formats](../C1/C1S2_CSV.html). To write and read annotations, we use a simple file format based on on **comma-separated values** (CSV). Each instance corresponds to a **row**, and the elements (i.e., numerical values and label) of each row are separated by a **semicolon** (`;`) rather than a comma. Furthermore, in the first row, we include a header line that specifies the meaning of the columns (i.e., the elements).\n",
    "\n",
    "To read, write, and modify CSV files, we often use the Python library [`pandas`](https://pandas.pydata.org/), which provides easy-to-use data structures and data analysis tools. Using the pandas framework, the content of a CSV file is stored in a two-dimensional tabular data structure with labeled axes (rows and columns) called `DataFrame`. This data structure can be accessed using attributes, see the [documentation for `pandas.DataFrame`](http://pandas.pydata.org/pandas-docs/stable/reference/api/pandas.DataFrame.html). For more details, we refer to the [FMP notebook on the CSV format](../C1/C1S2_CSV.html) and the functions `libfmp.b.read_csv` and `libfmp.b.write_csv`. In the following, we look at some simple examples that illustrate our conventions. "
   ]
  },
  {
   "cell_type": "markdown",
   "metadata": {},
   "source": [
    "## Single-Value Annotations\n",
    "\n",
    "We start with an annotation format, where each instance consists of a single **numerical value**. Such a value  may refer to a time position (specified in seconds or frame indices) or to a frequency value (specified in Hertz or frequency bin indices). Furthermore, the semantics of this numerical value is further specified by a **label**, which consists of a text string. We encounter a typical example for such an annotation type in the context of [tempo and beat tracking](../C6/C6.html), where the values are time positions (given in seconds) and the labels specify the musical meaning of the time position (e.g., indicating a measure, quarter note, or eighth note position). In the following code cell, we generate a toy example of such an annotation, which serves as our running example. The data structure consists of a list of tuples, each tuple consisting of a value and label. We also show how the data structure can be converted into a `DataFrame` (`df`) and `csv` file."
   ]
  },
  {
   "cell_type": "code",
   "execution_count": 1,
   "metadata": {
    "execution": {
     "iopub.execute_input": "2023-01-13T13:39:47.299572Z",
     "iopub.status.busy": "2023-01-13T13:39:47.299217Z",
     "iopub.status.idle": "2023-01-13T13:39:49.684869Z",
     "shell.execute_reply": "2023-01-13T13:39:49.684252Z"
    }
   },
   "outputs": [
    {
     "name": "stdout",
     "output_type": "stream",
     "text": [
      "=== Dummy annotation ===\n",
      "[(0.0, 'measure'), (0.0, 'quarter'), (0.0, 'eighth'), (0.25, 'eighth'), (0.5, 'quarter'), (0.5, 'eighth'), (0.75, 'eighth'), (1.0, 'measure'), (1.0, 'quarter'), (1.0, 'eighth'), (1.25, 'eighth'), (1.5, 'quarter'), (1.5, 'eighth'), (1.75, 'eighth'), (2.0, 'measure'), (2.0, 'quarter'), (2.0, 'eighth'), (2.25, 'eighth')]\n",
      "\n",
      "=== Dummy annotation in CSV format ===\n",
      "\"position\";\"label\"\n",
      "0.0;\"measure\"\n",
      "0.0;\"quarter\"\n",
      "0.0;\"eighth\"\n",
      "0.25;\"eighth\"\n",
      "0.5;\"quarter\"\n",
      "0.5;\"eighth\"\n",
      "0.75;\"eighth\"\n",
      "1.0;\"measure\"\n",
      "1.0;\"quarter\"\n",
      "1.0;\"eighth\"\n",
      "1.25;\"eighth\"\n",
      "1.5;\"quarter\"\n",
      "1.5;\"eighth\"\n",
      "1.75;\"eighth\"\n",
      "2.0;\"measure\"\n",
      "2.0;\"quarter\"\n",
      "2.0;\"eighth\"\n",
      "2.25;\"eighth\"\n",
      "\n",
      "=== Dummy annotation stored as DataFrame and rendered as HTML ===\n"
     ]
    },
    {
     "data": {
      "text/html": [
       "<table border=\"1\" class=\"dataframe\">\n",
       "  <thead>\n",
       "    <tr style=\"text-align: right;\">\n",
       "      <th></th>\n",
       "      <th>position</th>\n",
       "      <th>label</th>\n",
       "    </tr>\n",
       "  </thead>\n",
       "  <tbody>\n",
       "    <tr>\n",
       "      <th>0</th>\n",
       "      <td>0.00</td>\n",
       "      <td>measure</td>\n",
       "    </tr>\n",
       "    <tr>\n",
       "      <th>1</th>\n",
       "      <td>0.00</td>\n",
       "      <td>quarter</td>\n",
       "    </tr>\n",
       "    <tr>\n",
       "      <th>2</th>\n",
       "      <td>0.00</td>\n",
       "      <td>eighth</td>\n",
       "    </tr>\n",
       "    <tr>\n",
       "      <th>3</th>\n",
       "      <td>0.25</td>\n",
       "      <td>eighth</td>\n",
       "    </tr>\n",
       "    <tr>\n",
       "      <th>4</th>\n",
       "      <td>0.50</td>\n",
       "      <td>quarter</td>\n",
       "    </tr>\n",
       "    <tr>\n",
       "      <th>5</th>\n",
       "      <td>0.50</td>\n",
       "      <td>eighth</td>\n",
       "    </tr>\n",
       "    <tr>\n",
       "      <th>6</th>\n",
       "      <td>0.75</td>\n",
       "      <td>eighth</td>\n",
       "    </tr>\n",
       "    <tr>\n",
       "      <th>7</th>\n",
       "      <td>1.00</td>\n",
       "      <td>measure</td>\n",
       "    </tr>\n",
       "    <tr>\n",
       "      <th>8</th>\n",
       "      <td>1.00</td>\n",
       "      <td>quarter</td>\n",
       "    </tr>\n",
       "    <tr>\n",
       "      <th>9</th>\n",
       "      <td>1.00</td>\n",
       "      <td>eighth</td>\n",
       "    </tr>\n",
       "    <tr>\n",
       "      <th>10</th>\n",
       "      <td>1.25</td>\n",
       "      <td>eighth</td>\n",
       "    </tr>\n",
       "    <tr>\n",
       "      <th>11</th>\n",
       "      <td>1.50</td>\n",
       "      <td>quarter</td>\n",
       "    </tr>\n",
       "    <tr>\n",
       "      <th>12</th>\n",
       "      <td>1.50</td>\n",
       "      <td>eighth</td>\n",
       "    </tr>\n",
       "    <tr>\n",
       "      <th>13</th>\n",
       "      <td>1.75</td>\n",
       "      <td>eighth</td>\n",
       "    </tr>\n",
       "    <tr>\n",
       "      <th>14</th>\n",
       "      <td>2.00</td>\n",
       "      <td>measure</td>\n",
       "    </tr>\n",
       "    <tr>\n",
       "      <th>15</th>\n",
       "      <td>2.00</td>\n",
       "      <td>quarter</td>\n",
       "    </tr>\n",
       "    <tr>\n",
       "      <th>16</th>\n",
       "      <td>2.00</td>\n",
       "      <td>eighth</td>\n",
       "    </tr>\n",
       "    <tr>\n",
       "      <th>17</th>\n",
       "      <td>2.25</td>\n",
       "      <td>eighth</td>\n",
       "    </tr>\n",
       "  </tbody>\n",
       "</table>"
      ],
      "text/plain": [
       "<IPython.core.display.HTML object>"
      ]
     },
     "metadata": {},
     "output_type": "display_data"
    }
   ],
   "source": [
    "import os\n",
    "import sys\n",
    "import numpy as np\n",
    "import pandas as pd\n",
    "from matplotlib import pyplot as plt\n",
    "import IPython.display as ipd\n",
    "sys.path.append('..')\n",
    "import libfmp.b\n",
    "\n",
    "%matplotlib inline\n",
    "\n",
    "measures = np.arange(0, 2.5, 1.0)\n",
    "quarters = np.arange(0, 2.5, 0.5)\n",
    "eighths = np.arange(0, 2.5, 0.25)\n",
    "\n",
    "# Generate dummy annotations\n",
    "ann = sorted([(n, 'measure') for n in measures] +\n",
    "             [(n, 'quarter') for n in quarters] +\n",
    "             [(n, 'eighth') for n in eighths], key=lambda x: x[0])\n",
    "print('=== Dummy annotation ===')\n",
    "print(ann)\n",
    "\n",
    "# Convert to DataFrame and CSV format (as used for the FMP notebooks)\n",
    "ann_df = pd.DataFrame(ann, columns=['position', 'label'])\n",
    "ann_csv = ann_df.to_csv(sep=';', index=False, quoting=2)\n",
    "print('\\n=== Dummy annotation in CSV format ===')\n",
    "print(ann_csv)\n",
    "print('=== Dummy annotation stored as DataFrame and rendered as HTML ===')\n",
    "ipd.display(ipd.HTML(ann_df.to_html()))\n",
    "\n",
    "# Store and load annotation file \n",
    "#fn_out = os.path.join('..', 'output', 'B', 'FMP_annotation_position_dummy.csv')\n",
    "#ann_df.to_csv(fn_out, sep=';', index=False, quoting=2)\n",
    "#ann_df = pd.read_csv(fn_out, sep=';')\n",
    "#ann = [(position, label) for i, (position, label) in df.iterrows()]"
   ]
  },
  {
   "cell_type": "markdown",
   "metadata": {},
   "source": [
    "The function `libfmp.b.plot_annotation_line` allows for plotting single-value annotations. In the following code cell, we visualize the annotations within a single plot, where each label type is assigned to an individual plotting style."
   ]
  },
  {
   "cell_type": "code",
   "execution_count": 2,
   "metadata": {
    "execution": {
     "iopub.execute_input": "2023-01-13T13:39:49.721806Z",
     "iopub.status.busy": "2023-01-13T13:39:49.721565Z",
     "iopub.status.idle": "2023-01-13T13:39:49.880103Z",
     "shell.execute_reply": "2023-01-13T13:39:49.879342Z"
    }
   },
   "outputs": [
    {
     "data": {
      "image/png": "[encoded data removed]",
      "text/plain": [
       "<Figure size 432x72 with 1 Axes>"
      ]
     },
     "metadata": {
      "needs_background": "light"
     },
     "output_type": "display_data"
    }
   ],
   "source": [
    "label_keys = {'measure': {'linewidth': 6, 'color': 'k'},\n",
    "              'quarter': {'linewidth': 3, 'color': 'b'},\n",
    "              'eighth': {'linewidth': 1, 'color': 'r'}}\n",
    "        \n",
    "fig, ax = libfmp.b.plot_annotation_line(ann, label_keys=label_keys)\n",
    "ax.set_xlim([-1,3]);"
   ]
  },
  {
   "cell_type": "markdown",
   "metadata": {},
   "source": [
    "Next, we visualize the annotations horizontally aligned to a matrix. This mimics the situation, where the horizontal axis of the matrix has the semantics expressed by the annotations. "
   ]
  },
  {
   "cell_type": "code",
   "execution_count": 3,
   "metadata": {
    "execution": {
     "iopub.execute_input": "2023-01-13T13:39:49.883593Z",
     "iopub.status.busy": "2023-01-13T13:39:49.883302Z",
     "iopub.status.idle": "2023-01-13T13:39:50.274637Z",
     "shell.execute_reply": "2023-01-13T13:39:50.273933Z"
    }
   },
   "outputs": [
    {
     "data": {
      "image/png": "[encoded data removed]",
      "text/plain": [
       "<Figure size 432x216 with 2 Axes>"
      ]
     },
     "metadata": {
      "needs_background": "light"
     },
     "output_type": "display_data"
    }
   ],
   "source": [
    "matrix = np.random.random((16, 16))\n",
    "\n",
    "fig, ax = plt.subplots(2, 1, sharex=True, \n",
    "                       gridspec_kw={'height_ratios': [4, 1]}, figsize=(6, 3))\n",
    "\n",
    "ax[0].imshow(matrix, cmap='gray_r', aspect='auto', extent=[-1, 3, 0, 1], alpha=0.5)\n",
    "libfmp.b.plot_annotation_line(ann, ax=ax[1], label_keys=label_keys, time_min=-1, time_max=3)\n",
    "\n",
    "plt.tight_layout()"
   ]
  },
  {
   "cell_type": "markdown",
   "metadata": {},
   "source": [
    "Similarly, the annotations can be visualized vertically aligned to the matrix. "
   ]
  },
  {
   "cell_type": "code",
   "execution_count": 4,
   "metadata": {
    "execution": {
     "iopub.execute_input": "2023-01-13T13:39:50.277688Z",
     "iopub.status.busy": "2023-01-13T13:39:50.277499Z",
     "iopub.status.idle": "2023-01-13T13:39:50.486465Z",
     "shell.execute_reply": "2023-01-13T13:39:50.485935Z"
    }
   },
   "outputs": [
    {
     "data": {
      "image/png": "[encoded data removed]",
      "text/plain": [
       "<Figure size 432x216 with 2 Axes>"
      ]
     },
     "metadata": {
      "needs_background": "light"
     },
     "output_type": "display_data"
    }
   ],
   "source": [
    "fig, ax = plt.subplots(1, 2, sharey=True, \n",
    "                       gridspec_kw={'width_ratios': [1, 10]}, figsize=(6, 3))\n",
    "\n",
    "ax[1].imshow(matrix, cmap='gray_r', aspect='auto', extent=[0, 1, -1, 3], alpha=0.5)\n",
    "libfmp.b.plot_annotation_line(ann, ax=ax[0], label_keys=label_keys, \n",
    "                              direction='vertical', time_min=-1, time_max=3)\n",
    "\n",
    "plt.tight_layout()"
   ]
  },
  {
   "cell_type": "markdown",
   "metadata": {},
   "source": [
    "Similar to `libfmp.b.plot_annotation_line`, there also is the function `libfmp.b.plot_annotation_line_overlay`, which can be used to overlay a matrix with the annotations horizontally as well as vertically."
   ]
  },
  {
   "cell_type": "code",
   "execution_count": 5,
   "metadata": {
    "execution": {
     "iopub.execute_input": "2023-01-13T13:39:50.489469Z",
     "iopub.status.busy": "2023-01-13T13:39:50.489278Z",
     "iopub.status.idle": "2023-01-13T13:39:50.789148Z",
     "shell.execute_reply": "2023-01-13T13:39:50.788560Z"
    }
   },
   "outputs": [
    {
     "data": {
      "image/png": "[encoded data removed]",
      "text/plain": [
       "<Figure size 576x216 with 2 Axes>"
      ]
     },
     "metadata": {
      "needs_background": "light"
     },
     "output_type": "display_data"
    }
   ],
   "source": [
    "fig, ax = plt.subplots(1, 2, gridspec_kw={'width_ratios': [3, 2]}, figsize=(8, 3))\n",
    "\n",
    "ax[0].imshow(matrix, cmap='gray_r', aspect='auto', extent=[-1, 3, 0, 1], alpha=0.5)\n",
    "libfmp.b.plot_annotation_line_overlay(ann, ax=ax[0], label_keys=label_keys, time_min=-1, time_max=3)\n",
    "\n",
    "ax[1].imshow(matrix, cmap='gray_r', aspect='auto', extent=[0, 1, -1, 3], alpha=0.5)\n",
    "libfmp.b.plot_annotation_line_overlay(ann, ax=ax[1], direction='vertical',\n",
    "                              label_keys=label_keys, time_min=-1, time_max=3)\n",
    "plt.tight_layout()"
   ]
  },
  {
   "cell_type": "markdown",
   "metadata": {},
   "source": [
    "The function `libfmp.b.plot_annotation_multiline` allows for plotting single-value annotations, where each label type is not only assigned to an individual plotting style, but also to a spatially separate row (or column)."
   ]
  },
  {
   "cell_type": "code",
   "execution_count": 6,
   "metadata": {
    "execution": {
     "iopub.execute_input": "2023-01-13T13:39:50.792038Z",
     "iopub.status.busy": "2023-01-13T13:39:50.791841Z",
     "iopub.status.idle": "2023-01-13T13:39:50.906416Z",
     "shell.execute_reply": "2023-01-13T13:39:50.905477Z"
    }
   },
   "outputs": [
    {
     "data": {
      "image/png": "[encoded data removed]",
      "text/plain": [
       "<Figure size 432x108 with 1 Axes>"
      ]
     },
     "metadata": {
      "needs_background": "light"
     },
     "output_type": "display_data"
    }
   ],
   "source": [
    "fig, ax = libfmp.b.plot_annotation_multiline(ann, label_keys=label_keys, \n",
    "                                   sort_labels=['measure', 'quarter', 'eighth'])\n",
    "ax.set_xlim([-1,3]);"
   ]
  },
  {
   "cell_type": "markdown",
   "metadata": {},
   "source": [
    "The function `libfmp.b.plot_annotation_multiline` can be horizontally or vertically aligned to a given matrix, as demonstrated in the next code cell. In this example, we also show how two plots may be placed next to each other using the function [`libfmp.b.FloatingBox`](../B/B_PythonVisualization.html)."
   ]
  },
  {
   "cell_type": "code",
   "execution_count": 7,
   "metadata": {
    "execution": {
     "iopub.execute_input": "2023-01-13T13:39:50.909783Z",
     "iopub.status.busy": "2023-01-13T13:39:50.909554Z",
     "iopub.status.idle": "2023-01-13T13:39:51.111533Z",
     "shell.execute_reply": "2023-01-13T13:39:51.110952Z"
    }
   },
   "outputs": [
    {
     "data": {
      "text/html": [
       "\n",
       "        <style>\n",
       "        .floating-box-fmp-27f90741-e57f-41f2-96ac-32903ddf78b8 {\n",
       "        display: inline-block;\n",
       "        margin: 10px;\n",
       "        vertical-align: middle;\n",
       "        }\n",
       "        </style>\n",
       "        <div class=\"floating-box-fmp-27f90741-e57f-41f2-96ac-32903ddf78b8\"><img src=\"data:image/png;base64,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\n",
       "\"></div><div class=\"floating-box-fmp-27f90741-e57f-41f2-96ac-32903ddf78b8\"><img src=\"data:image/png;base64,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\n",
       "\"></div>"
      ],
      "text/plain": [
       "<IPython.core.display.HTML object>"
      ]
     },
     "metadata": {},
     "output_type": "display_data"
    }
   ],
   "source": [
    "float_box = libfmp.b.FloatingBox()\n",
    "\n",
    "fig, ax = plt.subplots(2, 1, sharex=True, \n",
    "                       gridspec_kw={'height_ratios': [2, 1]}, figsize=(4, 3))\n",
    "ax[0].imshow(matrix, cmap='gray_r', aspect='auto', \n",
    "             extent=[-1, 5, 0, 1], alpha=0.5)\n",
    "ax[0].set_xlim([-1, 3])\n",
    "libfmp.b.plot_annotation_multiline(ann, ax=ax[1], label_keys=label_keys,\n",
    "                                   sort_labels=['measure', 'quarter', 'eighth'],\n",
    "                                   time_min=-1, time_max=3)\n",
    "plt.tight_layout()\n",
    "float_box.add_fig(fig)\n",
    "\n",
    "fig, ax = plt.subplots(1, 2, sharey=True, gridspec_kw={'width_ratios': [2, 10]}, \n",
    "                       figsize=(4, 3))\n",
    "ax[1].imshow(matrix, cmap='gray_r', aspect='auto', extent=[0, 1, -1, 3], alpha=0.5)\n",
    "ax[1].set_ylim([-1, 5])\n",
    "libfmp.b.plot_annotation_multiline(ann, ax=ax[0], label_keys=label_keys, sort_labels=['measure', 'quarter', 'eighth'],\n",
    "                     direction='vertical', time_min=-1, time_max=3)\n",
    "plt.tight_layout()\n",
    "float_box.add_fig(fig)\n",
    "\n",
    "float_box.show()"
   ]
  },
  {
   "cell_type": "markdown",
   "metadata": {},
   "source": [
    "## Segment Annotations\n",
    "\n",
    "A second type of annotation we regularly encounter in the FMP notebooks are **segment annotations**, where each instance consists of two numerical values and a label. Typically, the two numerical values encode the start and end positions (given in seconds) of a time interval and the label assigns to this time interval a semantic category. For example, in [chord recognition](../C5/C5.html), the segments specify time intervals of a music recording and the labels specify musical [chords](../C5/C5S1_Chords.html) such as $\\mathrm{C}$-major or a $\\mathrm{E}^\\flat$-minor chord. Or, in [music structure analysis](../C4/C4.html), the segments encode [musical parts](../C4/C4S1_MusicStructureGeneral.html), which are typically labeled by capital letters $A,B,C, \\ldots$ in the order of their first occurrence. In the following code cell, we generate a toy example of such a segment annotation, which serves as our running example. "
   ]
  },
  {
   "cell_type": "code",
   "execution_count": 8,
   "metadata": {
    "execution": {
     "iopub.execute_input": "2023-01-13T13:39:51.114300Z",
     "iopub.status.busy": "2023-01-13T13:39:51.114097Z",
     "iopub.status.idle": "2023-01-13T13:39:51.122761Z",
     "shell.execute_reply": "2023-01-13T13:39:51.122005Z"
    }
   },
   "outputs": [
    {
     "name": "stdout",
     "output_type": "stream",
     "text": [
      "=== Dummy annotation ===\n",
      "[(0, 8, 'A'), (8, 16, 'A'), (16, 24, 'B'), (27, 33, 'C'), (33, 40, 'C'), (40, 48, 'B')]\n",
      "\n",
      "=== Dummy annotation in CSV format ===\n",
      "\"start\";\"end\";\"label\"\n",
      "0;8;\"A\"\n",
      "8;16;\"A\"\n",
      "16;24;\"B\"\n",
      "27;33;\"C\"\n",
      "33;40;\"C\"\n",
      "40;48;\"B\"\n",
      "\n",
      "=== Dummy annotation stored as DataFrame and rendered as HTML ===\n"
     ]
    },
    {
     "data": {
      "text/html": [
       "<table border=\"1\" class=\"dataframe\">\n",
       "  <thead>\n",
       "    <tr style=\"text-align: right;\">\n",
       "      <th></th>\n",
       "      <th>start</th>\n",
       "      <th>end</th>\n",
       "      <th>label</th>\n",
       "    </tr>\n",
       "  </thead>\n",
       "  <tbody>\n",
       "    <tr>\n",
       "      <th>0</th>\n",
       "      <td>0</td>\n",
       "      <td>8</td>\n",
       "      <td>A</td>\n",
       "    </tr>\n",
       "    <tr>\n",
       "      <th>1</th>\n",
       "      <td>8</td>\n",
       "      <td>16</td>\n",
       "      <td>A</td>\n",
       "    </tr>\n",
       "    <tr>\n",
       "      <th>2</th>\n",
       "      <td>16</td>\n",
       "      <td>24</td>\n",
       "      <td>B</td>\n",
       "    </tr>\n",
       "    <tr>\n",
       "      <th>3</th>\n",
       "      <td>27</td>\n",
       "      <td>33</td>\n",
       "      <td>C</td>\n",
       "    </tr>\n",
       "    <tr>\n",
       "      <th>4</th>\n",
       "      <td>33</td>\n",
       "      <td>40</td>\n",
       "      <td>C</td>\n",
       "    </tr>\n",
       "    <tr>\n",
       "      <th>5</th>\n",
       "      <td>40</td>\n",
       "      <td>48</td>\n",
       "      <td>B</td>\n",
       "    </tr>\n",
       "  </tbody>\n",
       "</table>"
      ],
      "text/plain": [
       "<IPython.core.display.HTML object>"
      ]
     },
     "metadata": {},
     "output_type": "display_data"
    }
   ],
   "source": [
    "ann = [(0, 8, 'A'), (8, 16, 'A'), (16, 24, 'B'), \n",
    "       (27, 33, 'C'), (33, 40, 'C'),  (40, 48, 'B')]\n",
    "print('=== Dummy annotation ===')\n",
    "print(ann)\n",
    "\n",
    "# Convert to DataFrame and CSV format (as used for the FMP notebooks)\n",
    "ann_df = pd.DataFrame(ann, columns=['start', 'end', 'label'])\n",
    "ann_csv = ann_df.to_csv(sep=';', index=False, quoting=2)\n",
    "print('\\n=== Dummy annotation in CSV format ===')\n",
    "print(ann_csv)\n",
    "print('=== Dummy annotation stored as DataFrame and rendered as HTML ===')\n",
    "ipd.display(ipd.HTML(ann_df.to_html()))\n",
    "\n",
    "# Store and load annotation file \n",
    "#fn_out = os.path.join('..', 'output', 'B', 'FMP_annotation_segment_dummy.csv')\n",
    "#ann_df.to_csv(fn_out, sep=';', index=False, quoting=2)\n",
    "#ann_df = pd.read_csv(fn_out, sep=';')\n",
    "#ann = [(start, end, label) for i, (start, end, label) in df.iterrows()]"
   ]
  },
  {
   "cell_type": "markdown",
   "metadata": {},
   "source": [
    "The function `libfmp.b.plot_segments` allows for plotting segment annotations, where each label type is assigned to an individual color. In the following code cell, we visualize the segment annotations with default colors and colors that are defined via a dictionary."
   ]
  },
  {
   "cell_type": "code",
   "execution_count": 9,
   "metadata": {
    "execution": {
     "iopub.execute_input": "2023-01-13T13:39:51.126125Z",
     "iopub.status.busy": "2023-01-13T13:39:51.125829Z",
     "iopub.status.idle": "2023-01-13T13:39:51.328172Z",
     "shell.execute_reply": "2023-01-13T13:39:51.327615Z"
    }
   },
   "outputs": [
    {
     "data": {
      "image/png": "[encoded data removed]",
      "text/plain": [
       "<Figure size 432x72 with 1 Axes>"
      ]
     },
     "metadata": {
      "needs_background": "light"
     },
     "output_type": "display_data"
    },
    {
     "data": {
      "image/png": "[encoded data removed]",
      "text/plain": [
       "<Figure size 432x72 with 1 Axes>"
      ]
     },
     "metadata": {
      "needs_background": "light"
     },
     "output_type": "display_data"
    }
   ],
   "source": [
    "fig, ax = libfmp.b.plot_segments(ann)\n",
    "\n",
    "color_ann = {'A': [1, 0, 0, 0.2], 'B': [0, 1, 0, 0.2], \n",
    "             'C': [0, 0, 1, 0.2], '': [1, 1, 1, 0.2]}\n",
    "\n",
    "fig, ax = libfmp.b.plot_segments(ann, colors = color_ann)"
   ]
  },
  {
   "cell_type": "markdown",
   "metadata": {},
   "source": [
    "Next, we visualize the segment annotations horizontally aligned to a matrix, once in vertical direction and once in horizontal direction."
   ]
  },
  {
   "cell_type": "code",
   "execution_count": 10,
   "metadata": {
    "execution": {
     "iopub.execute_input": "2023-01-13T13:39:51.330933Z",
     "iopub.status.busy": "2023-01-13T13:39:51.330727Z",
     "iopub.status.idle": "2023-01-13T13:39:51.518784Z",
     "shell.execute_reply": "2023-01-13T13:39:51.518229Z"
    }
   },
   "outputs": [
    {
     "data": {
      "text/html": [
       "\n",
       "        <style>\n",
       "        .floating-box-fmp-5dbcc257-899a-4faf-a089-34257f71cbb9 {\n",
       "        display: inline-block;\n",
       "        margin: 10px;\n",
       "        vertical-align: middle;\n",
       "        }\n",
       "        </style>\n",
       "        <div class=\"floating-box-fmp-5dbcc257-899a-4faf-a089-34257f71cbb9\"><img src=\"data:image/png;base64,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\n",
       "\"></div><div class=\"floating-box-fmp-5dbcc257-899a-4faf-a089-34257f71cbb9\"><img src=\"data:image/png;base64,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\n",
       "\"></div>"
      ],
      "text/plain": [
       "<IPython.core.display.HTML object>"
      ]
     },
     "metadata": {},
     "output_type": "display_data"
    }
   ],
   "source": [
    "float_box = libfmp.b.FloatingBox()\n",
    "\n",
    "# Horizontal alignment\n",
    "fig, ax = plt.subplots(2, 1, sharex=True, \n",
    "                       gridspec_kw={'height_ratios': [4, 1]}, figsize=(3.5, 2.5))\n",
    "ax[0].imshow(matrix, cmap='gray_r', aspect='auto', extent=[-2, 50, 0, 1])\n",
    "libfmp.b.plot_segments(ann, ax=ax[1], time_min=-2, time_max=50)\n",
    "plt.tight_layout()\n",
    "float_box.add_fig(fig)\n",
    "\n",
    "# Vertical alignment\n",
    "fig, ax = plt.subplots(1, 2, sharey=True, figsize=(3.5, 2.5),\n",
    "                       gridspec_kw={'width_ratios': [1, 10]})\n",
    "ax[1].imshow(matrix, cmap='gray_r', aspect='auto', extent=[0, 1, -2, 50])\n",
    "libfmp.b.plot_segments(ann, ax=ax[0], direction='vertical', time_min=-2, time_max=50)\n",
    "plt.tight_layout()\n",
    "float_box.add_fig(fig)\n",
    "\n",
    "float_box.show()"
   ]
  },
  {
   "cell_type": "markdown",
   "metadata": {},
   "source": [
    "One may also apply the alignment in both directions."
   ]
  },
  {
   "cell_type": "code",
   "execution_count": 11,
   "metadata": {
    "execution": {
     "iopub.execute_input": "2023-01-13T13:39:51.521647Z",
     "iopub.status.busy": "2023-01-13T13:39:51.521435Z",
     "iopub.status.idle": "2023-01-13T13:39:51.885529Z",
     "shell.execute_reply": "2023-01-13T13:39:51.884980Z"
    }
   },
   "outputs": [
    {
     "data": {
      "image/png": "[encoded data removed]",
      "text/plain": [
       "<Figure size 360x216 with 4 Axes>"
      ]
     },
     "metadata": {
      "needs_background": "light"
     },
     "output_type": "display_data"
    }
   ],
   "source": [
    "fig, ax = plt.subplots(2, 2,  figsize=(5, 3), sharex='col', sharey='row',\n",
    "                       gridspec_kw={'height_ratios': [6, 1], 'width_ratios': [1, 12]})\n",
    "ax[0, 1].imshow(matrix, cmap='gray_r', aspect='auto', extent=[-2, 50, -2, 50])\n",
    "libfmp.b.plot_segments(ann, ax=ax[1, 1], time_min=-2, time_max=50)\n",
    "libfmp.b.plot_segments(ann, ax=ax[0, 0], direction='vertical', time_min=-2, time_max=50)\n",
    "ax[1, 0].axis('off')\n",
    "plt.tight_layout()"
   ]
  },
  {
   "cell_type": "markdown",
   "metadata": {},
   "source": [
    "The function `libfmp.b.plot_segments_overlay` is provided for overlaying segment annotations with image plots. Among others, one can set a parameter (`alpha`) for controlling the transparency of the annotations' visualization and parameters (`print_labels`, `label_ticks`) for removing and placing labels. The next code cell shows some settings."
   ]
  },
  {
   "cell_type": "code",
   "execution_count": 12,
   "metadata": {
    "execution": {
     "iopub.execute_input": "2023-01-13T13:39:51.888489Z",
     "iopub.status.busy": "2023-01-13T13:39:51.888294Z",
     "iopub.status.idle": "2023-01-13T13:39:52.301583Z",
     "shell.execute_reply": "2023-01-13T13:39:52.300819Z"
    }
   },
   "outputs": [
    {
     "data": {
      "image/png": "[encoded data removed]",
      "text/plain": [
       "<Figure size 576x180 with 3 Axes>"
      ]
     },
     "metadata": {
      "needs_background": "light"
     },
     "output_type": "display_data"
    }
   ],
   "source": [
    "fig, ax = plt.subplots(1, 3, figsize=(8, 2.5))\n",
    "ax[0].imshow(matrix, cmap='gray_r', aspect='auto', extent=[-2, 50, 0, 1])\n",
    "libfmp.b.plot_segments_overlay(ann, ax=ax[0], time_min=-2, time_max=50, alpha=0.8)\n",
    "\n",
    "ax[1].imshow(matrix, cmap='gray_r', aspect='auto', extent=[-2, 50, 0, 1])\n",
    "libfmp.b.plot_segments_overlay(ann, ax=ax[1], time_min=-2, time_max=50,\n",
    "                               print_labels=False, alpha=0.3)\n",
    "\n",
    "ax[2].imshow(matrix, cmap='gray_r', aspect='auto', extent=[-2, 50, 0, 1])\n",
    "libfmp.b.plot_segments_overlay(ann, ax=ax[2], time_min=-2, time_max=50,\n",
    "                               label_ticks=True, alpha=0.5)\n",
    "plt.tight_layout()"
   ]
  },
  {
   "cell_type": "markdown",
   "metadata": {},
   "source": [
    "One may also overlay several horizontally and vertically aligned annotations. This is demonstrated by the next example."
   ]
  },
  {
   "cell_type": "code",
   "execution_count": 13,
   "metadata": {
    "execution": {
     "iopub.execute_input": "2023-01-13T13:39:52.304967Z",
     "iopub.status.busy": "2023-01-13T13:39:52.304691Z",
     "iopub.status.idle": "2023-01-13T13:39:52.556950Z",
     "shell.execute_reply": "2023-01-13T13:39:52.556343Z"
    }
   },
   "outputs": [
    {
     "data": {
      "image/png": "[encoded data removed]",
      "text/plain": [
       "<Figure size 432x288 with 4 Axes>"
      ]
     },
     "metadata": {
      "needs_background": "light"
     },
     "output_type": "display_data"
    }
   ],
   "source": [
    "ann_v = [(0.1, 0.2, 'X'), (0.2, 0.38, 'Y'), (0.4, 0.5, 'X'), (0.6, 0.7, 'X'), (0.7, 0.88, 'Y')]\n",
    "color_ann_v = {'X': [1, 0, 0, 1], 'Y': [1, 1, 0, 1], '': [1, 1, 1, 1]}\n",
    "\n",
    "fig, ax = plt.subplots(2, 2, figsize=(6, 4),\n",
    "                       gridspec_kw={'height_ratios': [8, 1], 'width_ratios': [1, 12]})\n",
    "ax[0,1].imshow(matrix, cmap='gray_r', aspect='auto', extent=[-10, 60, 0, 1])\n",
    "libfmp.b.plot_segments_overlay(ann, ax=ax[0, 1], time_min=-10, time_max=60, \n",
    "                               label_ticks=True, print_labels=False, alpha=0.6)\n",
    "libfmp.b.plot_segments_overlay(ann_v, colors=color_ann_v, ax=ax[0, 1], time_min=0, time_max=1,  \n",
    "                               direction='vertical', label_ticks=True, \n",
    "                               print_labels=False, alpha=0.4)\n",
    "libfmp.b.plot_segments(ann, ax=ax[1, 1], time_min=-10, time_max=60)\n",
    "libfmp.b.plot_segments(ann_v, ax=ax[0, 0], colors=color_ann_v, \n",
    "                       direction='vertical', time_min=0, time_max=1)\n",
    "ax[1,0].axis('off');"
   ]
  },
  {
   "cell_type": "markdown",
   "metadata": {},
   "source": [
    "<div class=\"alert\" style=\"background-color:#F5F5F5; border-color:#C8C8C8\">\n",
    "<strong>Acknowledgment:</strong> This notebook was created by <a href=\"https://www.audiolabs-erlangen.de/fau/assistant/zalkow\">Frank Zalkow</a> and <a href=\"https://www.audiolabs-erlangen.de/fau/professor/mueller\">Meinard Müller</a>.\n",
    "</div>"
   ]
  },
  {
   "cell_type": "markdown",
   "metadata": {},
   "source": [
    "<table style=\"border:none\">\n",
    "<tr style=\"border:none\">\n",
    "    <td style=\"min-width:50px; border:none\" bgcolor=\"white\"><a href=\"../C0/C0.html\"><img src=\"../data/C0_nav.png\" style=\"height:50px\" alt=\"C0\"></a></td>\n",
    "    <td style=\"min-width:50px; border:none\" bgcolor=\"white\"><a href=\"../C1/C1.html\"><img src=\"../data/C1_nav.png\" style=\"height:50px\" alt=\"C1\"></a></td>\n",
    "    <td style=\"min-width:50px; border:none\" bgcolor=\"white\"><a href=\"../C2/C2.html\"><img src=\"../data/C2_nav.png\" style=\"height:50px\" alt=\"C2\"></a></td>\n",
    "    <td style=\"min-width:50px; border:none\" bgcolor=\"white\"><a href=\"../C3/C3.html\"><img src=\"../data/C3_nav.png\" style=\"height:50px\" alt=\"C3\"></a></td>\n",
    "    <td style=\"min-width:50px; border:none\" bgcolor=\"white\"><a href=\"../C4/C4.html\"><img src=\"../data/C4_nav.png\" style=\"height:50px\" alt=\"C4\"></a></td>\n",
    "    <td style=\"min-width:50px; border:none\" bgcolor=\"white\"><a href=\"../C5/C5.html\"><img src=\"../data/C5_nav.png\" style=\"height:50px\" alt=\"C5\"></a></td>\n",
    "    <td style=\"min-width:50px; border:none\" bgcolor=\"white\"><a href=\"../C6/C6.html\"><img src=\"../data/C6_nav.png\" style=\"height:50px\" alt=\"C6\"></a></td>\n",
    "    <td style=\"min-width:50px; border:none\" bgcolor=\"white\"><a href=\"../C7/C7.html\"><img src=\"../data/C7_nav.png\" style=\"height:50px\" alt=\"C7\"></a></td>\n",
    "    <td style=\"min-width:50px; border:none\" bgcolor=\"white\"><a href=\"../C8/C8.html\"><img src=\"../data/C8_nav.png\" style=\"height:50px\" alt=\"C8\"></a></td>\n",
    "</tr>\n",
    "</table>"
   ]
  }
 ],
 "metadata": {
  "kernelspec": {
   "display_name": "Python 3",
   "language": "python",
   "name": "python3"
  },
  "language_info": {
   "codemirror_mode": {
    "name": "ipython",
    "version": 3
   },
   "file_extension": ".py",
   "mimetype": "text/x-python",
   "name": "python",
   "nbconvert_exporter": "python",
   "pygments_lexer": "ipython3",
   "version": "3.7.15"
  }
 },
 "nbformat": 4,
 "nbformat_minor": 2
}
