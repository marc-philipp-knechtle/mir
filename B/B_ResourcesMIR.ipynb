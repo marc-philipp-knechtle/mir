{
 "cells": [
  {
   "cell_type": "markdown",
   "metadata": {},
   "source": [
    "<div>\n",
    "<a href=\"http://www.music-processing.de/\"><img style=\"float:left;\" src=\"../data/FMP_Teaser_Cover.png\" width=40% alt=\"FMP\"></a>\n",
    "<a href=\"https://www.audiolabs-erlangen.de\"><img src=\"../data/Logo_AudioLabs_Long.png\" width=59% style=\"float: right;\" alt=\"AudioLabs\"></a>\n",
    "</div>"
   ]
  },
  {
   "cell_type": "markdown",
   "metadata": {},
   "source": [
    "<div>\n",
    "<a href=\"../B/B.html\"><img src=\"../data/B_nav.png\" width=\"100\"  style=\"float:right;\" alt=\"C2\"></a>\n",
    "<h1>MIR Resources</h1> \n",
    "</div>\n",
    "\n",
    "<br/>\n",
    "\n",
    "<p>\n",
    "This notebook contains links to literature, toolboxes, and other resources that may be useful for research in music processing and music information retrieval (MIR). <strong>We would like to point out that the information provided on this website does not claim to be comprehensive or up-to-date.</strong> The selection of information merely reflects the authors' personal taste.\n",
    "</p> "
   ]
  },
  {
   "cell_type": "markdown",
   "metadata": {},
   "source": [
    "## ISMIR\n",
    "\n",
    "**Music information retrieval (MIR)** is a research area that systematically deals with processing, searching, organizing, and accessing music-related data. MIR is an interdisciplinary field which is related to various disciplines including signal processing, information retrieval, machine learning, multimedia engineering, library science, musicology, and digital humanities. The [**International Society for Music Information Retrieval (ISMIR)**](https://www.ismir.net/) is a non-profit organization, which represents the MIR research community. As one main task, the society oversees the organization of the annual ISMIR conference. The [proceedings of ISMIR conferences](https://www.ismir.net/conferences/) are an essential source of scientific contributions in music processing and MIR.\n",
    "\n",
    "The [**ISMIR website**](https://www.ismir.net/) not only contains information on the society, but also provides links to various resources including:\n",
    "\n",
    "* [**Scientific proceedings:**](https://www.ismir.net/conferences/) Collection of open-access research articles constituting the state of the art in MIR. \n",
    "* [**Datasets:**](https://www.ismir.net/resources/datasets/) List of datasets closely related to MIR.\n",
    "* [**Tutorials:**](https://www.ismir.net/resources/tutorials/) List of tutorials presented at previous ISMIR conferences.\n",
    "* [**Software tools:**](https://www.ismir.net/resources/software-tools/) List of MIR-related software.\n",
    "* [**Women in Music Information Retrieval (WiMIR):**](https://www.ismir.net/wimir/) Initiative dedicated to promoting the role of women in the MIR field. The [WiMIR Blog](https://wimir.wordpress.com/) provides information on activities such as mentoring programs and workshops."
   ]
  },
  {
   "cell_type": "markdown",
   "metadata": {},
   "source": [
    "## Toolboxes\n",
    "\n",
    "There are many different well-documented toolboxes that provide modular source code for processing and analyzing music and audio signals. Here is a (non-comprehensive) list of such toolboxes.\n",
    "\n",
    "* [**ACA-Code**](https://github.com/alexanderlerch/ACA-Code) provides MATALB scripts for hands-on experience in audio and music processing accompanying the book [**An Introduction to Audio Content Analysis**](https://www.AudioContentAnalysis.org).  \n",
    "\n",
    "* The [**Audio Degradation Toolbox**](https://code.soundsoftware.ac.uk/projects/audio-degradation-toolbox) consists of MATLAB code for the controlled degradation of audio signals, and for the adaptation of ground-truth to the degraded audio.  \n",
    "\n",
    "* The [**Chroma Toolbox**](https://www.audiolabs-erlangen.de/resources/MIR/chromatoolbox) contains MATLAB implementations for extracting various types of pitch-based and chroma-based audio features. \n",
    "\n",
    "* The [**Constant-Q Toolbox**](https://code.soundsoftware.ac.uk/projects/constant-q-toolbox) is a MATLAB toolbox for efficient perfect reconstruction time–frequency transforms with log-frequency resolution. \n",
    "\n",
    "* [**Essentia**](https://essentia.upf.edu) is an open-source library including tools for audio and music analysis, description and synthesis.  \n",
    "\n",
    "* [**JAMS**](https://github.com/marl/jams) provides JSON annotated music specification for reproducible MIR research. \n",
    "\n",
    "* [**LibROSA**](https://librosa.org/doc) is a Python package for music and audio analysis providing building blocks necessary to create MIR systems. \n",
    "\n",
    "* The [**MIRtoolbox**](https://www.jyu.fi/hytk/fi/laitokset/mutku/en/research/materials/mirtoolbox) offers an integrated set of functions written in MATLAB, dedicated to the extraction from audio files of musical features such as tonality, rhythm, and structures. \n",
    "\n",
    "* The [**MSAF toolbox**](https://github.com/urinieto/msaf) is a Python package for the analysis of music structural segmentation algorithms.  \n",
    "\n",
    "* [**Madmom**](https://madmom.readthedocs.io/) is an audio signal processing library written in Python with a strong focus on MIR tasks. \n",
    "\n",
    "* [**Marsyas**](http://marsyas.info/) (Music Analysis, Retrieval and Synthesis for Audio Signals) is an open source software framework for audio processing with specific emphasis on Music Information Retrieval applications. \n",
    "\n",
    "* [**Muda**](https://muda.readthedocs.io) contains tools for annotation-aware musical data augmentation. \n",
    "\n",
    "* The [**NMF Toolbox**](https://www.audiolabs-erlangen.de/resources/MIR/SMtoolbox) provides implementations of conceptually distinct variants of Nonnegative matrix factorization (NMF). The toolbox is available both for MATLAB and Python. Additionally, it contains unit tests to ensure that the results for both programming languages are consistent. A small dataset of example audio files is provided for demonstration purposes.\n",
    "\n",
    "* The [**SM Toolbox**](https://www.audiolabs-erlangen.de/resources/MIR/SMtoolbox) contains MATLAB implementations for computing and enhancing similarity matrices in various ways. \n",
    "\n",
    "* The [**TSM Toolbox**](https://www.audiolabs-erlangen.de/resources/MIR/TSMtoolbox) provides MATLAB implementations of various classical time-scale modification (TSM) algorithms like OLA, WSOLA, and the phase vocoder.  \n",
    "\n",
    "* The [**Tempogram Toolbox**](https://www.audiolabs-erlangen.de/resources/MIR/tempogramtoolbox) provides MATLAB implementations for extracting various types of proposed tempo and pulse related audio representations \n",
    "\n",
    "* [**jAudio**](http://jaudio.sourceforge.net/) is a Digital Signal Processing project built to provide an easy-to-use program for audio feature extraction. \n",
    "\n",
    "* [**mir\\_eval**](https://github.com/craffel/mir_eval) is a Python library for computing common heuristic accuracy scores for various music/audio information retrieval/signal processing tasks. \n",
    "\n",
    "* [**musicinformationretrieval.com**](https://musicinformationretrieval.com/) is a collection of instructional materials (including Python code) for MIR."
   ]
  },
  {
   "cell_type": "markdown",
   "metadata": {},
   "source": [
    "## Books \n",
    "\n",
    "Here are some MIR-related books listed in alphabetical order of the first author's name.\n",
    "\n",
    "* Òscar Celma. **Music Recommendation and Discovery: The Long Tail, Long Fail, and Long Play in the Digital Music Space.** Springer, 2010.\n",
    "\n",
    "* Anssi P. Klapuri and Manuel Davy (editors). **Signal Processing Methods for Music Transcription.** Springer, 2006.\n",
    "\n",
    "* Peter Knees and Markus Schedl. **Music Similarity and Retrieval: An Introduction to Audio- and Web-based Strategies.** Springer, 2016\n",
    "\n",
    "* Alexander Lerch. **An Introduction to Audio Content Analysis.** Wiley, 2012.\n",
    "\n",
    "* Tao Li, Mitsunori Ogihara, George Tzanetakis (editors). **Music Data Mining.** Chapman & Hall/CRC Data Mining and Knowledge Discovery Series, 2011.\n",
    "\n",
    "* Meinard Müller. **Fundamentals of Music Processing.** Springer, 2015.\n",
    "\n",
    "* Meinard Müller. **Information Retrieval for Music and Motion.** Springer, 2007.\n",
    "\n",
    "* William Arthur Sethares. **Rhythm and Transforms.** Springer, 2007.\n",
    "\n",
    "* William Arthur Sethares. **Tuning, Timbre, Spectrum, Scale.** Springer, 1998.\n",
    "\n",
    "* Claus Weihs, Dietmar Jannach, Igor Vatolkin, Guenter Rudolph (editors). **Music Data Analysis: Foundations and Applications.** Chapman & Hall/CRC Computer Science & Data Analysis, 2016"
   ]
  },
  {
   "cell_type": "markdown",
   "metadata": {},
   "source": [
    "## Conferences and Journals\n",
    "\n",
    "<h3 id=\"conferences\">Conferences</h3>\n",
    "<ul>\n",
    "  <li><a href=\"https://www.ismir.net/\">International Society for Music Information Retrieval Conference (ISMIR) </a> \n",
    "      <a href=\"https://dblp.uni-trier.de/db/conf/ismir/\"><br>[DBLP]</a></li>\n",
    "  <li><a href=\"https://ieeexplore.ieee.org/xpl/conhome/8450881/proceeding\">IEEE International Conference on Acoustics, Speech, and Signal Processing (ICASSP)</a>\n",
    "    <a href=\"https://dblp.uni-trier.de/db/conf/icassp/\"><br>[DBLP]</a></li>    \n",
    "  <li><a href=\"http://www.computermusic.org/\">International Computer Music Association Conference (ICMC)</a>\n",
    "    <a href=\"https://dblp.uni-trier.de/db/conf/icmc/\"><br>[DBLP]</a></li>\n",
    "  <li><a href=\"http://smcnetwork.org/\">Sound and Music Computing (SMC)</a></li>     \n",
    "  <li><a href=\"http://www.dafx.de/\">Digital Audio Effects Conference (DAFx)</a>\n",
    "    <a href=\"https://dblp.uni-trier.de/db/conf/dafx/\"><br>[DBLP]</a></li>  \n",
    "  <li><a href=\"https://link.springer.com/conference/cmmr\">International Symposium on Computer Music Multidisciplinary Research (CMMR)</a>\n",
    "    <a href=\"https://dblp.uni-trier.de/db/conf/cmmr/\"><br>[DBLP]</a></li>        \n",
    "</ul>\n",
    "\n",
    "<h3 id=\"journals\">Journals</h3>\n",
    "<ul>\n",
    "  <li><a href=\"https://transactions.ismir.net/\">Transactions of the International Society for Music Information Retrieval (TISMIR)</a></li> \n",
    "  <li><a href=\"http://ieeexplore.ieee.org/xpl/RecentIssue.jsp?punumber=6570655\">IEEE / ACM Transactions on Audio, Speech, and Language Processing (TASLP)</a>\n",
    "    <a href=\"https://dblp.uni-trier.de/db/journals/taslp/\"><br>[DBLP]</a></li> \n",
    "  <li><a href=\"https://signalprocessingsociety.org/publications-resources/ieee-transactions-multimedia\">IEEE Transactions on Multimedia (TMM)</a>\n",
    "    <a href=\"https://dblp.uni-trier.de/db/journals/tmm/\"><br>[DBLP]</a></li>     \n",
    "  <li><a href=\"https://asmp-eurasipjournals.springeropen.com/\">EURASIP Journal on Audio, Speech, and Music Processing</a>\n",
    "    <a href=\"https://dblp.uni-trier.de/db/journals/ejasmp/\"><br>[DBLP]</a></li>\n",
    "  <li><a href=\"http://www.tandfonline.com/toc/nnmr20/current\">Journal of New Music Research</a></li>    \n",
    "  <li><a href=\"http://www.aes.org/journal/\">Journal of the Audio Engineering Society (AES)</a></li>     \n",
    "  <li><a href=\"https://asa.scitation.org/journal/jas\">The Journal of the Acoustical Society of America (JASA)</a></li>       \n",
    "  <li><a href=\"http://www.acta-acustica-united-with-acustica.com/\">Acta Acustica united with Acustica</a></li>           \n",
    "  <li><a href=\"https://journals.sagepub.com/home/msx\"> Musicae Scientiae</a></li>     \n",
    "  <!--<li><a href=\"http://ucpressjournals.com/journal.php?j=mp\">Music Perception</a></li>  -->   \n",
    "</ul>\n",
    "\n",
    "\n",
    "\n"
   ]
  },
  {
   "cell_type": "markdown",
   "metadata": {},
   "source": [
    "<div class=\"alert\" style=\"background-color:#F5F5F5; border-color:#C8C8C8\">\n",
    "<strong>Acknowledgment:</strong> This notebook was created by <a href=\"https://www.audiolabs-erlangen.de/fau/professor/mueller\">Meinard Müller</a>.\n",
    "</div>"
   ]
  },
  {
   "cell_type": "markdown",
   "metadata": {},
   "source": [
    "<table style=\"border:none\">\n",
    "<tr style=\"border:none\">\n",
    "    <td style=\"min-width:50px; border:none\" bgcolor=\"white\"><a href=\"../C0/C0.html\"><img src=\"../data/C0_nav.png\" style=\"height:50px\" alt=\"C0\"></a></td>\n",
    "    <td style=\"min-width:50px; border:none\" bgcolor=\"white\"><a href=\"../C1/C1.html\"><img src=\"../data/C1_nav.png\" style=\"height:50px\" alt=\"C1\"></a></td>\n",
    "    <td style=\"min-width:50px; border:none\" bgcolor=\"white\"><a href=\"../C2/C2.html\"><img src=\"../data/C2_nav.png\" style=\"height:50px\" alt=\"C2\"></a></td>\n",
    "    <td style=\"min-width:50px; border:none\" bgcolor=\"white\"><a href=\"../C3/C3.html\"><img src=\"../data/C3_nav.png\" style=\"height:50px\" alt=\"C3\"></a></td>\n",
    "    <td style=\"min-width:50px; border:none\" bgcolor=\"white\"><a href=\"../C4/C4.html\"><img src=\"../data/C4_nav.png\" style=\"height:50px\" alt=\"C4\"></a></td>\n",
    "    <td style=\"min-width:50px; border:none\" bgcolor=\"white\"><a href=\"../C5/C5.html\"><img src=\"../data/C5_nav.png\" style=\"height:50px\" alt=\"C5\"></a></td>\n",
    "    <td style=\"min-width:50px; border:none\" bgcolor=\"white\"><a href=\"../C6/C6.html\"><img src=\"../data/C6_nav.png\" style=\"height:50px\" alt=\"C6\"></a></td>\n",
    "    <td style=\"min-width:50px; border:none\" bgcolor=\"white\"><a href=\"../C7/C7.html\"><img src=\"../data/C7_nav.png\" style=\"height:50px\" alt=\"C7\"></a></td>\n",
    "    <td style=\"min-width:50px; border:none\" bgcolor=\"white\"><a href=\"../C8/C8.html\"><img src=\"../data/C8_nav.png\" style=\"height:50px\" alt=\"C8\"></a></td>\n",
    "</tr>\n",
    "</table>"
   ]
  }
 ],
 "metadata": {
  "kernelspec": {
   "display_name": "Python 3",
   "language": "python",
   "name": "python3"
  },
  "language_info": {
   "codemirror_mode": {
    "name": "ipython",
    "version": 3
   },
   "file_extension": ".py",
   "mimetype": "text/x-python",
   "name": "python",
   "nbconvert_exporter": "python",
   "pygments_lexer": "ipython3",
   "version": "3.7.15"
  }
 },
 "nbformat": 4,
 "nbformat_minor": 1
}
