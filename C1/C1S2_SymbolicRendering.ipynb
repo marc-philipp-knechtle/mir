{
 "cells": [
  {
   "cell_type": "markdown",
   "metadata": {},
   "source": [
    "<div>\n",
    "<a href=\"http://www.music-processing.de/\"><img style=\"float:left;\" src=\"../data/FMP_Teaser_Cover.png\" width=40% alt=\"FMP\"></a>\n",
    "<a href=\"https://www.audiolabs-erlangen.de\"><img src=\"../data/Logo_AudioLabs_Long.png\" width=59% style=\"float: right;\" alt=\"AudioLabs\"></a>\n",
    "</div>"
   ]
  },
  {
   "cell_type": "markdown",
   "metadata": {},
   "source": [
    "<div>\n",
    "<a href=\"../C1/C1.html\"><img src=\"../data/C1_nav.png\" width=\"100\"  style=\"float:right;\" alt=\"C1\"></a>\n",
    "<h1>Symbolic Format: Rendering</h1>        \n",
    "</div>\n",
    "\n",
    "<br />\n",
    "\n",
    "<p>\n",
    "In this notebook, we discuss some software tools for rendering sheet music. Furthermore, we explain some functionality of the Python library <code>music21</code>.\n",
    "</p> \n",
    "\n",
    "<div class=\"alert alert-block alert-warning\">\n",
    "    <b>Important Note:</b> To keep the notebook executable without additional software dependencies, we provide all code cells as comments. To indicate the code cells' output (given a proper installation of the dependencies), we include static images.\n",
    "<br>\n",
    "</div>"
   ]
  },
  {
   "cell_type": "markdown",
   "metadata": {},
   "source": [
    "## Extra Software\n",
    "\n",
    "The process of sheet music rendering refers to the computerized rendition of a symbolic music format into graphical musical symbols, e.g. modern staff notation. There exist several software tools for sheet music rendering, including text-based programs like [LilyPond](http://lilypond.org) and [Verovio](https://www.verovio.org), as well as WYSIWYG sheet music editors like [MuseScore](https://musescore.org) and [Sibelius](https://www.avid.com/de/sibelius).\n",
    "\n",
    "For rendering sheet music from Python, we recommend to use the package `music21`.\n",
    "For a full introduction, we refer to the [documentation of `music21`](https://web.mit.edu/music21/doc/).\n",
    "It offers various options to feed its internal data structure to a renderer.\n",
    "One option is to internally convert `music21`'s data structure to the MusicXML format (for more details, see the [MusicXML notebook](../C1/C1S2_MusicXML.html)) and use MuseScore to graphically render the sheet music. With a working Python environment where `music21` is installed, three more steps are needed to get it to work.\n",
    "\n",
    "* First, one needs to install MuseScore, which can be [downloaded freely](https://musescore.org/en/download) on its website. Second, one needs to tell `music21` the path to the MuseScore binary.\n",
    "* Second, we have to set up a `music21` user environment file.\n",
    "* Third, we have to register the path to MuseScore for `music21`.\n",
    "\n",
    "Those three steps only need to be executed one time.\n",
    "\n",
    "The following code cell sets up a `music21` user environment file:"
   ]
  },
  {
   "cell_type": "code",
   "execution_count": 1,
   "metadata": {
    "execution": {
     "iopub.execute_input": "2023-01-13T13:23:45.856821Z",
     "iopub.status.busy": "2023-01-13T13:23:45.856549Z",
     "iopub.status.idle": "2023-01-13T13:23:46.861252Z",
     "shell.execute_reply": "2023-01-13T13:23:46.860283Z"
    }
   },
   "outputs": [
    {
     "name": "stdout",
     "output_type": "stream",
     "text": [
      "Path to music21 environment /Users/zal/.music21rc\n",
      "{'directoryScratch': None, 'lilypondPath': '/Applications/Lilypond.app/Contents/Resources/bin/lilypond', 'lilypondVersion': None, 'lilypondFormat': 'pdf', 'lilypondBackend': 'ps', 'musicxmlPath': '/Applications/MuseScore 3.app/Contents/MacOS/mscore', 'midiPath': '/Applications/Utilities/QuickTime Player 7.app', 'graphicsPath': '/Applications/Preview.app', 'vectorPath': '/Applications/Preview.app', 'pdfPath': '/Applications/Preview.app', 'braillePath': None, 'musescoreDirectPNGPath': '/Applications/MuseScore 3.app/Contents/MacOS/mscore', 'showFormat': 'musicxml', 'writeFormat': 'musicxml', 'ipythonShowFormat': 'ipython.musicxml.png', 'autoDownload': 'ask', 'debug': 0, 'warnings': 1, 'localCorpusSettings': LocalCorpusSettings([]), 'localCorporaSettings': {}, 'manualCoreCorpusPath': None}\n"
     ]
    }
   ],
   "source": [
    "import os\n",
    "import music21 as m21\n",
    "\n",
    "us = m21.environment.UserSettings()\n",
    "us_path = us.getSettingsPath()\n",
    "if not os.path.exists(us_path):\n",
    "    us.create()\n",
    "print('Path to music21 environment', us_path)\n",
    "print(us)"
   ]
  },
  {
   "cell_type": "markdown",
   "metadata": {},
   "source": [
    "Next, we give the path to the MuseScore binary. The following code cell gives two typical locations for Linux and Windows environments. Note that this could be different on your system and has to be changed, possibly. Both, setting up the user environment file and the specification of the MuseScore path has to be executed only once.\n",
    "\n",
    "**Note**: The following example may not work on Windows yet. The reason for this is a bug in `music21`. This was [fixed](https://github.com/cuthbertLab/music21/pull/411) and will be solved in the next version of `music21`. However, currently the fix is not included the the latest version."
   ]
  },
  {
   "cell_type": "code",
   "execution_count": 2,
   "metadata": {
    "execution": {
     "iopub.execute_input": "2023-01-13T13:23:46.902618Z",
     "iopub.status.busy": "2023-01-13T13:23:46.902239Z",
     "iopub.status.idle": "2023-01-13T13:23:46.905636Z",
     "shell.execute_reply": "2023-01-13T13:23:46.904867Z"
    }
   },
   "outputs": [],
   "source": [
    "# for linux\n",
    "# us['musescoreDirectPNGPath'] = '/usr/bin/mscore'\n",
    "# us['musicxmlPath'] = '/usr/bin/mscore'\n",
    "\n",
    "# for windows\n",
    "# us['musescoreDirectPNGPath'] = r'C:\\Program Files (x86)\\MuseScore 2\\bin\\MuseScore.exe' \n",
    "# us['musicxmlPath'] = r'C:\\Program Files (x86)\\MuseScore 2\\bin\\MuseScore.exe'"
   ]
  },
  {
   "cell_type": "markdown",
   "metadata": {},
   "source": [
    "If the setup is correct, the following code cell should create a `music21` Note object and show its graphical rendition via MuseScore:"
   ]
  },
  {
   "cell_type": "code",
   "execution_count": 3,
   "metadata": {
    "execution": {
     "iopub.execute_input": "2023-01-13T13:23:46.909250Z",
     "iopub.status.busy": "2023-01-13T13:23:46.908905Z",
     "iopub.status.idle": "2023-01-13T13:23:46.911704Z",
     "shell.execute_reply": "2023-01-13T13:23:46.910990Z"
    }
   },
   "outputs": [],
   "source": [
    "# n = m21.note.Note('c')\n",
    "# n.show('ipython.musicxml.png')"
   ]
  },
  {
   "cell_type": "markdown",
   "metadata": {},
   "source": [
    "<img align=\"left\" src=\"../data/C1/FMP_C1_Rendering_c4_mscore.png\" alt=\"Output of previous code cell\" style=\"height:50px;\"> "
   ]
  },
  {
   "cell_type": "markdown",
   "metadata": {},
   "source": [
    "Another possibility is to use [LilyPond](http://lilypond.org) for rendering. Again, we need three steps to get it to work.\n",
    "\n",
    "* First we need to [install LilyPond](http://lilypond.org/download.html).\n",
    "* Second, we have to set up the `music21` user environment file (we already did that above).\n",
    "* Third, we have to register the path to Lilypond for `music21`. The following code cell again gives typical locations for Linux and Windows."
   ]
  },
  {
   "cell_type": "code",
   "execution_count": 4,
   "metadata": {
    "execution": {
     "iopub.execute_input": "2023-01-13T13:23:46.915296Z",
     "iopub.status.busy": "2023-01-13T13:23:46.914955Z",
     "iopub.status.idle": "2023-01-13T13:23:46.917819Z",
     "shell.execute_reply": "2023-01-13T13:23:46.917180Z"
    }
   },
   "outputs": [],
   "source": [
    "# for linux\n",
    "# us['lilypondPath'] = '/usr/local/bin/lilypond'\n",
    "\n",
    "# for windows\n",
    "# us['lilypondPath'] = r'C:\\Program Files (x86)\\LilyPond\\usr\\bin\\lilypond.exe'"
   ]
  },
  {
   "cell_type": "markdown",
   "metadata": {},
   "source": [
    "Finally, we are able to render our simple note via Lilypond:"
   ]
  },
  {
   "cell_type": "code",
   "execution_count": 5,
   "metadata": {
    "execution": {
     "iopub.execute_input": "2023-01-13T13:23:46.921198Z",
     "iopub.status.busy": "2023-01-13T13:23:46.920899Z",
     "iopub.status.idle": "2023-01-13T13:23:46.924011Z",
     "shell.execute_reply": "2023-01-13T13:23:46.923259Z"
    }
   },
   "outputs": [],
   "source": [
    "# n.show('ipython.lily.png')"
   ]
  },
  {
   "cell_type": "markdown",
   "metadata": {},
   "source": [
    "<img align=\"left\" src=\"../data/C1/FMP_C1_Rendering_c4_lily.png\" alt=\"Output of previous code cell\" style=\"height:50px;\"> "
   ]
  },
  {
   "cell_type": "markdown",
   "metadata": {},
   "source": [
    "For creating a staff line with multiple notes, we add multiple `music21` objects to a `music21` Stream."
   ]
  },
  {
   "cell_type": "code",
   "execution_count": 6,
   "metadata": {
    "execution": {
     "iopub.execute_input": "2023-01-13T13:23:46.927128Z",
     "iopub.status.busy": "2023-01-13T13:23:46.926888Z",
     "iopub.status.idle": "2023-01-13T13:23:46.929468Z",
     "shell.execute_reply": "2023-01-13T13:23:46.928873Z"
    }
   },
   "outputs": [],
   "source": [
    "# s = m21.stream.Stream()\n",
    "# s.append(m21.key.Key('E-'))\n",
    "# s.append(m21.meter.TimeSignature('2/4'))\n",
    "# s.append(m21.note.Rest(quarterLength=0.5))\n",
    "# s.append(m21.note.Note('g', quarterLength=0.5))\n",
    "# s.append(m21.note.Note('g', quarterLength=0.5))\n",
    "# s.append(m21.note.Note('g', quarterLength=0.5))\n",
    "# s.append(m21.note.Note('e-', quarterLength=2))\n",
    "\n",
    "# s.show('ipython.musicxml.png')"
   ]
  },
  {
   "cell_type": "markdown",
   "metadata": {},
   "source": [
    "<img align=\"left\" src=\"../data/C1/FMP_C1_Rendering_fate-mono_mscore.png\" alt=\"Output of previous code cell\" style=\"height:50px;\"> "
   ]
  },
  {
   "cell_type": "markdown",
   "metadata": {},
   "source": [
    "Instead of writing Python code to create a `music21` score, we can also read and display a MusicXML file."
   ]
  },
  {
   "cell_type": "code",
   "execution_count": 7,
   "metadata": {
    "execution": {
     "iopub.execute_input": "2023-01-13T13:23:46.932569Z",
     "iopub.status.busy": "2023-01-13T13:23:46.932289Z",
     "iopub.status.idle": "2023-01-13T13:23:46.934670Z",
     "shell.execute_reply": "2023-01-13T13:23:46.934147Z"
    }
   },
   "outputs": [],
   "source": [
    "# fn_xml = os.path.join('..', 'data', 'C1', 'FMP_C1_F01_Beethoven_FateMotive_Sibelius.xml')\n",
    "# s = m21.converter.parse(fn_xml)\n",
    "# s.show('ipython.musicxml.png')"
   ]
  },
  {
   "cell_type": "markdown",
   "metadata": {},
   "source": [
    "<img align=\"left\" src=\"../data/C1/FMP_C1_Rendering_fate-piano_mscore.png\" alt=\"Output of previous code cell\" style=\"height:200px;\"> "
   ]
  },
  {
   "cell_type": "markdown",
   "metadata": {},
   "source": [
    "We can also read in a full orchestral score. Since such a score cannot be rendered on a single page, we can specify the measures that we want to show:"
   ]
  },
  {
   "cell_type": "code",
   "execution_count": 8,
   "metadata": {
    "execution": {
     "iopub.execute_input": "2023-01-13T13:23:46.937549Z",
     "iopub.status.busy": "2023-01-13T13:23:46.937324Z",
     "iopub.status.idle": "2023-01-13T13:23:46.939642Z",
     "shell.execute_reply": "2023-01-13T13:23:46.939114Z"
    }
   },
   "outputs": [],
   "source": [
    "# fn_xml = os.path.join('..', 'data', 'C1', 'FMP_C1_F10_Beethoven_Fifth-MM1-21_Sibelius-Orchestra.xml')\n",
    "# s = m21.converter.parse(fn_xml)\n",
    "# s.measures(1, 5).show('ipython.musicxml.png')"
   ]
  },
  {
   "cell_type": "markdown",
   "metadata": {},
   "source": [
    "<img align=\"left\" src=\"../data/C1/FMP_C1_Rendering_fate-full_mscore.png\" alt=\"Output of previous code cell\" style=\"height:600px;\"> "
   ]
  },
  {
   "cell_type": "markdown",
   "metadata": {},
   "source": [
    "<div class=\"alert\" style=\"background-color:#F5F5F5; border-color:#C8C8C8\">\n",
    "<strong>Acknowledgment:</strong> This notebook was created by <a href=\"https://www.audiolabs-erlangen.de/fau/assistant/zalkow\">Frank Zalkow</a> and <a href=\"https://www.audiolabs-erlangen.de/fau/professor/mueller\">Meinard Müller</a>.\n",
    "</div>   "
   ]
  },
  {
   "cell_type": "markdown",
   "metadata": {},
   "source": [
    "<table style=\"border:none\">\n",
    "<tr style=\"border:none\">\n",
    "    <td style=\"min-width:50px; border:none\" bgcolor=\"white\"><a href=\"../C0/C0.html\"><img src=\"../data/C0_nav.png\" style=\"height:50px\" alt=\"C0\"></a></td>\n",
    "    <td style=\"min-width:50px; border:none\" bgcolor=\"white\"><a href=\"../C1/C1.html\"><img src=\"../data/C1_nav.png\" style=\"height:50px\" alt=\"C1\"></a></td>\n",
    "    <td style=\"min-width:50px; border:none\" bgcolor=\"white\"><a href=\"../C2/C2.html\"><img src=\"../data/C2_nav.png\" style=\"height:50px\" alt=\"C2\"></a></td>\n",
    "    <td style=\"min-width:50px; border:none\" bgcolor=\"white\"><a href=\"../C3/C3.html\"><img src=\"../data/C3_nav.png\" style=\"height:50px\" alt=\"C3\"></a></td>\n",
    "    <td style=\"min-width:50px; border:none\" bgcolor=\"white\"><a href=\"../C4/C4.html\"><img src=\"../data/C4_nav.png\" style=\"height:50px\" alt=\"C4\"></a></td>\n",
    "    <td style=\"min-width:50px; border:none\" bgcolor=\"white\"><a href=\"../C5/C5.html\"><img src=\"../data/C5_nav.png\" style=\"height:50px\" alt=\"C5\"></a></td>\n",
    "    <td style=\"min-width:50px; border:none\" bgcolor=\"white\"><a href=\"../C6/C6.html\"><img src=\"../data/C6_nav.png\" style=\"height:50px\" alt=\"C6\"></a></td>\n",
    "    <td style=\"min-width:50px; border:none\" bgcolor=\"white\"><a href=\"../C7/C7.html\"><img src=\"../data/C7_nav.png\" style=\"height:50px\" alt=\"C7\"></a></td>\n",
    "    <td style=\"min-width:50px; border:none\" bgcolor=\"white\"><a href=\"../C8/C8.html\"><img src=\"../data/C8_nav.png\" style=\"height:50px\" alt=\"C8\"></a></td>\n",
    "</tr>\n",
    "</table>"
   ]
  }
 ],
 "metadata": {
  "kernelspec": {
   "display_name": "Python 3",
   "language": "python",
   "name": "python3"
  },
  "language_info": {
   "codemirror_mode": {
    "name": "ipython",
    "version": 3
   },
   "file_extension": ".py",
   "mimetype": "text/x-python",
   "name": "python",
   "nbconvert_exporter": "python",
   "pygments_lexer": "ipython3",
   "version": "3.7.15"
  }
 },
 "nbformat": 4,
 "nbformat_minor": 1
}
