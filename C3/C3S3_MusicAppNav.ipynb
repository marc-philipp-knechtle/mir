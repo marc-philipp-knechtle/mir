{
 "cells": [
  {
   "cell_type": "markdown",
   "metadata": {},
   "source": [
    "<div>\n",
    "<a href=\"http://www.music-processing.de/\"><img style=\"float:left;\" src=\"../data/FMP_Teaser_Cover.png\" width=40% alt=\"FMP\"></a>\n",
    "<a href=\"https://www.audiolabs-erlangen.de\"><img src=\"../data/Logo_AudioLabs_Long.png\" width=59% style=\"float: right;\" alt=\"AudioLabs\"></a>\n",
    "</div>"
   ]
  },
  {
   "cell_type": "markdown",
   "metadata": {},
   "source": [
    "<div>\n",
    "<a href=\"../C3/C3.html\"><img src=\"../data/C3_nav.png\" width=\"100\"  style=\"float:right;\" alt=\"C3\"></a>\n",
    "<div><h1>Application: Music Navigation</h1> </div>\n",
    "</div>\n",
    "\n",
    "<p>\n",
    "Following Section 3.3.1 of <a href=\"http://www.music-processing.de/\">[Müller, FMP, Springer 2015]</a>, we discuss in this notebook some applications, where automated synchronization methods play an important role for supporting the user in experiencing and exploring music. For an overview of similar applications, we refer to the following articles:\n",
    "    \n",
    "<ul>\n",
    "<li><span style=\"color:black\">\n",
    "David Damm, Christian Fremerey, Verena Thomas, Michael Clausen, Frank Kurth, and Meinard Müller: <strong>A Digital Library Framework for Heterogeneous Music Collections: From Document Acquisition to Cross-Modal Interaction.</strong> International Journal on Digital Libraries: Special Issue on Music Digital Libraries, 12(2-3): 53&ndash;71, 2012. \n",
    "<br>\n",
    "<a type=\"button\" class=\"btn btn-default btn-xs\" target=\"_blank\" href=\"../data/bibtex/FMP_bibtex_DammFTCKM12_DML_IJDL.txt\"> Bibtex </a>\n",
    "</span></li> \n",
    "    \n",
    "<li><span style=\"color:black\">\n",
    "Masataka Goto and Roger B. Dannenberg: <strong>Music Interfaces Based on Automatic Music Signal Analysis: New Ways to Create and Listen to Music.</strong> IEEE Signal Processing Magazine, 36(1): 74–81, 2019.\n",
    "<br>\n",
    "<a type=\"button\" class=\"btn btn-default btn-xs\" target=\"_blank\" href=\"../data/bibtex/FMP_bibtex_GotoD19_MusicInterfaces_IEEE-SPM.txt\"> Bibtex </a>\n",
    "</span></li>  \n",
    "<li><span style=\"color:black\">\n",
    "Meinard Müller, Andreas Arzt, Stefan Balke, Matthias Dorfer, and Gerhard Widmer: <strong>Cross-Modal Music Retrieval and Applications: An Overview of Key Methodologies.</strong> IEEE Signal Processing Magazine, 36(1): 52–62, 2019.\n",
    "<br>\n",
    "<a type=\"button\" class=\"btn btn-default btn-xs\" target=\"_blank\" href=\"../data/bibtex/FMP_bibtex_MuellerABDW19_MusicRetrieval_IEEE-SPM.txt\"> Bibtex </a>\n",
    "</span></li>    \n",
    "</ul> "
   ]
  },
  {
   "cell_type": "markdown",
   "metadata": {},
   "source": [
    "## Music Library Scenario\n",
    "\n",
    "Significant digitization efforts have resulted in large music collections, which comprise music-related documents of various types and formats including text, symbolic data, audio, image, and video expressing musical content at different semantic levels. Modern digital music libraries contain textual data including lyrics and libretti, symbolic data, visual data \n",
    "such as scanned sheet music or CD album covers, as well as music and video recordings of performances. Therefore, beyond the mere recording and digitization of musical data, a key challenge in a real-life library application scenario is to integrate techniques and interfaces to organize, understand, and search musical content in a robust, efficient, and intelligent manner. In this context, music synchronization techniques are one way to automate\n",
    "the generation of cross-links, which can then be used for making musical data better accessible to the user.\n",
    "\n",
    "<img src=\"../data/C3/FMP_C3_F20.png\" width=\"500px\" align=\"center\" alt=\"C1\">"
   ]
  },
  {
   "cell_type": "markdown",
   "metadata": {},
   "source": [
    "## Interpretation Switcher Interface\n",
    "\n",
    "As a first scenario, let us consider the case of having many different audio recordings for  he same musical work. For example, for Beethoven's Fifth Symphony, a digital music library may contain interpretations by Bernstein and Sawallisch, Liszt's piano transcription of Beethoven's Fifth played by Scherbakov, and some synthesized version generated from a MIDI file. The **Interpretation Switcher interface** allows a user to select several recordings of the same piece of music, which have previously been [synchronized](../C3/C3_MusicSynchronization.html). Each of the recordings is represented by a slider bar indicating the current playback position with respect to the recording's particular timeline.\n",
    "Each timeline encodes absolute timing, where the length of a particular slider bar is proportional to the duration of the respective version. The user may listen to a specific recording by activating a slider bar and then, at any time during playback, seamlessly switch to any of the other versions. This kind of navigation between different documents is also referred to as **interdocument navigation**. The following video gives an impression on this kind of switching functionality, where the four slider bars correspond to four versions of the first part (the exposition) of Beethoven's Fifth Symphony.\n",
    "\n",
    "<video src=\"../data/C3/FMP_C3_F21_InterpretationSwitcher_small.mp4\" type=\"movie.mp4\" width=\"600\" align=\"center\" controls=\"controls\"></video>\n",
    "\n",
    "In this example, the Interpretation Switcher also indicates version-dependent annotations \n",
    "below each individual slider bar, where labeled segments are represented by color-coded blocks. In the example above, the three sections correspond to the first theme (blue),\n",
    "the second theme (red), and the end section (green) of the exposition. Based on these annotations, the Interpretation Switcher also facilitates navigation within a given document, where the user can directly jump to the beginning of any structural element simply by clicking on the corresponding block. This kind of navigation is also called **intradocument navigation**. In combination, inter- and intradocument navigation allow a user to conveniently browse through the different performances of a given musical work and to easily locate, playback, and compare musically interesting passages."
   ]
  },
  {
   "cell_type": "markdown",
   "metadata": {},
   "source": [
    "## Score Viewer Interface\n",
    "\n",
    "As a second scenario, let us consider a more multimodal setting dealing with audio&ndash;visual music data. We have seen that sheet music and audio recordings represent and describe music at\n",
    "different levels of abstraction. Sheet music specifies high-level parameters such as notes, keys, measures, or repetitions in a visual form. Because of its explicitness and compactness, \n",
    "Western music is often discussed and analyzed on the basis of sheet music. In contrast, most people enjoy music by listening to audio recordings, which represent music in an acoustic form. In particular, the nuances and subtleties of musical performances, which are generally not written down in the score, make the music come alive.\n",
    "\n",
    "In the following, we assume that we have links between the images of sheet music and a corresponding audio recording. The following video shows an **Score Viewer Interface** for presenting sheet music while playing back associated audio recordings, a functionality that is also often referred to as **Score Following**. The functionality is illustrated by means of Beethoven's Piano Sonata Op. 13 (Pathétique). When starting audio playback, corresponding measures within the sheet music are synchronously highlighted based on the linking information generated by the synchronization procedure. Additional control elements allow the user to switch between measures of the currently selected musical work. By clicking on a measure, the playback position is changed and the audio recording is resumed at the appropriate time position. Obviously, if more than one music recording is available for the currently selected musical work, the Score Viewer interface may be combined with an Interpretation Switcher. \n",
    "\n",
    "<video src=\"../data/C3/FMP_C3_F22_ScoreViewer_small.mp4\" type=\"movie.mp4\" width=\"700\" align=\"center\" controls=\"controls\"></video>"
   ]
  },
  {
   "cell_type": "markdown",
   "metadata": {},
   "source": [
    "<div class=\"alert\" style=\"background-color:#F5F5F5; border-color:#C8C8C8\">\n",
    "<strong>Acknowledgment:</strong> This notebook was created by <a href=\"https://www.audiolabs-erlangen.de/fau/professor/mueller\">Meinard Müller</a>.\n",
    "</div> "
   ]
  },
  {
   "cell_type": "markdown",
   "metadata": {},
   "source": [
    "<table style=\"border:none\">\n",
    "<tr style=\"border:none\">\n",
    "    <td style=\"min-width:50px; border:none\" bgcolor=\"white\"><a href=\"../C0/C0.html\"><img src=\"../data/C0_nav.png\" style=\"height:50px\" alt=\"C0\"></a></td>\n",
    "    <td style=\"min-width:50px; border:none\" bgcolor=\"white\"><a href=\"../C1/C1.html\"><img src=\"../data/C1_nav.png\" style=\"height:50px\" alt=\"C1\"></a></td>\n",
    "    <td style=\"min-width:50px; border:none\" bgcolor=\"white\"><a href=\"../C2/C2.html\"><img src=\"../data/C2_nav.png\" style=\"height:50px\" alt=\"C2\"></a></td>\n",
    "    <td style=\"min-width:50px; border:none\" bgcolor=\"white\"><a href=\"../C3/C3.html\"><img src=\"../data/C3_nav.png\" style=\"height:50px\" alt=\"C3\"></a></td>\n",
    "    <td style=\"min-width:50px; border:none\" bgcolor=\"white\"><a href=\"../C4/C4.html\"><img src=\"../data/C4_nav.png\" style=\"height:50px\" alt=\"C4\"></a></td>\n",
    "    <td style=\"min-width:50px; border:none\" bgcolor=\"white\"><a href=\"../C5/C5.html\"><img src=\"../data/C5_nav.png\" style=\"height:50px\" alt=\"C5\"></a></td>\n",
    "    <td style=\"min-width:50px; border:none\" bgcolor=\"white\"><a href=\"../C6/C6.html\"><img src=\"../data/C6_nav.png\" style=\"height:50px\" alt=\"C6\"></a></td>\n",
    "    <td style=\"min-width:50px; border:none\" bgcolor=\"white\"><a href=\"../C7/C7.html\"><img src=\"../data/C7_nav.png\" style=\"height:50px\" alt=\"C7\"></a></td>\n",
    "    <td style=\"min-width:50px; border:none\" bgcolor=\"white\"><a href=\"../C8/C8.html\"><img src=\"../data/C8_nav.png\" style=\"height:50px\" alt=\"C8\"></a></td>\n",
    "</tr>\n",
    "</table>"
   ]
  }
 ],
 "metadata": {
  "anaconda-cloud": {},
  "kernelspec": {
   "display_name": "Python 3",
   "language": "python",
   "name": "python3"
  },
  "language_info": {
   "codemirror_mode": {
    "name": "ipython",
    "version": 3
   },
   "file_extension": ".py",
   "mimetype": "text/x-python",
   "name": "python",
   "nbconvert_exporter": "python",
   "pygments_lexer": "ipython3",
   "version": "3.7.15"
  }
 },
 "nbformat": 4,
 "nbformat_minor": 1
}
