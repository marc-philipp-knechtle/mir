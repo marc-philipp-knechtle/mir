{
 "cells": [
  {
   "cell_type": "markdown",
   "metadata": {},
   "source": [
    "<div>\n",
    "<a href=\"http://www.music-processing.de/\"><img style=\"float:left;\" src=\"../data/FMP_Teaser_Cover.png\" width=40% alt=\"FMP\"></a>\n",
    "<a href=\"https://www.audiolabs-erlangen.de\"><img src=\"../data/Logo_AudioLabs_Long.png\" width=59% style=\"float: right;\" alt=\"AudioLabs\"></a>\n",
    "</div>"
   ]
  },
  {
   "cell_type": "markdown",
   "metadata": {},
   "source": [
    "<div>\n",
    "<a href=\"../B/B.html\"><img src=\"../data/B_nav.png\" width=\"100\"  style=\"float:right;\" alt=\"B\"></a>\n",
    "<h1>Annotation Visualization</h1> \n",
    "</div>\n",
    "\n",
    "<br/>\n",
    "\n",
    "<p>\n",
    "In this notebook, we introduce some <code>libfmp</code>-functions that can be used for visualizing various kinds of annotations as encountered in music processing. In particular, we consider <strong>single-value annotations</strong> and <strong>segment annotations</strong> that consist of pairs of values.\n",
    "</p> "
   ]
  },
  {
   "cell_type": "markdown",
   "metadata": {},
   "source": [
    "## Conventions and Formats\n",
    "\n",
    "In the FMP notebooks, we encounter various types of annotations that can be expressed as list of **instances**. Typically, an instance consists of one or several **numerical values** (e.g., time positions, durations, frequency values, pitches, and so on) and a **label** given as text string. In this notebook, we consider **single-value annotations** (one numerical value and a label) and **segment annotations** (two numerical values and a label). For more complex examples, we refer to [FMP notebook on symbolic music formats](../C1/C1S2_CSV.html). To write and read annotations, we use a simple file format based on on **comma-separated values** (CSV). Each instance corresponds to a **row**, and the elements (i.e., numerical values and label) of each row are separated by a **semicolon** (`;`) rather than a comma. Furthermore, in the first row, we include a header line that specifies the meaning of the columns (i.e., the elements).\n",
    "\n",
    "To read, write, and modify CSV files, we often use the Python library [`pandas`](https://pandas.pydata.org/), which provides easy-to-use data structures and data analysis tools. Using the pandas framework, the content of a CSV file is stored in a two-dimensional tabular data structure with labeled axes (rows and columns) called `DataFrame`. This data structure can be accessed using attributes, see the [documentation for `pandas.DataFrame`](http://pandas.pydata.org/pandas-docs/stable/reference/api/pandas.DataFrame.html). For more details, we refer to the [FMP notebook on the CSV format](../C1/C1S2_CSV.html) and the functions `libfmp.b.read_csv` and `libfmp.b.write_csv`. In the following, we look at some simple examples that illustrate our conventions. "
   ]
  },
  {
   "cell_type": "markdown",
   "metadata": {},
   "source": [
    "## Single-Value Annotations\n",
    "\n",
    "We start with an annotation format, where each instance consists of a single **numerical value**. Such a value  may refer to a time position (specified in seconds or frame indices) or to a frequency value (specified in Hertz or frequency bin indices). Furthermore, the semantics of this numerical value is further specified by a **label**, which consists of a text string. We encounter a typical example for such an annotation type in the context of [tempo and beat tracking](../C6/C6.html), where the values are time positions (given in seconds) and the labels specify the musical meaning of the time position (e.g., indicating a measure, quarter note, or eighth note position). In the following code cell, we generate a toy example of such an annotation, which serves as our running example. The data structure consists of a list of tuples, each tuple consisting of a value and label. We also show how the data structure can be converted into a `DataFrame` (`df`) and `csv` file."
   ]
  },
  {
   "cell_type": "code",
   "execution_count": 1,
   "metadata": {
    "execution": {
     "iopub.execute_input": "2023-01-13T13:39:47.299572Z",
     "iopub.status.busy": "2023-01-13T13:39:47.299217Z",
     "iopub.status.idle": "2023-01-13T13:39:49.684869Z",
     "shell.execute_reply": "2023-01-13T13:39:49.684252Z"
    },
    "ExecuteTime": {
     "start_time": "2023-05-08T16:57:04.600655Z",
     "end_time": "2023-05-08T16:57:07.069425Z"
    }
   },
   "outputs": [
    {
     "name": "stdout",
     "output_type": "stream",
     "text": [
      "=== Dummy annotation ===\n",
      "[(0.0, 'measure'), (0.0, 'quarter'), (0.0, 'eighth'), (0.25, 'eighth'), (0.5, 'quarter'), (0.5, 'eighth'), (0.75, 'eighth'), (1.0, 'measure'), (1.0, 'quarter'), (1.0, 'eighth'), (1.25, 'eighth'), (1.5, 'quarter'), (1.5, 'eighth'), (1.75, 'eighth'), (2.0, 'measure'), (2.0, 'quarter'), (2.0, 'eighth'), (2.25, 'eighth')]\n",
      "\n",
      "=== Dummy annotation in CSV format ===\n",
      "\"position\";\"label\"\n",
      "0.0;\"measure\"\n",
      "0.0;\"quarter\"\n",
      "0.0;\"eighth\"\n",
      "0.25;\"eighth\"\n",
      "0.5;\"quarter\"\n",
      "0.5;\"eighth\"\n",
      "0.75;\"eighth\"\n",
      "1.0;\"measure\"\n",
      "1.0;\"quarter\"\n",
      "1.0;\"eighth\"\n",
      "1.25;\"eighth\"\n",
      "1.5;\"quarter\"\n",
      "1.5;\"eighth\"\n",
      "1.75;\"eighth\"\n",
      "2.0;\"measure\"\n",
      "2.0;\"quarter\"\n",
      "2.0;\"eighth\"\n",
      "2.25;\"eighth\"\n",
      "\n",
      "=== Dummy annotation stored as DataFrame and rendered as HTML ===\n"
     ]
    },
    {
     "data": {
      "text/plain": "<IPython.core.display.HTML object>",
      "text/html": "<table border=\"1\" class=\"dataframe\">\n  <thead>\n    <tr style=\"text-align: right;\">\n      <th></th>\n      <th>position</th>\n      <th>label</th>\n    </tr>\n  </thead>\n  <tbody>\n    <tr>\n      <th>0</th>\n      <td>0.00</td>\n      <td>measure</td>\n    </tr>\n    <tr>\n      <th>1</th>\n      <td>0.00</td>\n      <td>quarter</td>\n    </tr>\n    <tr>\n      <th>2</th>\n      <td>0.00</td>\n      <td>eighth</td>\n    </tr>\n    <tr>\n      <th>3</th>\n      <td>0.25</td>\n      <td>eighth</td>\n    </tr>\n    <tr>\n      <th>4</th>\n      <td>0.50</td>\n      <td>quarter</td>\n    </tr>\n    <tr>\n      <th>5</th>\n      <td>0.50</td>\n      <td>eighth</td>\n    </tr>\n    <tr>\n      <th>6</th>\n      <td>0.75</td>\n      <td>eighth</td>\n    </tr>\n    <tr>\n      <th>7</th>\n      <td>1.00</td>\n      <td>measure</td>\n    </tr>\n    <tr>\n      <th>8</th>\n      <td>1.00</td>\n      <td>quarter</td>\n    </tr>\n    <tr>\n      <th>9</th>\n      <td>1.00</td>\n      <td>eighth</td>\n    </tr>\n    <tr>\n      <th>10</th>\n      <td>1.25</td>\n      <td>eighth</td>\n    </tr>\n    <tr>\n      <th>11</th>\n      <td>1.50</td>\n      <td>quarter</td>\n    </tr>\n    <tr>\n      <th>12</th>\n      <td>1.50</td>\n      <td>eighth</td>\n    </tr>\n    <tr>\n      <th>13</th>\n      <td>1.75</td>\n      <td>eighth</td>\n    </tr>\n    <tr>\n      <th>14</th>\n      <td>2.00</td>\n      <td>measure</td>\n    </tr>\n    <tr>\n      <th>15</th>\n      <td>2.00</td>\n      <td>quarter</td>\n    </tr>\n    <tr>\n      <th>16</th>\n      <td>2.00</td>\n      <td>eighth</td>\n    </tr>\n    <tr>\n      <th>17</th>\n      <td>2.25</td>\n      <td>eighth</td>\n    </tr>\n  </tbody>\n</table>"
     },
     "metadata": {},
     "output_type": "display_data"
    }
   ],
   "source": [
    "import os\n",
    "import sys\n",
    "import numpy as np\n",
    "import pandas as pd\n",
    "from matplotlib import pyplot as plt\n",
    "import IPython.display as ipd\n",
    "sys.path.append('..')\n",
    "import libfmp.b\n",
    "\n",
    "%matplotlib inline\n",
    "\n",
    "measures = np.arange(0, 2.5, 1.0)\n",
    "quarters = np.arange(0, 2.5, 0.5)\n",
    "eighths = np.arange(0, 2.5, 0.25)\n",
    "\n",
    "# Generate dummy annotations\n",
    "ann = sorted([(n, 'measure') for n in measures] +\n",
    "             [(n, 'quarter') for n in quarters] +\n",
    "             [(n, 'eighth') for n in eighths], key=lambda x: x[0])\n",
    "print('=== Dummy annotation ===')\n",
    "print(ann)\n",
    "\n",
    "# Convert to DataFrame and CSV format (as used for the FMP notebooks)\n",
    "ann_df = pd.DataFrame(ann, columns=['position', 'label'])\n",
    "ann_csv = ann_df.to_csv(sep=';', index=False, quoting=2)\n",
    "print('\\n=== Dummy annotation in CSV format ===')\n",
    "print(ann_csv)\n",
    "print('=== Dummy annotation stored as DataFrame and rendered as HTML ===')\n",
    "ipd.display(ipd.HTML(ann_df.to_html()))\n",
    "\n",
    "# Store and load annotation file \n",
    "#fn_out = os.path.join('..', 'output', 'B', 'FMP_annotation_position_dummy.csv')\n",
    "#ann_df.to_csv(fn_out, sep=';', index=False, quoting=2)\n",
    "#ann_df = pd.read_csv(fn_out, sep=';')\n",
    "#ann = [(position, label) for i, (position, label) in df.iterrows()]"
   ]
  },
  {
   "cell_type": "markdown",
   "metadata": {},
   "source": [
    "The function `libfmp.b.plot_annotation_line` allows for plotting single-value annotations. In the following code cell, we visualize the annotations within a single plot, where each label type is assigned to an individual plotting style."
   ]
  },
  {
   "cell_type": "code",
   "execution_count": 2,
   "metadata": {
    "execution": {
     "iopub.execute_input": "2023-01-13T13:39:49.721806Z",
     "iopub.status.busy": "2023-01-13T13:39:49.721565Z",
     "iopub.status.idle": "2023-01-13T13:39:49.880103Z",
     "shell.execute_reply": "2023-01-13T13:39:49.879342Z"
    },
    "ExecuteTime": {
     "start_time": "2023-05-08T16:57:07.090630Z",
     "end_time": "2023-05-08T16:57:07.390179Z"
    }
   },
   "outputs": [
    {
     "data": {
      "text/plain": "<Figure size 432x72 with 1 Axes>",
      "image/png": "[encoded data removed]"
     },
     "metadata": {
      "needs_background": "light"
     },
     "output_type": "display_data"
    }
   ],
   "source": [
    "label_keys = {'measure': {'linewidth': 6, 'color': 'k'},\n",
    "              'quarter': {'linewidth': 3, 'color': 'b'},\n",
    "              'eighth': {'linewidth': 1, 'color': 'r'}}\n",
    "        \n",
    "fig, ax = libfmp.b.plot_annotation_line(ann, label_keys=label_keys)\n",
    "ax.set_xlim([-1,3]);"
   ]
  },
  {
   "cell_type": "markdown",
   "metadata": {},
   "source": [
    "Next, we visualize the annotations horizontally aligned to a matrix. This mimics the situation, where the horizontal axis of the matrix has the semantics expressed by the annotations. "
   ]
  },
  {
   "cell_type": "code",
   "execution_count": 3,
   "metadata": {
    "execution": {
     "iopub.execute_input": "2023-01-13T13:39:49.883593Z",
     "iopub.status.busy": "2023-01-13T13:39:49.883302Z",
     "iopub.status.idle": "2023-01-13T13:39:50.274637Z",
     "shell.execute_reply": "2023-01-13T13:39:50.273933Z"
    },
    "ExecuteTime": {
     "start_time": "2023-05-08T16:57:07.397025Z",
     "end_time": "2023-05-08T16:57:08.258002Z"
    }
   },
   "outputs": [
    {
     "data": {
      "text/plain": "<Figure size 432x216 with 2 Axes>",
      "image/png": "[encoded data removed]"
     },
     "metadata": {
      "needs_background": "light"
     },
     "output_type": "display_data"
    }
   ],
   "source": [
    "matrix = np.random.random((16, 16))\n",
    "\n",
    "fig, ax = plt.subplots(2, 1, sharex=True, \n",
    "                       gridspec_kw={'height_ratios': [4, 1]}, figsize=(6, 3))\n",
    "\n",
    "ax[0].imshow(matrix, cmap='gray_r', aspect='auto', extent=[-1, 3, 0, 1], alpha=0.5)\n",
    "libfmp.b.plot_annotation_line(ann, ax=ax[1], label_keys=label_keys, time_min=-1, time_max=3)\n",
    "\n",
    "plt.tight_layout()"
   ]
  },
  {
   "cell_type": "markdown",
   "metadata": {},
   "source": [
    "Similarly, the annotations can be visualized vertically aligned to the matrix. "
   ]
  },
  {
   "cell_type": "code",
   "execution_count": 4,
   "metadata": {
    "execution": {
     "iopub.execute_input": "2023-01-13T13:39:50.277688Z",
     "iopub.status.busy": "2023-01-13T13:39:50.277499Z",
     "iopub.status.idle": "2023-01-13T13:39:50.486465Z",
     "shell.execute_reply": "2023-01-13T13:39:50.485935Z"
    },
    "ExecuteTime": {
     "start_time": "2023-05-08T16:57:08.044923Z",
     "end_time": "2023-05-08T16:57:08.351699Z"
    }
   },
   "outputs": [
    {
     "data": {
      "text/plain": "<Figure size 432x216 with 2 Axes>",
      "image/png": "[encoded data removed]"
     },
     "metadata": {
      "needs_background": "light"
     },
     "output_type": "display_data"
    }
   ],
   "source": [
    "fig, ax = plt.subplots(1, 2, sharey=True, \n",
    "                       gridspec_kw={'width_ratios': [1, 10]}, figsize=(6, 3))\n",
    "\n",
    "ax[1].imshow(matrix, cmap='gray_r', aspect='auto', extent=[0, 1, -1, 3], alpha=0.5)\n",
    "libfmp.b.plot_annotation_line(ann, ax=ax[0], label_keys=label_keys, \n",
    "                              direction='vertical', time_min=-1, time_max=3)\n",
    "\n",
    "plt.tight_layout()"
   ]
  },
  {
   "cell_type": "markdown",
   "metadata": {},
   "source": [
    "Similar to `libfmp.b.plot_annotation_line`, there also is the function `libfmp.b.plot_annotation_line_overlay`, which can be used to overlay a matrix with the annotations horizontally as well as vertically."
   ]
  },
  {
   "cell_type": "code",
   "execution_count": 5,
   "metadata": {
    "execution": {
     "iopub.execute_input": "2023-01-13T13:39:50.489469Z",
     "iopub.status.busy": "2023-01-13T13:39:50.489278Z",
     "iopub.status.idle": "2023-01-13T13:39:50.789148Z",
     "shell.execute_reply": "2023-01-13T13:39:50.788560Z"
    },
    "ExecuteTime": {
     "start_time": "2023-05-08T16:57:08.352950Z",
     "end_time": "2023-05-08T16:57:08.872141Z"
    }
   },
   "outputs": [
    {
     "data": {
      "text/plain": "<Figure size 576x216 with 2 Axes>",
      "image/png": "[encoded data removed]"
     },
     "metadata": {
      "needs_background": "light"
     },
     "output_type": "display_data"
    }
   ],
   "source": [
    "fig, ax = plt.subplots(1, 2, gridspec_kw={'width_ratios': [3, 2]}, figsize=(8, 3))\n",
    "\n",
    "ax[0].imshow(matrix, cmap='gray_r', aspect='auto', extent=[-1, 3, 0, 1], alpha=0.5)\n",
    "libfmp.b.plot_annotation_line_overlay(ann, ax=ax[0], label_keys=label_keys, time_min=-1, time_max=3)\n",
    "\n",
    "ax[1].imshow(matrix, cmap='gray_r', aspect='auto', extent=[0, 1, -1, 3], alpha=0.5)\n",
    "libfmp.b.plot_annotation_line_overlay(ann, ax=ax[1], direction='vertical',\n",
    "                              label_keys=label_keys, time_min=-1, time_max=3)\n",
    "plt.tight_layout()"
   ]
  },
  {
   "cell_type": "markdown",
   "metadata": {},
   "source": [
    "The function `libfmp.b.plot_annotation_multiline` allows for plotting single-value annotations, where each label type is not only assigned to an individual plotting style, but also to a spatially separate row (or column)."
   ]
  },
  {
   "cell_type": "code",
   "execution_count": 6,
   "metadata": {
    "execution": {
     "iopub.execute_input": "2023-01-13T13:39:50.792038Z",
     "iopub.status.busy": "2023-01-13T13:39:50.791841Z",
     "iopub.status.idle": "2023-01-13T13:39:50.906416Z",
     "shell.execute_reply": "2023-01-13T13:39:50.905477Z"
    },
    "ExecuteTime": {
     "start_time": "2023-05-08T16:57:08.806905Z",
     "end_time": "2023-05-08T16:57:09.040162Z"
    }
   },
   "outputs": [
    {
     "data": {
      "text/plain": "<Figure size 432x108 with 1 Axes>",
      "image/png": "[encoded data removed]"
     },
     "metadata": {
      "needs_background": "light"
     },
     "output_type": "display_data"
    }
   ],
   "source": [
    "fig, ax = libfmp.b.plot_annotation_multiline(ann, label_keys=label_keys, \n",
    "                                   sort_labels=['measure', 'quarter', 'eighth'])\n",
    "ax.set_xlim([-1,3]);"
   ]
  },
  {
   "cell_type": "markdown",
   "metadata": {},
   "source": [
    "The function `libfmp.b.plot_annotation_multiline` can be horizontally or vertically aligned to a given matrix, as demonstrated in the next code cell. In this example, we also show how two plots may be placed next to each other using the function [`libfmp.b.FloatingBox`](../B/B_PythonVisualization.html)."
   ]
  },
  {
   "cell_type": "code",
   "execution_count": 7,
   "metadata": {
    "execution": {
     "iopub.execute_input": "2023-01-13T13:39:50.909783Z",
     "iopub.status.busy": "2023-01-13T13:39:50.909554Z",
     "iopub.status.idle": "2023-01-13T13:39:51.111533Z",
     "shell.execute_reply": "2023-01-13T13:39:51.110952Z"
    },
    "ExecuteTime": {
     "start_time": "2023-05-08T16:57:08.953710Z",
     "end_time": "2023-05-08T16:57:09.283977Z"
    }
   },
   "outputs": [
    {
     "data": {
      "text/plain": "<IPython.core.display.HTML object>",
      "text/html": "\n        <style>\n        .floating-box-fmp-6bc640ba-9be7-4281-ae69-60193afb5f56 {\n        display: inline-block;\n        margin: 10px;\n        vertical-align: middle;\n        }\n        </style>\n        <div class=\"floating-box-fmp-6bc640ba-9be7-4281-ae69-60193afb5f56\"><img src=\"data:image/png;base64,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\n\"></div><div class=\"floating-box-fmp-6bc640ba-9be7-4281-ae69-60193afb5f56\"><img src=\"data:image/png;base64,iVBORw0KGgoAAAANSUhEUgAAASAAAADYCAYAAABLNT5AAAAABHNCSVQICAgIfAhkiAAAAAlwSFlzAAALEgAACxIB0t1+/AAAADh0RVh0U29mdHdhcmUAbWF0cGxvdGxpYiB2ZXJzaW9uMy4xLjMsIGh0dHA6Ly9tYXRwbG90bGliLm9yZy+AADFEAAAWTElEQVR4nO3de5BU5ZnH8e/DAEIQQS4qoAgRBfGSCGPixijEC6vGSxHjLUSqQlwqahI0q5WYbOXi7tZuopXSmLiIl+imYqx4wRiNqMQgokFk5BIIsiKBSPBCSJDLmAHGZ/84TdkMPTPPYbrnnR5+n6quort/8/bbPc0z7znnPe8xd0dEJIUuqTsgIvsuFSARSUYFSESSUQESkWRUgEQkGRUgEUlGBUhEklEBEpFkVIBEJBkVIBFJJlkBMrMeZrbAzJaY2XIz+16qvohIGpbqXDAzM6CXu281s27APGCau89P0iERaXddU72wZ5Vva+Fut8JNZ8aK7EOS7gMysxozWwy8Azzj7i+l7I+ItK9kIyAAd28EPmpmfYGZZnasuy/b9byZTQWmAvTq1WvsqFGjQu2uXLkSgJEjR5Y1u0tdXd1f3X1g+AeaKH5f3bt3HztgwIDQz/Xo0SP8Gnk2rfv16xfKbdiwIdxm//79w9mGhoZwtqamJpzdvHlzONulS/xvcZ7Pdvv27aFcns8rj/r6+nB2x44dodwbb7xR//777/fa2z4VS7YPqCkz+w6wzd1vLvV8bW2tL1y4MNTW+PHjAZgzZ05Zs7uYWZ2714Z/oAVDhgzxq666KpSNFmCAf/zjH+HspEmTQrk77rgj3ObkyZPD2VWrVoWzBxxwQDj79NNPh7M9e/YMZxsbG8PZdevWhXKXX355uM08/2cXL14czq5fvz6UmzZt2vrt27cPCTfcgpRHwQYWRj6YWU/gDODVVP0RkfaXchNsEHCfmdWQFcJfuvvjCfsjIu0s5VGwpcAJqV5fRNLTTGgRSUYFSESSUQESkWSSzgMS6Nu3L+edd14oO3DgXk89atEtt9wSyg0dOjTc5uzZs8PZM844I5xdvnx5OHvmmWeGs3nmy/Tu3TucPeyww0K56CFwgEcffTScjc7xAujevXsol51FVR4aAYlIMipAIpKMCpCIJKMCJCLJqACJSDIqQCKSjAqQiCSjeUCJ1dTU0KdPn1D2oYceCrd74IEHhrMjRowI5ZYsWRJu8/jjjw9np0+fHs4OGzYsnO3aNf71zrMcx/z58VWDN23aFMrNmjUr3OY111wTzm7cuDGcnTFjRigXXeMoQiMgEUlGBUhEklEBEpFkVIBEJBkVIBFJRgVIRJJRARKRZFSARCQZTURMrFu3bgwaNCiUvfLKK8Pt5pmA9uSTT4ZyJ510UrjNNWvWhLMXXXRROBu9NhzAzp07w9lFixaFsxMnTgxnn3jiiVAuz2JvL7zwQji7ZcuWcPaII44I5fJcILM1KkAAa9ZAGVd5E5EYbYIBDBsG7vGbiJSFCpCIJKMCJCLJqACJSDLJCpCZHWZmvzOzFWa23MympeqLiKSR8ijYTuBf3f0VM+sN1JnZM+7+x1Lhurq6XNcjGjduXJm6KSKVkmwE5O5vuvsrhX9vAVYAQ1L1R0TaX4eYB2Rmw4ATgJfK1WaeqT2HH16uV82voaGB1atXh7J5RoANDQ3h7KRJk0K52267LdzmyJEjw9kNGzaEs3kmWPbt2zecHT58eDg7c+bMcPa1114L5U444YRwmyeeeGI4+95774Wz0QmG119/fbjN1iQvQGa2P/AwcI27b27y3FRgaqX70HfTmnadiFj8vgYPHtxuryvS0SQ9CmZm3ciKz8/d/ZGmz7v7DHevdffaSvZjU99h7ToRsfh95Vm7WaSzSTYCsmx74m5ghbv/sNztDxuWbYa1Zvz4cr+yiESlHAGdDFwOnGZmiwu3c5oLjx07FncP3XQETKQ6JBsBufs8QGeAiuzDNBNaRJJRARKRZFSARCSZ5POAOoSEC5LV19dTV1cXyk6YMCHc7tKlS8PZ4447ruyvf8wxx4Sza9euDWfzHGCor68PZ/NMLuzVq1c4O3ny5FBu4MCB4TbvvPPOcDbPapPbtm0L5fKsNNkajYBAC5KJJKICJCLJqACJSDIqQCKSjAqQiCSjAiQiyagAiUgynXYeULUsSNavXz8uu+yyUDY6TwNg06ZN4ewDDzwQynmOKQhvvvlmOPvuu++Gs5s3b249tBfZLl3if4tPOeWUcHbevHmhXJ5lWRobG8PZu+++O5wdPXp0KLd169Zwm63ptAUoj/ZekExEMtoEo/0XJBORTKcdAWlBMpGOTyMgEUlGBUhEklEBEpFkVIBEJBkVIBFJptMeBasW27ZtCy9IlmeyXJ4FwYYNGxbK5Vm0a9GiReHs1VdfHc7ed9994Wz0Sp8A06ZNC2dvvPHGcPaKK64I5fr37x9uM88CbnmujFpbG7v83v777x9uszUqQJB0RUSRfZk2wUArIookogIkIsmoAIlIMipAIpJMsgJkZveY2TtmtixVH0QkrZQjoHuBs6Lhuro6zCx0e+655yrXaxEpm2QFyN3nAn9L9foikl6nnQdULSsiNjQ0sGrVqlB248aN4XbzXMV0+vTpodyUKVPCba5evTqcvfnmm8PZrl3jX9nTTjstnL3pppvC2WuvvTacff3110O5PCtYnn/++eHsvffeG84OHTo0lNtvv/3CbbamQxcgM5sKTK3067T3iojF72vAgAHt9roiHU2HPgrm7jPcvdbdY3PE91J7r4hY/L569+7d9jcgUqU69AioLbQiokjHl/Iw/C+A3wMjzWydmX2xpfzYsWNx99Bt3Lhx7fMmRKRNko2A3D12LRoR6bQ69D4gEencVIBEJBkVIBFJptMeBcsl4YJkPXr04KijjgplZ8+eHW53xIgR4ewFF1wQylmOz2jp0qXhbJ8+fcLZgw8+OJw9+uijw9k8l4e+9dZbw9krr7wylFuyZEm4zTyXcb7wwgvD2ZUrV4ZyeVZZbI1GQKAFyUQSUQESkWRUgEQkGRUgEUlGBUhEklEBEpFkVIBEJJlOOw+oWhYk69q1KwcddFAoO2rUqHC799xzTzi7efPmUG7q1PjSTDt37gxna2pqwtmJEyeGs3fddVc4e+qpp4azZ5xxRjgbvULsIYccEm7zrbfeCmfzzIWK9jXP77Y1nbYA5dHeC5KJSEabYLT/gmQikum0IyAtSCbS8WkEJCLJqACJSDIqQCKSjAqQiCSjAiQiyXTao2DVokuXLvTs2TOUffXVV8PtnnzyyeHsmDFjwtmo6FU2AV5++eVwNjppEuDqq68OZ/NcQTTP4mXRBcnWrl0bbrO+vj6cvf/++8PZgQMHhnKaiFhuCVdEFNmXaRMMtCKiSCIqQCKSjAqQiCSjAiQiyaS8NvxZZrbSzFaZ2TdS9UNE0klSgMysBvgJcDYwGrjMzEa39DN1dXWYWej23HPPtcfbEJE2SjUC+hiwyt1Xu/t24AEgdnU8Eek0Us0DGgK8UXR/HfDxcr5AtayI2NjYGJ7YdsUVV4TbnTVrVji7devWUC7PSnyTJk0KZ08//fRw9rXXXgtnH3vssXC2f//+4eyECRPC2TvvvDOUa2hoCLeZZyLgpZdeGs5GJ2Nu27Yt3GZrUhWgUqVhjwk2ZjYViK8Dupfae0XE4vc1ePDgdntdkY4m1SbYOuCwovuHAuubhtx9hrvXunttJTvT3isiFr+vfv36tf0NiFSpVAXoZeBIMxtuZt2BS4H4eDkgOrl53LgsKyLtL0kBcvedwJeBp4AVwC/dfXlLPzN27FjcPXQbN25ce7wNEWmjZCejuvtvgN+ken0RSU8zoUUkGRUgEUlGBUhEktGCZIlt2bKFuXPnhrKDBg0Kt7t69epwdsOGDaHc5MmTw23OmDEjnD377LPD2S1btoSzeS5LvGzZsnC2R48e4ewxxxwTyh188MHhNhcsWBDO7rfffuHslClTQrnbb7893GZrNAISkWRUgEQkGRUgEUlGBUhEklEBEpFkVIBEJBkVIBFJRvOAEtuxYwfr1++xEklJ5557brjdurq6cNaDS4y8/fbb4TYPPfTQcHbFihXhbJ6Fu4YPHx7O5lmXacmSJeFsdB7O8uUtnou9m4svvjicnTNnTjj7zjvvhHKbNm0Kt9kajYBEJBkVIBFJRgVIRJJRARKRZFSARCQZFSARSUYFSESSUQESkWQ0ETGxAQMGhBeCevbZZ8PtXnfddeHs2rVrQ7nnn38+3GZjY2M4W19fH85ajgtIjhgxIpzNs4DbJZdcEs726dMnlMtzZdY8n1eebPRqMtH3FKERkIgkowIkIsmoAIlIMipAIpJMkgJkZheZ2XIze9/MalP0QUTSSzUCWgZ8Bohdj0ZEOqUkh+HdfQXkO6QqIp2P9gGJSDIWXQ0vd8Nms4FDSjz1LXf/VSEzB7jO3Rc208ZUYGrh7khgZYnYAOCvObqWJ99c9nB3H5jjNXfT5H0dS7ZJmlrez7GS1Jc9dZR+AIx0997laKhiBSj04q0UoGAbC909vCM7Tz5v23ujPV6jmvoB6ktH7geUty/aBBORZFIdhp9oZuuAfwKeMLOnUvRDRNJKdRRsJjCzTM3NqGA+b9t7oz1eI6Kj9APUl1I6Sj+gjH1Jug9IRPZt2gckIsmoALUDMzvLzFaa2Soz+0aJ583MflR4fqmZjUnYl0mFPiw1sxfN7COp+lKUO9HMGs3ss6n6YWbjzWxx4RSi5yrRj0hfzKyPmf3azJYU+vKFCvXjHjN7x8xKThEp23fW3XWr4A2oAV4HPgx0B5YAo5tkzgGeBAw4CXgpYV8+ARxY+PfZKftSlHsW+A3w2USfSV/gj8DQwv2DEv5+vgl8v/DvgcDfgO4V6MupwBhgWTPPl+U7W7UjIDPraWYjW8mYmR22F23XmNlgMxu667b3PeVjwCp3X+3u24EHgAuaZC4A/tcz84G+ZjaoDa+5131x9xfd/e+Fu/OB+DWWy9yXgq8ADwOx6wZXph+fAx5x9z8DuHvKvjjQ27LzmPYnK0A7y90Rd59baLs5ZfnOVmUBMrPzgMXArML9j5rZY01znpXqR3O2/RXgbeAZ4InC7fE2dHcI8EbR/XWFx/JmyiHv63yR7K9cJbTaFzMbAkwEpleoD6F+AEcBB5rZHDOrM7PJCfvyY+BoYD3wB2Cau79fof60pCzf2WpdE/q7ZH8t5gC4+2IzG9ZMdr6ZnejuLwfbnkY21XxjG/u4S6kzbpseeoxk2qsvWdDsU2QF6JMV6Ee0L7cAX3f3xgqeuBzpR1dgLHA60BP4vZnNd/f/S9CXfyb743sacATwjJk97+6by9yX1pTlO1utBWinu78b/FJ+CviSma0BtpF9cO7uxzeTfwN4tyy9zKwDijcDDyX765U30159wcyOB+4Czi5jId6bvtQCDxR+zwOAc8xsp7vnGtWWoR/rgL+6+zZgm5nNBT4ClLsARfryBeC/C6P7VWb2J2AUsKDMfWlNeb6zldiZVukbcDfZdvlS4EjgNmB6M9nDS91K5L5WuN0NzANuKHrsa23oa1dgNTCcD3YsHtMk82l236G3oEKfW6QvQ4FVwCcq/DtstS9N8vdSmZ3Qkc/kaOC3heyHyE4ePjZRX/4H+G7h3wcDfwEGVOh3NIzmd0KX5TtbrSOgrwDfAhqA+4GngP8oFXT3tWb2SeBId/+pmQ0k23nX1K6ze/9cuHUv3KANm0PuvtPMvlzoYw1wj7svN7MvFZ6fTnaE5xyy//j1ZH/lyi7Yl28D/YHbCyOPnV6BkyCDfam4SD/cfYWZzSL7g/c+cJe7l30Fg+Bn8u/AvWb2B7L//F9397KfJW9mvwDGAwMKp019B+hW1I+yfGerbia0mdWQDUGvD+a/QzaUH+nuR5nZYOBBdz+5mfxF7v5ga4+JSNtV3VEwd28k2yEYNRE4n2z/D+6+ng9GO6XcEHxMRNqoWjfBFhUOuz9IobAAuPsjJbLb3d3NzAHMrFepBs3sbLIh5RAz+1HRUwdQgXkWIlK9BagfsJHsUOQuDpQqQL80szvIJkr9CzCF7AhPU+uBhWSjpbqix7cA15aj0yKyu6rbB7Q3zOxMYALZTrun3P2ZFrLd3H1Hu3VOZB9WlQXIzH5KiSNT7j6lRPb77v711h4reu5ksomOh5ONEHfNG/pwGbouIkWqtQBdWHS3B9mO5vXu/tUS2VfcfUyTx5Z6MxMRzexVsk2uOqBx1+NeuQl5IvusqtwH5O4PF98vzFmY3eSxK4GrgCPMbGnRU72BF1po/l13r9T5TyJSpCpHQE0Vzop/wt1HFD3WBzgQ+C+geF2VLe6+x1m+ReuZXEw2CewRsomOALj7KxXousg+rSoLkJltYfd9QG8BN5QYGXUBlrr7sYE2f9fC0+7up7XwvIjshWrdBAtdFM3d3y+sHDfUC2u5tJD9VHl6JyJRVVmACkeqFrv7NjP7PNnKbbe6+9oS8UHAcjNbwO6TFs9vpu2vlXj4XaDO3Re3vfcisku1boItJVsO4XjgZ2RnsH/G3ceVyO7xGIC7l1zX18zuJzt37NeFhz4NvEy25MGD7v6DNr8BEQGqtwC94u5jzOzbwF/c/e5Sh9v3su2ngAvdfWvh/v7AQ2SH+uvcfXRbX0NEMlV3MmrBFjO7Afg82ZVVaygsFdCUmZ1kZi+b2VYz227Z1RVaWj1uKLC96P4OsvWD3qPoqJiItF1V7gMCLiFbkOyL7v5WYdH4m5rJ/hi4lOzE1VpgMtkiZs25n2wZ118V7p8H/KJwEusfy9F5EclU5SZYHma20N1ri2c/m9mL7v6JFn5mLNlayAbMc/eF7dRdkX1KVY6AzOwksmVYjyZbtbAG2OrufUrE682sO7DYzH4AvAnssSSHmR3g7pvNrB/wp8Jt13P9Sk1eFJG2qcoRkJktpMRmlbt/s0T2cLJrSnUjO8erD3C7u69qknvc3c8tLPJd/KHoZFSRCqnaApR3sypH212AScBwd7+xsH9pkLu/1Na2RWR3VbkJRnCzCqDEiAaAFkY0PyFbePw04EayBckeBk4sQ79FpEi1FqDLyaYQfJlss+ow4MJmssVXdOgBXES2omJzPl6YY7QIwN3/Xih2IlJmVVmACpfa6Um2afS9VrJN1/G5xczmkV1+ppQdhXlFu9aQHkg2IhKRMqvKAlS4NvzNZEfAhpvZR4EbS53fVbTMBmSjplpavirGj4CZwEFm9p/AZ4F/K1ffReQD1boTuo5sH80cdz+h8FjJVQ4Ly2zsepM7gTXAzd7Cdb3NbBTZdcAN+K27ryjvOxARqNIREPmuDf84WQHaFXbg3F0/6+4/bPoD7v4q8Gp5uioizanWArTMzD4H1JjZkcBXgRebyY4lO4L1K7IidB4wF3ijPToqIs2r1k2wD5FdG35C4aGngH939z1OFjWzp8nObt9SuN+bbFmNs9qrvyJSWrWeDT+6cOtKdmj9ArI1e0ppenb7dmBYJTsnIjHVugn2c+A6YBmtHyL/GbDAzGaS7f+ZCNxX2e6JSES1boLNc/dP5siPAU4p3J3r7osq0zMRyaNaC9DpwGXAb9n90jmlrg0vIh1UtW6CfYFsjeZufLAJ5mTX8hKRKlGtBegj7n5c6k6ISNtU61Gw+WamxeFFqly17gNaARxBtmphAx8sGrbHqRgi0nFVawE6vNTjzVyYUEQ6qKosQCLSOVTrPiAR6QRUgEQkGRUgEUlGBUhEklEBEpFkVIBEJBkVIBFJRgVIRJJRARKRZP4fKHOfKbJE55oAAAAASUVORK5CYII=\n\"></div>"
     },
     "metadata": {},
     "output_type": "display_data"
    }
   ],
   "source": [
    "float_box = libfmp.b.FloatingBox()\n",
    "\n",
    "fig, ax = plt.subplots(2, 1, sharex=True, \n",
    "                       gridspec_kw={'height_ratios': [2, 1]}, figsize=(4, 3))\n",
    "ax[0].imshow(matrix, cmap='gray_r', aspect='auto', \n",
    "             extent=[-1, 5, 0, 1], alpha=0.5)\n",
    "ax[0].set_xlim([-1, 3])\n",
    "libfmp.b.plot_annotation_multiline(ann, ax=ax[1], label_keys=label_keys,\n",
    "                                   sort_labels=['measure', 'quarter', 'eighth'],\n",
    "                                   time_min=-1, time_max=3)\n",
    "plt.tight_layout()\n",
    "float_box.add_fig(fig)\n",
    "\n",
    "fig, ax = plt.subplots(1, 2, sharey=True, gridspec_kw={'width_ratios': [2, 10]}, \n",
    "                       figsize=(4, 3))\n",
    "ax[1].imshow(matrix, cmap='gray_r', aspect='auto', extent=[0, 1, -1, 3], alpha=0.5)\n",
    "ax[1].set_ylim([-1, 5])\n",
    "libfmp.b.plot_annotation_multiline(ann, ax=ax[0], label_keys=label_keys, sort_labels=['measure', 'quarter', 'eighth'],\n",
    "                     direction='vertical', time_min=-1, time_max=3)\n",
    "plt.tight_layout()\n",
    "float_box.add_fig(fig)\n",
    "\n",
    "float_box.show()"
   ]
  },
  {
   "cell_type": "markdown",
   "metadata": {},
   "source": [
    "## Segment Annotations\n",
    "\n",
    "A second type of annotation we regularly encounter in the FMP notebooks are **segment annotations**, where each instance consists of two numerical values and a label. Typically, the two numerical values encode the start and end positions (given in seconds) of a time interval and the label assigns to this time interval a semantic category. For example, in [chord recognition](../C5/C5.html), the segments specify time intervals of a music recording and the labels specify musical [chords](../C5/C5S1_Chords.html) such as $\\mathrm{C}$-major or a $\\mathrm{E}^\\flat$-minor chord. Or, in [music structure analysis](../C4/C4.html), the segments encode [musical parts](../C4/C4S1_MusicStructureGeneral.html), which are typically labeled by capital letters $A,B,C, \\ldots$ in the order of their first occurrence. In the following code cell, we generate a toy example of such a segment annotation, which serves as our running example. "
   ]
  },
  {
   "cell_type": "code",
   "execution_count": 8,
   "metadata": {
    "execution": {
     "iopub.execute_input": "2023-01-13T13:39:51.114300Z",
     "iopub.status.busy": "2023-01-13T13:39:51.114097Z",
     "iopub.status.idle": "2023-01-13T13:39:51.122761Z",
     "shell.execute_reply": "2023-01-13T13:39:51.122005Z"
    },
    "ExecuteTime": {
     "start_time": "2023-05-08T16:57:09.292053Z",
     "end_time": "2023-05-08T16:57:09.346754Z"
    }
   },
   "outputs": [
    {
     "name": "stdout",
     "output_type": "stream",
     "text": [
      "=== Dummy annotation ===\n",
      "[(0, 8, 'A'), (8, 16, 'A'), (16, 24, 'B'), (27, 33, 'C'), (33, 40, 'C'), (40, 48, 'B')]\n",
      "\n",
      "=== Dummy annotation in CSV format ===\n",
      "\"start\";\"end\";\"label\"\n",
      "0;8;\"A\"\n",
      "8;16;\"A\"\n",
      "16;24;\"B\"\n",
      "27;33;\"C\"\n",
      "33;40;\"C\"\n",
      "40;48;\"B\"\n",
      "\n",
      "=== Dummy annotation stored as DataFrame and rendered as HTML ===\n"
     ]
    },
    {
     "data": {
      "text/plain": "<IPython.core.display.HTML object>",
      "text/html": "<table border=\"1\" class=\"dataframe\">\n  <thead>\n    <tr style=\"text-align: right;\">\n      <th></th>\n      <th>start</th>\n      <th>end</th>\n      <th>label</th>\n    </tr>\n  </thead>\n  <tbody>\n    <tr>\n      <th>0</th>\n      <td>0</td>\n      <td>8</td>\n      <td>A</td>\n    </tr>\n    <tr>\n      <th>1</th>\n      <td>8</td>\n      <td>16</td>\n      <td>A</td>\n    </tr>\n    <tr>\n      <th>2</th>\n      <td>16</td>\n      <td>24</td>\n      <td>B</td>\n    </tr>\n    <tr>\n      <th>3</th>\n      <td>27</td>\n      <td>33</td>\n      <td>C</td>\n    </tr>\n    <tr>\n      <th>4</th>\n      <td>33</td>\n      <td>40</td>\n      <td>C</td>\n    </tr>\n    <tr>\n      <th>5</th>\n      <td>40</td>\n      <td>48</td>\n      <td>B</td>\n    </tr>\n  </tbody>\n</table>"
     },
     "metadata": {},
     "output_type": "display_data"
    }
   ],
   "source": [
    "ann = [(0, 8, 'A'), (8, 16, 'A'), (16, 24, 'B'), \n",
    "       (27, 33, 'C'), (33, 40, 'C'),  (40, 48, 'B')]\n",
    "print('=== Dummy annotation ===')\n",
    "print(ann)\n",
    "\n",
    "# Convert to DataFrame and CSV format (as used for the FMP notebooks)\n",
    "ann_df = pd.DataFrame(ann, columns=['start', 'end', 'label'])\n",
    "ann_csv = ann_df.to_csv(sep=';', index=False, quoting=2)\n",
    "print('\\n=== Dummy annotation in CSV format ===')\n",
    "print(ann_csv)\n",
    "print('=== Dummy annotation stored as DataFrame and rendered as HTML ===')\n",
    "ipd.display(ipd.HTML(ann_df.to_html()))\n",
    "\n",
    "# Store and load annotation file \n",
    "#fn_out = os.path.join('..', 'output', 'B', 'FMP_annotation_segment_dummy.csv')\n",
    "#ann_df.to_csv(fn_out, sep=';', index=False, quoting=2)\n",
    "#ann_df = pd.read_csv(fn_out, sep=';')\n",
    "#ann = [(start, end, label) for i, (start, end, label) in df.iterrows()]"
   ]
  },
  {
   "cell_type": "markdown",
   "metadata": {},
   "source": [
    "The function `libfmp.b.plot_segments` allows for plotting segment annotations, where each label type is assigned to an individual color. In the following code cell, we visualize the segment annotations with default colors and colors that are defined via a dictionary."
   ]
  },
  {
   "cell_type": "code",
   "execution_count": 9,
   "metadata": {
    "execution": {
     "iopub.execute_input": "2023-01-13T13:39:51.126125Z",
     "iopub.status.busy": "2023-01-13T13:39:51.125829Z",
     "iopub.status.idle": "2023-01-13T13:39:51.328172Z",
     "shell.execute_reply": "2023-01-13T13:39:51.327615Z"
    },
    "ExecuteTime": {
     "start_time": "2023-05-08T16:57:09.399382Z",
     "end_time": "2023-05-08T16:57:09.770691Z"
    }
   },
   "outputs": [
    {
     "data": {
      "text/plain": "<Figure size 432x72 with 1 Axes>",
      "image/png": "[encoded data removed]"
     },
     "metadata": {
      "needs_background": "light"
     },
     "output_type": "display_data"
    },
    {
     "data": {
      "text/plain": "<Figure size 432x72 with 1 Axes>",
      "image/png": "[encoded data removed]"
     },
     "metadata": {
      "needs_background": "light"
     },
     "output_type": "display_data"
    }
   ],
   "source": [
    "fig, ax = libfmp.b.plot_segments(ann)\n",
    "\n",
    "color_ann = {'A': [1, 0, 0, 0.2], 'B': [0, 1, 0, 0.2], \n",
    "             'C': [0, 0, 1, 0.2], '': [1, 1, 1, 0.2]}\n",
    "\n",
    "fig, ax = libfmp.b.plot_segments(ann, colors = color_ann)"
   ]
  },
  {
   "cell_type": "markdown",
   "metadata": {},
   "source": [
    "Next, we visualize the segment annotations horizontally aligned to a matrix, once in vertical direction and once in horizontal direction."
   ]
  },
  {
   "cell_type": "code",
   "execution_count": 10,
   "metadata": {
    "execution": {
     "iopub.execute_input": "2023-01-13T13:39:51.330933Z",
     "iopub.status.busy": "2023-01-13T13:39:51.330727Z",
     "iopub.status.idle": "2023-01-13T13:39:51.518784Z",
     "shell.execute_reply": "2023-01-13T13:39:51.518229Z"
    },
    "ExecuteTime": {
     "start_time": "2023-05-08T16:57:09.764647Z",
     "end_time": "2023-05-08T16:57:10.004050Z"
    }
   },
   "outputs": [
    {
     "data": {
      "text/plain": "<IPython.core.display.HTML object>",
      "text/html": "\n        <style>\n        .floating-box-fmp-3480a94f-6d19-4e57-81cb-63ad0300f126 {\n        display: inline-block;\n        margin: 10px;\n        vertical-align: middle;\n        }\n        </style>\n        <div class=\"floating-box-fmp-3480a94f-6d19-4e57-81cb-63ad0300f126\"><img src=\"data:image/png;base64,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\n\"></div><div class=\"floating-box-fmp-3480a94f-6d19-4e57-81cb-63ad0300f126\"><img src=\"data:image/png;base64,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\n\"></div>"
     },
     "metadata": {},
     "output_type": "display_data"
    }
   ],
   "source": [
    "float_box = libfmp.b.FloatingBox()\n",
    "\n",
    "# Horizontal alignment\n",
    "fig, ax = plt.subplots(2, 1, sharex=True, \n",
    "                       gridspec_kw={'height_ratios': [4, 1]}, figsize=(3.5, 2.5))\n",
    "ax[0].imshow(matrix, cmap='gray_r', aspect='auto', extent=[-2, 50, 0, 1])\n",
    "libfmp.b.plot_segments(ann, ax=ax[1], time_min=-2, time_max=50)\n",
    "plt.tight_layout()\n",
    "float_box.add_fig(fig)\n",
    "\n",
    "# Vertical alignment\n",
    "fig, ax = plt.subplots(1, 2, sharey=True, figsize=(3.5, 2.5),\n",
    "                       gridspec_kw={'width_ratios': [1, 10]})\n",
    "ax[1].imshow(matrix, cmap='gray_r', aspect='auto', extent=[0, 1, -2, 50])\n",
    "libfmp.b.plot_segments(ann, ax=ax[0], direction='vertical', time_min=-2, time_max=50)\n",
    "plt.tight_layout()\n",
    "float_box.add_fig(fig)\n",
    "\n",
    "float_box.show()"
   ]
  },
  {
   "cell_type": "markdown",
   "metadata": {},
   "source": [
    "One may also apply the alignment in both directions."
   ]
  },
  {
   "cell_type": "code",
   "execution_count": 11,
   "metadata": {
    "execution": {
     "iopub.execute_input": "2023-01-13T13:39:51.521647Z",
     "iopub.status.busy": "2023-01-13T13:39:51.521435Z",
     "iopub.status.idle": "2023-01-13T13:39:51.885529Z",
     "shell.execute_reply": "2023-01-13T13:39:51.884980Z"
    },
    "ExecuteTime": {
     "start_time": "2023-05-08T16:57:10.008797Z",
     "end_time": "2023-05-08T16:57:10.855796Z"
    }
   },
   "outputs": [
    {
     "data": {
      "text/plain": "<Figure size 360x216 with 4 Axes>",
      "image/png": "[encoded data removed]"
     },
     "metadata": {
      "needs_background": "light"
     },
     "output_type": "display_data"
    }
   ],
   "source": [
    "fig, ax = plt.subplots(2, 2,  figsize=(5, 3), sharex='col', sharey='row',\n",
    "                       gridspec_kw={'height_ratios': [6, 1], 'width_ratios': [1, 12]})\n",
    "ax[0, 1].imshow(matrix, cmap='gray_r', aspect='auto', extent=[-2, 50, -2, 50])\n",
    "libfmp.b.plot_segments(ann, ax=ax[1, 1], time_min=-2, time_max=50)\n",
    "libfmp.b.plot_segments(ann, ax=ax[0, 0], direction='vertical', time_min=-2, time_max=50)\n",
    "ax[1, 0].axis('off')\n",
    "plt.tight_layout()"
   ]
  },
  {
   "cell_type": "markdown",
   "metadata": {},
   "source": [
    "The function `libfmp.b.plot_segments_overlay` is provided for overlaying segment annotations with image plots. Among others, one can set a parameter (`alpha`) for controlling the transparency of the annotations' visualization and parameters (`print_labels`, `label_ticks`) for removing and placing labels. The next code cell shows some settings."
   ]
  },
  {
   "cell_type": "code",
   "execution_count": 12,
   "metadata": {
    "execution": {
     "iopub.execute_input": "2023-01-13T13:39:51.888489Z",
     "iopub.status.busy": "2023-01-13T13:39:51.888294Z",
     "iopub.status.idle": "2023-01-13T13:39:52.301583Z",
     "shell.execute_reply": "2023-01-13T13:39:52.300819Z"
    },
    "ExecuteTime": {
     "start_time": "2023-05-08T16:57:10.669284Z",
     "end_time": "2023-05-08T16:57:11.636857Z"
    }
   },
   "outputs": [
    {
     "data": {
      "text/plain": "<Figure size 576x180 with 3 Axes>",
      "image/png": "[encoded data removed]"
     },
     "metadata": {
      "needs_background": "light"
     },
     "output_type": "display_data"
    }
   ],
   "source": [
    "fig, ax = plt.subplots(1, 3, figsize=(8, 2.5))\n",
    "ax[0].imshow(matrix, cmap='gray_r', aspect='auto', extent=[-2, 50, 0, 1])\n",
    "libfmp.b.plot_segments_overlay(ann, ax=ax[0], time_min=-2, time_max=50, alpha=0.8)\n",
    "\n",
    "ax[1].imshow(matrix, cmap='gray_r', aspect='auto', extent=[-2, 50, 0, 1])\n",
    "libfmp.b.plot_segments_overlay(ann, ax=ax[1], time_min=-2, time_max=50,\n",
    "                               print_labels=False, alpha=0.3)\n",
    "\n",
    "ax[2].imshow(matrix, cmap='gray_r', aspect='auto', extent=[-2, 50, 0, 1])\n",
    "libfmp.b.plot_segments_overlay(ann, ax=ax[2], time_min=-2, time_max=50,\n",
    "                               label_ticks=True, alpha=0.5)\n",
    "plt.tight_layout()"
   ]
  },
  {
   "cell_type": "markdown",
   "metadata": {},
   "source": [
    "One may also overlay several horizontally and vertically aligned annotations. This is demonstrated by the next example."
   ]
  },
  {
   "cell_type": "code",
   "execution_count": 13,
   "metadata": {
    "execution": {
     "iopub.execute_input": "2023-01-13T13:39:52.304967Z",
     "iopub.status.busy": "2023-01-13T13:39:52.304691Z",
     "iopub.status.idle": "2023-01-13T13:39:52.556950Z",
     "shell.execute_reply": "2023-01-13T13:39:52.556343Z"
    },
    "ExecuteTime": {
     "start_time": "2023-05-08T16:57:11.555709Z",
     "end_time": "2023-05-08T16:57:11.986431Z"
    }
   },
   "outputs": [
    {
     "data": {
      "text/plain": "<Figure size 432x288 with 4 Axes>",
      "image/png": "[encoded data removed]"
     },
     "metadata": {
      "needs_background": "light"
     },
     "output_type": "display_data"
    }
   ],
   "source": [
    "ann_v = [(0.1, 0.2, 'X'), (0.2, 0.38, 'Y'), (0.4, 0.5, 'X'), (0.6, 0.7, 'X'), (0.7, 0.88, 'Y')]\n",
    "color_ann_v = {'X': [1, 0, 0, 1], 'Y': [1, 1, 0, 1], '': [1, 1, 1, 1]}\n",
    "\n",
    "fig, ax = plt.subplots(2, 2, figsize=(6, 4),\n",
    "                       gridspec_kw={'height_ratios': [8, 1], 'width_ratios': [1, 12]})\n",
    "ax[0,1].imshow(matrix, cmap='gray_r', aspect='auto', extent=[-10, 60, 0, 1])\n",
    "libfmp.b.plot_segments_overlay(ann, ax=ax[0, 1], time_min=-10, time_max=60, \n",
    "                               label_ticks=True, print_labels=False, alpha=0.6)\n",
    "libfmp.b.plot_segments_overlay(ann_v, colors=color_ann_v, ax=ax[0, 1], time_min=0, time_max=1,  \n",
    "                               direction='vertical', label_ticks=True, \n",
    "                               print_labels=False, alpha=0.4)\n",
    "libfmp.b.plot_segments(ann, ax=ax[1, 1], time_min=-10, time_max=60)\n",
    "libfmp.b.plot_segments(ann_v, ax=ax[0, 0], colors=color_ann_v, \n",
    "                       direction='vertical', time_min=0, time_max=1)\n",
    "ax[1,0].axis('off');"
   ]
  },
  {
   "cell_type": "markdown",
   "metadata": {},
   "source": [
    "<div class=\"alert\" style=\"background-color:#F5F5F5; border-color:#C8C8C8\">\n",
    "<strong>Acknowledgment:</strong> This notebook was created by <a href=\"https://www.audiolabs-erlangen.de/fau/assistant/zalkow\">Frank Zalkow</a> and <a href=\"https://www.audiolabs-erlangen.de/fau/professor/mueller\">Meinard Müller</a>.\n",
    "</div>"
   ]
  },
  {
   "cell_type": "markdown",
   "metadata": {},
   "source": [
    "<table style=\"border:none\">\n",
    "<tr style=\"border:none\">\n",
    "    <td style=\"min-width:50px; border:none\" bgcolor=\"white\"><a href=\"../C0/C0.html\"><img src=\"../data/C0_nav.png\" style=\"height:50px\" alt=\"C0\"></a></td>\n",
    "    <td style=\"min-width:50px; border:none\" bgcolor=\"white\"><a href=\"../C1/C1.html\"><img src=\"../data/C1_nav.png\" style=\"height:50px\" alt=\"C1\"></a></td>\n",
    "    <td style=\"min-width:50px; border:none\" bgcolor=\"white\"><a href=\"../C2/C2.html\"><img src=\"../data/C2_nav.png\" style=\"height:50px\" alt=\"C2\"></a></td>\n",
    "    <td style=\"min-width:50px; border:none\" bgcolor=\"white\"><a href=\"../C3/C3.html\"><img src=\"../data/C3_nav.png\" style=\"height:50px\" alt=\"C3\"></a></td>\n",
    "    <td style=\"min-width:50px; border:none\" bgcolor=\"white\"><a href=\"../C4/C4.html\"><img src=\"../data/C4_nav.png\" style=\"height:50px\" alt=\"C4\"></a></td>\n",
    "    <td style=\"min-width:50px; border:none\" bgcolor=\"white\"><a href=\"../C5/C5.html\"><img src=\"../data/C5_nav.png\" style=\"height:50px\" alt=\"C5\"></a></td>\n",
    "    <td style=\"min-width:50px; border:none\" bgcolor=\"white\"><a href=\"../C6/C6.html\"><img src=\"../data/C6_nav.png\" style=\"height:50px\" alt=\"C6\"></a></td>\n",
    "    <td style=\"min-width:50px; border:none\" bgcolor=\"white\"><a href=\"../C7/C7.html\"><img src=\"../data/C7_nav.png\" style=\"height:50px\" alt=\"C7\"></a></td>\n",
    "    <td style=\"min-width:50px; border:none\" bgcolor=\"white\"><a href=\"../C8/C8.html\"><img src=\"../data/C8_nav.png\" style=\"height:50px\" alt=\"C8\"></a></td>\n",
    "</tr>\n",
    "</table>"
   ]
  }
 ],
 "metadata": {
  "kernelspec": {
   "display_name": "Python 3",
   "language": "python",
   "name": "python3"
  },
  "language_info": {
   "codemirror_mode": {
    "name": "ipython",
    "version": 3
   },
   "file_extension": ".py",
   "mimetype": "text/x-python",
   "name": "python",
   "nbconvert_exporter": "python",
   "pygments_lexer": "ipython3",
   "version": "3.7.15"
  }
 },
 "nbformat": 4,
 "nbformat_minor": 2
}
